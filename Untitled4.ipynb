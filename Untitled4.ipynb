{
 "cells": [
  {
   "cell_type": "code",
   "execution_count": 7,
   "metadata": {
    "collapsed": false
   },
   "outputs": [
    {
     "name": "stdout",
     "output_type": "stream",
     "text": [
      "step 1:  0 ;  2.0\n",
      "step 2:  1.0 ;  2.0\n",
      "step 3:  1.0 ;  1.5\n"
     ]
    }
   ],
   "source": [
    "\n",
    "def f(x):\n",
    "    return (8-11)*x**2+5*x+1\n",
    "\n",
    "int=[0,4]\n",
    "\n",
    "begin=0;end=4\n",
    "\n",
    "c=(begin+end)/2\n",
    "x1=(begin+c)/2; x2=(c+end)/2\n",
    "fc=f(c); fx1=f(x1); fx2=f(x2)\n",
    "if fc > fx1:\n",
    "    begin, end = c, end\n",
    "elif fc > fx2:\n",
    "    begin, end = begin, c\n",
    "else:\n",
    "    begin, end = x1, x2\n",
    "print('step 1: ',begin,'; ',end)\n",
    "\n",
    "c=(begin+end)/2\n",
    "x1=(begin+c)/2; x2=(c+end)/2\n",
    "fc=f(c); fx1=f(x1); fx2=f(x2)\n",
    "if fc > fx1:\n",
    "    begin, end = c, end\n",
    "elif fc > fx2:\n",
    "    begin, end = begin, c\n",
    "else:\n",
    "    begin, end = x1, x2\n",
    "print('step 2: ',begin,'; ',end)\n",
    "\n",
    "c=(begin+end)/2\n",
    "x1=(begin+c)/2; x2=(c+end)/2\n",
    "fc=f(c); fx1=f(x1); fx2=f(x2)\n",
    "if fc > fx1:\n",
    "    begin, end = c, end\n",
    "elif fc > fx2:\n",
    "    begin, end = begin, c\n",
    "else:\n",
    "    begin, end = x1, x2\n",
    "print('step 3: ',begin,'; ',end)\n"
   ]
  },
  {
   "cell_type": "code",
   "execution_count": null,
   "metadata": {
    "collapsed": true
   },
   "outputs": [],
   "source": []
  }
 ],
 "metadata": {
  "kernelspec": {
   "display_name": "Python 3",
   "language": "python",
   "name": "python3"
  },
  "language_info": {
   "codemirror_mode": {
    "name": "ipython",
    "version": 3
   },
   "file_extension": ".py",
   "mimetype": "text/x-python",
   "name": "python",
   "nbconvert_exporter": "python",
   "pygments_lexer": "ipython3",
   "version": "3.5.3"
  }
 },
 "nbformat": 4,
 "nbformat_minor": 2
}
