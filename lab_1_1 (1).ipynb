
import numpy as np
from mpl_toolkits.mplot3d import Axes3D
import matplotlib.pyplot as plt
from sympy import *
import math as m

def fun(x,y,a,b,c):
    return m.sqrt((x - 0) ** 2 + (0 - a) ** 2) + m.sqrt((y - x) ** 2 + (4 - 0) ** 2) + m.sqrt((c - y) ** 2 + (b - 4) **2)

def f(x,a=2,b=1,c=5):
    return m.sqrt((x[0] - 0) ** 2 + (0 - a) ** 2) + m.sqrt((x[1] - x[0]) ** 2 + (4 - 0) ** 2) + m.sqrt(
        (c - x[1]) ** 2 + (b - 4) ** 2)

def Extr(a, b, c):
    x1, x2 = symbols('x1 x2', positive = True)
    L=sqrt((x1-0)**2 + (0-a)**2)+sqrt((x2-x1)**2+(4-0)**2)+sqrt((c-x2)**2+(b-4)**2)
    L_dif_1 = diff(L,x1)
    L_dif_2 = diff(L,x2)
    extr = solve([L_dif_1,L_dif_2],x1,x2)
    print("x1 равен  :", extr[0][0].evalf(3))
    print("x2 равен  :", extr[0][1].evalf(3))
    L_dif_dif_1 = diff(L_dif_1,x1)
    L_dif_dif_2 = diff(L_dif_2,x2)
    if (L_dif_dif_1.subs({x1 : extr[0][0], x2 : extr[0][1]}).evalf(3) > 0) and (L_dif_dif_2.subs({x1 : extr[0][0], x2 : extr[0][1]}).evalf(3) > 0):
        print("          : min")
    else:
        print("          : max")
    return ([extr[0][0].evalf(3), extr[0][1].evalf(3)])
a = int(input("вветите a : "))
b = int(input("вветите b : "))
c = int(input("вветите c : "))
val=Extr(a,b,c)
fig = plt.figure()
ax = fig.add_subplot(111, projection='3d')
x = y = np.arange(-2.0, 10.0, 0.05)
X, Y = np.meshgrid(x, y)
zs = np.array([fun(x,y,a,b,c) for x,y in zip(np.ravel(X), np.ravel(Y))])
Z = zs.reshape(X.shape)
ax.plot_surface(X, Y, Z)
ax.set_xlabel('x1 Label')
ax.set_ylabel('x2 Label')
plt.show()
X_0 = [0, val[0], val[1], c]
Y_1 = [a, 0, 4, b]
Y_2 = [4, 4, 4, 4]
Y_3 = [0, 0, 0, 0]
line_10, line_20, line_30 = plt.plot(X_0, Y_1, X_0, Y_2, X_0, Y_3)
plt.axis([0, 6, 0, 6])
plt.title(u'Задача про волка')
plt.xlabel(u'x1')
plt.ylabel(u'x2')
plt.legend( (line_10, line_20, line_30), (u'Путь волка', u'Мертвая вода', u':Живая вода',), loc = 'best')
plt.grid()
plt.savefig('Volk.png', format = 'png')

import scipy.optimize as optimize

res=optimize.minimize(f,[1,1])
print(res)