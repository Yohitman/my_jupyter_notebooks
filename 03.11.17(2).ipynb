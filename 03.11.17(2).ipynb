{
 "cells": [
  {
   "cell_type": "code",
   "execution_count": null,
   "metadata": {
    "collapsed": true
   },
   "outputs": [],
   "source": [
    "import sympy as sp\n",
    "import numpy as np\n",
    "import pylab as plb\n",
    "import math\n",
    "from mpl_toolkits.mplot3d import *\n",
    "from IPython.display import display, Latex\n",
    "import matplotlib\n",
    "import matplotlib.pyplot as plt\n",
    "sp.init_printing()\n",
    "def _display(prefix, a):\n",
    "    display(Latex(' '.join(['$$', prefix, '=', sp.printing.latex(a),' \\\\$$'])))\n",
    "x, y, lya = sp.symbols('x, y, lya')\n",
    "Q = (((x**2)*y*(math.sqrt(3)))*0.25 - lya*(3*x*y + ((x**2)*(math.sqrt(3))/4) - 8))\n",
    "display('L=',Q)\n",
    "Ld1 = Q.diff(x)\n",
    "Ld2 = Q.diff(y)\n",
    "Ld3 = Q.diff(lya)\n",
    "display('dL/dx1',Ld1)\n",
    "display('dL/dx2',Ld2)\n",
    "display('dL/dl',Ld3)\n",
    "solutions=sp.solve([Ld1,Ld2,Ld3],[x,y,lya])\n",
    "for no,solution in enumerate(solutions):\n",
    "    print('Решение',no,': x1,x2=')\n",
    "    display(solution)\n",
    "%matplotlib inline\n",
    "Alist = np.linspace(0, 5, 50)\n",
    "Blist = np.linspace(0, 3, 50)\n",
    "A, B = np.meshgrid(Alist, Blist)\n",
    "z = ((A**2)*B*(sp.sqrt(3)))*0.25\n",
    "fig = plt.figure()\n",
    "cp = plt.contour(A, B, z, 20)\n",
    "S = (3*A*B + ((A**2)*(math.sqrt(3))/4))\n",
    "plt.contour(A, B, S, [8])\n",
    "plt.grid()\n",
    "plt.show()"
   ]
  }
 ],
 "metadata": {
  "kernelspec": {
   "display_name": "Python 3",
   "language": "python",
   "name": "python3"
  },
  "language_info": {
   "codemirror_mode": {
    "name": "ipython",
    "version": 3
   },
   "file_extension": ".py",
   "mimetype": "text/x-python",
   "name": "python",
   "nbconvert_exporter": "python",
   "pygments_lexer": "ipython3",
   "version": "3.5.3"
  }
 },
 "nbformat": 4,
 "nbformat_minor": 2
}
