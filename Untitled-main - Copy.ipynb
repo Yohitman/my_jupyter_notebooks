{
 "cells": [
  {
   "cell_type": "code",
   "execution_count": 358,
   "metadata": {
    "collapsed": false
   },
   "outputs": [],
   "source": [
    "import numpy as np\n",
    "import cv2\n",
    "#import skimage\n",
    "\n",
    "%matplotlib notebook\n",
    "from IPython.display import display\n",
    "from scipy.misc import toimage\n",
    "from matplotlib import pyplot as plt\n",
    "from operator import itemgetter\n",
    "from typing import List,Tuple\n",
    "from time import time\n",
    "from PIL import Image,ImageOps\n",
    "from keras.models import load_model\n",
    "from io import StringIO\n",
    "infinity=-np.iinfo(np.int64).max\n",
    "glyph_names=['period', 'left_paren', 'question', 'comma', 'dash', 'colon', 'right_paren',\n",
    "       'semicolon', 'exclamation', 'left_quote', 'left_quote_1', 'right_quote', 'right_quote_1',\n",
    "       '1', '2', '3', '4', '5', '6', '7', '8', '9', '0', \n",
    "       'А', 'Б', 'В', 'Г', 'Д', 'Е', 'Ж', 'З', 'И', 'Й', 'К', 'Л', 'М', 'Н', 'О', 'П', 'Р', 'С', 'Т',\n",
    "       'У', 'Ф', 'Х', 'Ц', 'Ч', 'Ш', 'Щ', 'Ъ', 'Ы', 'Ы_1', 'Ь', 'Э', 'Ю', 'Я', \n",
    "       'а_', 'б_', 'е_', 'ф_']\n",
    "glyph_symbols=['.', '(', '?', ',', '-', ':', ')', ';', '!', '«', '<', '»', '>',\n",
    "       '1', '2', '3', '4', '5', '6', '7', '8', '9', '0', \n",
    "       'А', 'Б', 'В', 'Г', 'Д', 'Е', 'Ж', 'З', 'И', 'Й', 'К', 'Л', 'М', 'Н', 'О', 'П', 'Р', 'С', 'Т',\n",
    "       'У', 'Ф', 'Х', 'Ц', 'Ч', 'Ш', 'Щ', 'Ъ', 'Ы', '|', 'Ь', 'Э', 'Ю', 'Я', \n",
    "       'а', 'б', 'е', 'ф']"
   ]
  },
  {
   "cell_type": "code",
   "execution_count": 148,
   "metadata": {
    "collapsed": false
   },
   "outputs": [
    {
     "data": {
      "text/plain": [
       "-9223372036854775807"
      ]
     },
     "execution_count": 148,
     "metadata": {},
     "output_type": "execute_result"
    }
   ],
   "source": [
    "infinity"
   ]
  },
  {
   "cell_type": "code",
   "execution_count": 134,
   "metadata": {
    "collapsed": true
   },
   "outputs": [],
   "source": [
    "nn_model=load_model(r'D:\\WinPython-64bit-3.5.3.0Qt5\\model1.h5')"
   ]
  },
  {
   "cell_type": "code",
   "execution_count": 3,
   "metadata": {
    "collapsed": false,
    "scrolled": true
   },
   "outputs": [
    {
     "name": "stdout",
     "output_type": "stream",
     "text": [
      "(0, '.', 'period')\n",
      "(1, '(', 'left_paren')\n",
      "(2, '?', 'question')\n",
      "(3, ',', 'comma')\n",
      "(4, '-', 'dash')\n",
      "(5, ':', 'colon')\n",
      "(6, ')', 'right_paren')\n",
      "(7, ';', 'semicolon')\n",
      "(8, '!', 'exclamation')\n",
      "(9, '«', 'left_quote')\n",
      "(10, '<', 'left_quote_1')\n",
      "(11, '»', 'right_quote')\n",
      "(12, '>', 'right_quote_1')\n",
      "(13, '1', '1')\n",
      "(14, '2', '2')\n",
      "(15, '3', '3')\n",
      "(16, '4', '4')\n",
      "(17, '5', '5')\n",
      "(18, '6', '6')\n",
      "(19, '7', '7')\n",
      "(20, '8', '8')\n",
      "(21, '9', '9')\n",
      "(22, '0', '0')\n",
      "(23, 'А', 'А')\n",
      "(24, 'Б', 'Б')\n",
      "(25, 'В', 'В')\n",
      "(26, 'Г', 'Г')\n",
      "(27, 'Д', 'Д')\n",
      "(28, 'Е', 'Е')\n",
      "(29, 'Ж', 'Ж')\n",
      "(30, 'З', 'З')\n",
      "(31, 'И', 'И')\n",
      "(32, 'Й', 'Й')\n",
      "(33, 'К', 'К')\n",
      "(34, 'Л', 'Л')\n",
      "(35, 'М', 'М')\n",
      "(36, 'Н', 'Н')\n",
      "(37, 'О', 'О')\n",
      "(38, 'П', 'П')\n",
      "(39, 'Р', 'Р')\n",
      "(40, 'С', 'С')\n",
      "(41, 'Т', 'Т')\n",
      "(42, 'У', 'У')\n",
      "(43, 'Ф', 'Ф')\n",
      "(44, 'Х', 'Х')\n",
      "(45, 'Ц', 'Ц')\n",
      "(46, 'Ч', 'Ч')\n",
      "(47, 'Ш', 'Ш')\n",
      "(48, 'Щ', 'Щ')\n",
      "(49, 'Ъ', 'Ъ')\n",
      "(50, 'Ы', 'Ы')\n",
      "(51, '|', 'Ы_1')\n",
      "(52, 'Ь', 'Ь')\n",
      "(53, 'Э', 'Э')\n",
      "(54, 'Ю', 'Ю')\n",
      "(55, 'Я', 'Я')\n",
      "(56, 'а', 'а_')\n",
      "(57, 'б', 'б_')\n",
      "(58, 'е', 'е_')\n",
      "(59, 'ф', 'ф_')\n"
     ]
    }
   ],
   "source": [
    "for i in zip(range(100000),glyph_symbols,glyph_names):\n",
    "    print(i)"
   ]
  },
  {
   "cell_type": "code",
   "execution_count": 4,
   "metadata": {
    "collapsed": true
   },
   "outputs": [],
   "source": [
    "def unique_rows(arr:np.ndarray):\n",
    "    np.fromiter((hash(str(row)) for row in testarr),np.intp)"
   ]
  },
  {
   "cell_type": "code",
   "execution_count": 5,
   "metadata": {
    "collapsed": false
   },
   "outputs": [],
   "source": [
    "def rotate_img(img: np.ndarray,angle: float) -> np.ndarray:\n",
    "    rows,cols=img.shape[0:2]\n",
    "    r_mat=cv2.getRotationMatrix2D((rows/2,cols/2),angle,1)\n",
    "    return cv2.warpAffine(img,r_mat,(cols,rows))"
   ]
  },
  {
   "cell_type": "code",
   "execution_count": 6,
   "metadata": {
    "collapsed": true
   },
   "outputs": [],
   "source": [
    "def binarize(img: np.ndarray) -> np.ndarray:\n",
    "    average=np.average(img)*2\n",
    "    return (img>average).astype(np.uint8)*255"
   ]
  },
  {
   "cell_type": "code",
   "execution_count": 7,
   "metadata": {
    "collapsed": false
   },
   "outputs": [
    {
     "name": "stderr",
     "output_type": "stream",
     "text": [
      "D:\\WinPython-64bit-3.5.3.0Qt5\\python-3.5.3.amd64\\lib\\site-packages\\numpy\\core\\numeric.py:301: FutureWarning: in the future, full((3,), 1) will return an array of dtype('int32')\n",
      "  format(shape, fill_value, array(fill_value).dtype), FutureWarning)\n"
     ]
    }
   ],
   "source": [
    "def convolve_1d(arr: np.ndarray,kernel=np.full((3,),1)) -> np.ndarray:\n",
    "    size=len(kernel)\n",
    "    stack=np.stack([arr[i:-(size-1-i)] for i in range(size-1)]+[arr[size-1:]])\n",
    "    pad_width=(int(np.round((size-1)/2)),int(np.floor((size-1)/2)))\n",
    "    return np.pad(np.max(stack,axis=0),pad_width,'edge')"
   ]
  },
  {
   "cell_type": "code",
   "execution_count": 8,
   "metadata": {
    "collapsed": false
   },
   "outputs": [
    {
     "name": "stderr",
     "output_type": "stream",
     "text": [
      "D:\\WinPython-64bit-3.5.3.0Qt5\\python-3.5.3.amd64\\lib\\site-packages\\numpy\\core\\numeric.py:301: FutureWarning: in the future, full((3,), 1) will return an array of dtype('int32')\n",
      "  format(shape, fill_value, array(fill_value).dtype), FutureWarning)\n"
     ]
    }
   ],
   "source": [
    "def convolve_1d_min(arr: np.ndarray,kernel=np.full((3,),1)) -> np.ndarray:\n",
    "    size=len(kernel)\n",
    "    stack=np.stack([arr[i:-(size-1-i)] for i in range(size-1)]+[arr[size-1:]])\n",
    "    pad_width=(int(np.round((size-1)/2)),int(np.floor((size-1)/2)))\n",
    "    return np.pad(np.min(stack,axis=0),pad_width,'edge')"
   ]
  },
  {
   "cell_type": "code",
   "execution_count": 9,
   "metadata": {
    "collapsed": true
   },
   "outputs": [],
   "source": [
    "def prepare(filename:str) -> np.ndarray:\n",
    "    img=255-cv2.imread(filename,cv2.IMREAD_GRAYSCALE)\n",
    "    average=np.average(img)*2\n",
    "    foreground_mask=(img>average).astype(np.uint8)*255\n",
    "    kernel=cv2.getStructuringElement(cv2.MORPH_RECT,(3,3))\n",
    "    opened=cv2.morphologyEx(foreground_mask,cv2.MORPH_OPEN,kernel)\n",
    "    rect=cv2.minAreaRect(np.stack(np.nonzero(opened),axis=-1))\n",
    "    skew_angle=min(90+rect[2],abs(rect[2]))\n",
    "    angles=np.linspace(skew_angle+0.5,skew_angle-0.5,11)\n",
    "    img_list=[rotate_img(foreground_mask,-angle) for angle in angles]\n",
    "    return img_list"
   ]
  },
  {
   "cell_type": "code",
   "execution_count": 10,
   "metadata": {
    "collapsed": true
   },
   "outputs": [],
   "source": [
    "def split_lines(img: np.ndarray) -> List[np.ndarray]:\n",
    "    data=np.max(img,axis=-1)\n",
    "    data_c=convolve_1d_min(data)\n",
    "    nonmax=data_c<np.max(data_c)\n",
    "    return np.nonzero(np.logical_xor(nonmax[1:],nonmax[:-1]))[0].reshape(-1,2)\n",
    "    #print(percs.shape,percs_c.shape)\n",
    "    #plt.plot(percs,label='before')\n",
    "    #plt.plot(percs_c,label='after')\n",
    "    #plt.plot(np.full_like(percs,np.average(percs_c)),label='av')\n",
    "    #plt.legend()"
   ]
  },
  {
   "cell_type": "code",
   "execution_count": 11,
   "metadata": {
    "collapsed": false
   },
   "outputs": [],
   "source": [
    "def join_lines(boundaries: List[np.ndarray]): #-> [np.ndarray]:\n",
    "    widths=np.array([line[1]-line[0] for line in boundaries])\n",
    "    threshold=np.median(widths)*0.3\n",
    "    zero_array=np.array([0,0])\n",
    "    distance_previous=[infinity]+[boundaries[i][0]-boundaries[i-1][1] for i in range(1,len(boundaries))]\n",
    "    distance_next=[boundaries[i+1][0]-boundaries[i][1] for i in range(len(boundaries)-1)]+[infinity]\n",
    "    distances=np.stack((np.array(distance_previous),np.array(distance_next)),axis=-1)\n",
    "    #print(boundaries.shape,widths.shape,distances.shape)\n",
    "    for i in range(len(boundaries)):\n",
    "        if widths[i] <= threshold:\n",
    "            if distances[i][0] < distances[i][1]:\n",
    "                boundaries[i-1][1]=boundaries[i][1]\n",
    "                boundaries[i]=zero_array\n",
    "            else:\n",
    "                boundaries[i+1][0]=boundaries[i][0]\n",
    "                boundaries[i]=zero_array\n",
    "    return boundaries[np.all(boundaries!=zero_array,axis=1)]"
   ]
  },
  {
   "cell_type": "code",
   "execution_count": 12,
   "metadata": {
    "collapsed": true
   },
   "outputs": [],
   "source": [
    "def get_hor_boundaries(arr: np.ndarray) -> Tuple[int]:\n",
    "    nonzero_lines=np.nonzero(np.transpose(arr))[0]\n",
    "    left=np.min(nonzero_lines)\n",
    "    right=np.max(nonzero_lines)\n",
    "    return (left,right)"
   ]
  },
  {
   "cell_type": "code",
   "execution_count": 13,
   "metadata": {
    "collapsed": false
   },
   "outputs": [],
   "source": [
    "def get_ver_boundaries(arr: np.ndarray) -> Tuple[int]:\n",
    "    nonzero_lines=np.nonzero(arr)[0]\n",
    "    top=np.min(nonzero_lines)\n",
    "    bottom=np.max(nonzero_lines)\n",
    "    return (top,bottom)"
   ]
  },
  {
   "cell_type": "code",
   "execution_count": 14,
   "metadata": {
    "collapsed": false
   },
   "outputs": [],
   "source": [
    "def merge_letter_fragments_v(letter_arr: np.ndarray) -> np.ndarray:\n",
    "    boundaries=np.array([get_hor_boundaries(letter) for letter in letter_arr])\n",
    "    #v_boundaries=np.array([get_ver_boundaries(letter) for letter in letter_arr])\n",
    "    widths=boundaries[:,1]-boundaries[:,0]\n",
    "    #heights=v_boundaries[:,1]-v_boundaries[:,0]\n",
    "    median_width=np.median(widths)\n",
    "    #joining_threshold = np.median(widths)*0.75\n",
    "    #joining_threshold_v = np.median(heights)*0.75\n",
    "    #print(median_width,'h',joining_threshold,'v',joining_threshold_v,)\n",
    "    offset=median_width*0.25\n",
    "    offset=np.array((-offset,offset))\n",
    "    extended_boundaries=boundaries+offset\n",
    "    for i in range(1,len(boundaries)):\n",
    "        if (boundaries[i-1][0] >  extended_boundaries[i][0]) and \\\n",
    "           (boundaries[i-1][1] <  extended_boundaries[i][1]) or \\\n",
    "           (boundaries[i][0] >  extended_boundaries[i-1][0]) and \\\n",
    "           (boundaries[i][1] <  extended_boundaries[i-1][1]) or \\\n",
    "           (boundaries[i-1][1] ==  boundaries[i][0]):\n",
    "           #widths[i-1] < joining_threshold and \\\n",
    "           #widths[i] < joining_threshold and \\\n",
    "           #heights[i-1] > joining_threshold_v and \\\n",
    "           #heights[i] > joining_threshold_v or \\\n",
    "           \n",
    "            letter_arr[i]+=letter_arr[i-1]\n",
    "            letter_arr[i-1]=np.zeros_like(letter_arr[i-1])\n",
    "            #boundaries[i]=\n",
    "    return letter_arr[np.sum(letter_arr,axis=(-1,-2))>int(len(letter_arr[0])/2)]"
   ]
  },
  {
   "cell_type": "raw",
   "metadata": {
    "collapsed": true
   },
   "source": [
    "def merge_letter_fragments_h(letter_arr: np.ndarray) -> np.ndarray:\n",
    "    boundaries=np.array([get_hor_boundaries(letter) for letter in letter_arr])\n",
    "    v_boundaries=np.array([get_ver_boundaries(letter) for letter in letter_arr])\n",
    "    widths=boundaries[:,1]-boundaries[:,0]\n",
    "    heights=v_boundaries[:,1]-v_boundaries[:,0]\n",
    "    joining_threshold = np.median(widths)*0.75\n",
    "    joining_threshold_v = np.median(heights)*0.75\n",
    "    for i in range(1,len(boundaries)):\n",
    "        if  widths[i-1] < joining_threshold and \\\n",
    "            widths[i] < joining_threshold and \\\n",
    "            heights[i-1] > joining_threshold_v and \\\n",
    "            heights[i] > joining_threshold_v or \\\n",
    "           (boundaries[i-1][1] ==  boundaries[i][0]):\n",
    "            letter_arr[i]+=letter_arr[i-1]\n",
    "            letter_arr[i-1]=np.zeros_like(letter_arr[i-1])\n",
    "    return letter_arr[np.sum(letter_arr,axis=(-1,-2))>int(len(letter_arr[0])/2)]"
   ]
  },
  {
   "cell_type": "raw",
   "metadata": {},
   "source": [
    "def merge_letter_fragments_h(letter_arr: np.ndarray) -> np.ndarray:\n",
    "    boundaries=np.array([get_hor_boundaries(letter) for letter in letter_arr])\n",
    "    v_boundaries=np.array([get_ver_boundaries(letter) for letter in letter_arr])\n",
    "    widths=boundaries[:,1]-boundaries[:,0]\n",
    "    distances=np.pad(boundaries[1:,0]-boundaries[:-1,1],(1,1),'constant',constant_values=infinity)\n",
    "    join_left=distances[1:] >= distances[:-1]\n",
    "    heights=v_boundaries[:,1]-v_boundaries[:,0]\n",
    "    joining_threshold = np.median(widths)*0.6\n",
    "    joining_threshold_v = np.median(heights)*0.5\n",
    "    for i in range(1,len(boundaries)):\n",
    "#        if  widths[i-1] < joining_threshold and \\\n",
    "        if  widths[i] < joining_threshold and \\\n",
    "            heights[i-1] > joining_threshold_v and \\\n",
    "            heights[i] > joining_threshold_v or \\\n",
    "           (boundaries[i-1][1] ==  boundaries[i][0]):\n",
    "            if join_left[i]:\n",
    "                letter_arr[i-1]+=letter_arr[i]\n",
    "                letter_arr[i]=np.zeros_like(letter_arr[i])\n",
    "            else:\n",
    "                letter_arr[i]+=letter_arr[i-1]\n",
    "                letter_arr[i-1]=np.zeros_like(letter_arr[i-1])\n",
    "    return letter_arr[np.sum(letter_arr,axis=(-1,-2))>int(len(letter_arr[0])/2)]"
   ]
  },
  {
   "cell_type": "raw",
   "metadata": {
    "collapsed": false
   },
   "source": [
    "def merge_letter_fragments_h(letter_arr: np.ndarray) -> np.ndarray:\n",
    "    boundaries=np.array([get_hor_boundaries(letter) for letter in letter_arr])\n",
    "    v_boundaries=np.array([get_ver_boundaries(letter) for letter in letter_arr])\n",
    "    widths=boundaries[:,1]-boundaries[:,0]\n",
    "    distances=np.pad(boundaries[1:,0]-boundaries[:-1,1],(1,1),'constant',constant_values=infinity)\n",
    "    heights=v_boundaries[:,1]-v_boundaries[:,0]\n",
    "    joining_threshold = np.median(widths)*0.6\n",
    "    joining_threshold_v = np.median(heights)*0.6\n",
    "    to_join=[]\n",
    "    for i in range(1,len(boundaries)):\n",
    "        if  widths[i-1] < joining_threshold and \\\n",
    "            widths[i] < joining_threshold and \\\n",
    "            heights[i-1] > joining_threshold_v and \\\n",
    "            heights[i] > joining_threshold_v or \\\n",
    "           (boundaries[i-1][1] ==  boundaries[i][0]):\n",
    "            to_join.append(i)\n",
    "    for i in range(1,len(to_join)):\n",
    "        if to_join[i]==to_join[i-1]+1:\n",
    "            to_join[i-1]=-1\n",
    "    to_join=[i for i in to_join if i>0]\n",
    "    for join_ind in to_join:\n",
    "        letter_arr[join_ind-1]+=letter_arr[join_ind]\n",
    "        letter_arr[join_ind]=np.zeros_like(letter_arr[i-1])\n",
    "    return letter_arr[np.sum(letter_arr,axis=(-1,-2))>int(len(letter_arr[0])/2)]"
   ]
  },
  {
   "cell_type": "code",
   "execution_count": 17,
   "metadata": {
    "collapsed": true
   },
   "outputs": [],
   "source": [
    "def get_statistics(letter_arr: np.ndarray) -> np.ndarray:\n",
    "    boundaries=np.array([get_hor_boundaries(letter) for letter in letter_arr])\n",
    "    v_boundaries=np.array([get_ver_boundaries(letter) for letter in letter_arr])\n",
    "    widths=boundaries[:,1]-boundaries[:,0]\n",
    "    heights=v_boundaries[:,1]-v_boundaries[:,0]\n",
    "    tops=np.transpose(v_boundaries)[0]\n",
    "    bottoms=np.transpose(v_boundaries)[1]\n",
    "    median_top=np.median(tops)\n",
    "    median_bottom=np.median(bottoms)\n",
    "    median_height=np.median(heights)\n",
    "    top_overhang=(tops-median_top)/median_height\n",
    "    bottom_overhang=(bottoms-median_bottom)/median_height\n",
    "    proportions=heights/widths\n",
    "    return np.transpose(np.stack((proportions,top_overhang,bottom_overhang,widths)))"
   ]
  },
  {
   "cell_type": "code",
   "execution_count": 18,
   "metadata": {
    "collapsed": true
   },
   "outputs": [],
   "source": [
    "def get_widths(letter_arr: np.ndarray) -> np.ndarray:\n",
    "    boundaries=np.array([get_hor_boundaries(letter) for letter in letter_arr])\n",
    "    return boundaries[:,1]-boundaries[:,0]"
   ]
  },
  {
   "cell_type": "code",
   "execution_count": 137,
   "metadata": {
    "collapsed": false,
    "scrolled": true
   },
   "outputs": [],
   "source": [
    "def resize_letter(mask: np.ndarray) -> None:\n",
    "    boundaries=[get_ver_boundaries(mask),get_hor_boundaries(mask)]\n",
    "    boundaries[0]=(boundaries[0][0],boundaries[0][1]+1)\n",
    "    fragment=mask[slice(*boundaries[0]),slice(*boundaries[1])]\n",
    "    return (cv2.resize(fragment.astype('uint8'),(32,32),interpolation=cv2.INTER_CUBIC))"
   ]
  },
  {
   "cell_type": "code",
   "execution_count": 356,
   "metadata": {
    "collapsed": true
   },
   "outputs": [],
   "source": [
    "def merge_letter_fragments_h(letter_arr: np.ndarray) -> np.ndarray:\n",
    "    boundaries=np.array([get_hor_boundaries(letter) for letter in letter_arr])\n",
    "    v_boundaries=np.array([get_ver_boundaries(letter) for letter in letter_arr])\n",
    "    widths=boundaries[:,1]-boundaries[:,0]\n",
    "    distances=np.pad(boundaries[1:,0]-boundaries[:-1,1],(1,1),'constant',constant_values=np.iinfo('int32').max)\n",
    "    heights=v_boundaries[:,1]-v_boundaries[:,0]\n",
    "    joining_threshold = np.median(widths)*0.65\n",
    "    joining_threshold_v = np.median(heights)*0.6\n",
    "    joining_threshold_v_m = np.median(heights)*1.1\n",
    "    to_join=[]\n",
    "    for i in range(0,len(boundaries)):\n",
    "#        if  widths[i-1] < joining_threshold and \\\n",
    "#            heights[i-1] > joining_threshold_v and \\\n",
    "        if  widths[i] < joining_threshold and \\\n",
    "            heights[i] > joining_threshold_v and \\\n",
    "            heights[i] < joining_threshold_v_m:\n",
    "            if distances[i+1]<distances[i]:\n",
    "                to_join.append(i+1)\n",
    "            else:\n",
    "                to_join.append(i)\n",
    "#    for i in range(1,len(boundaries)):\n",
    "#        if (boundaries[i-1][1] <=  boundaries[i][0]):\n",
    "#            to_join.append(i)\n",
    "    for i in range(1,len(to_join)):\n",
    "        if to_join[i]==to_join[i-1]+1:\n",
    "            to_join[i]=-1\n",
    "    to_join=[i for i in to_join if i>0]\n",
    "    if False:\n",
    "        print(to_join)\n",
    "        print(distances)\n",
    "        print(distances[1:]<distances[:-1])\n",
    "        print(np.logical_and(heights > joining_threshold_v, widths < joining_threshold))\n",
    "    for join_ind in to_join:\n",
    "        letter_arr[join_ind-1]+=letter_arr[join_ind]\n",
    "        letter_arr[join_ind]=np.zeros_like(letter_arr[join_ind-1])\n",
    "    return letter_arr[np.sum(letter_arr,axis=(-1,-2))>int(len(letter_arr[0])/2)]"
   ]
  },
  {
   "cell_type": "code",
   "execution_count": 584,
   "metadata": {
    "collapsed": false
   },
   "outputs": [],
   "source": [
    "def split_into(letter_img: np.ndarray, count:int) -> np.ndarray:\n",
    "    boundaries=get_hor_boundaries(letter_img)\n",
    "    rgb=np.stack((letter_img,letter_img,letter_img),axis=-1).astype('uint8')\n",
    "    markers=letter_img.astype('int32')\n",
    "    for marker_value,marked_col in enumerate(np.linspace(*boundaries,count*2+1)[1::1],start=1):\n",
    "        markers[:,int(marked_col)]*=marker_value+1\n",
    "    markers-=1\n",
    "    cv2.watershed(rgb,markers)\n",
    "    return [np.where(markers==i,letter_img,np.zeros_like(letter_img)) for i in range(1,count+1)]"
   ]
  },
  {
   "cell_type": "code",
   "execution_count": null,
   "metadata": {
    "collapsed": false
   },
   "outputs": [],
   "source": []
  },
  {
   "cell_type": "code",
   "execution_count": 583,
   "metadata": {
    "collapsed": false,
    "scrolled": true
   },
   "outputs": [],
   "source": [
    "def split_letter_blobs(letter_arr: np.ndarray) -> np.ndarray:\n",
    "    boundaries=np.array([get_hor_boundaries(letter) for letter in letter_arr])\n",
    "    v_boundaries=np.array([get_ver_boundaries(letter) for letter in letter_arr])\n",
    "    widths=boundaries[:,1]-boundaries[:,0]\n",
    "    heights=v_boundaries[:,1]-v_boundaries[:,0]\n",
    "    median_width=np.median(widths)\n",
    "    median_height=np.median(heights)\n",
    "    median_top=np.median(v_boundaries[:,0])\n",
    "    letter_arr_new=[]\n",
    "    for i in range(0,len(boundaries)):\n",
    "        if widths[i]<1.8*median_width:\n",
    "            letter_arr_new.append(letter_arr[i])\n",
    "        else:\n",
    "            split_letter_imgs=split_into(letter_arr[i],int(np.round(widths[i]/median_width)))\n",
    "            v_boundaries_new=np.array([get_ver_boundaries(letter) for letter in split_letter_imgs])\n",
    "            top_overhang_new=(median_top-v_boundaries[:,0])/median_height\n",
    "            if np.any(top_overhang_new<0.25):\n",
    "                for img in split_letter_imgs:\n",
    "                    letter_arr_new.append(img)\n",
    "            else:\n",
    "                letter_arr_new.append(letter_arr[i])\n",
    "    return np.array(letter_arr_new)"
   ]
  },
  {
   "cell_type": "code",
   "execution_count": null,
   "metadata": {
    "collapsed": false
   },
   "outputs": [],
   "source": []
  },
  {
   "cell_type": "code",
   "execution_count": 241,
   "metadata": {
    "collapsed": true
   },
   "outputs": [],
   "source": [
    "def merge_letter_fragments_h_(letter_arr: np.ndarray) -> np.ndarray:\n",
    "    return letter_arr"
   ]
  },
  {
   "cell_type": "code",
   "execution_count": 475,
   "metadata": {
    "collapsed": true
   },
   "outputs": [],
   "source": [
    "def split_letters(img: np.ndarray) -> np.ndarray:\n",
    "    #filtered=np.maximum(img[:,:-1],img[:,1:])\n",
    "    #filtered=np.minimum(filtered[:,:-1],filtered[:,1:])\n",
    "    #filtered=(img>np.average(img)).astype('uint8')\n",
    "    filtered=img\n",
    "    no_markers,labeled=cv2.connectedComponents(np.transpose(filtered),connectivity=4)\n",
    "    letters=np.array([np.transpose(labeled==i) for i in range(1,no_markers)])\n",
    "    sum_threshold=int(len(letters[0])/2)\n",
    "    unmerged=letters[np.sum(letters,axis=(-1,-2))>sum_threshold]\n",
    "    return [i for i in split_letter_blobs(merge_letter_fragments_h(merge_letter_fragments_v(unmerged)))]"
   ]
  },
  {
   "cell_type": "code",
   "execution_count": 319,
   "metadata": {
    "collapsed": false
   },
   "outputs": [],
   "source": [
    "def split_letters_no_merge(img: np.ndarray) -> np.ndarray:\n",
    "    #filtered=np.maximum(img[:,:-1],img[:,1:])\n",
    "    #filtered=np.minimum(filtered[:,:-1],filtered[:,1:])\n",
    "    #filtered=(img>np.average(img)).astype('uint8')\n",
    "    filtered=img\n",
    "    no_markers,labeled=cv2.connectedComponents(np.transpose(filtered),connectivity=4)\n",
    "    letters=np.array([np.transpose(labeled==i) for i in range(1,no_markers)])\n",
    "    sum_threshold=int(len(letters[0])/2)\n",
    "    unmerged=letters[np.sum(letters,axis=(-1,-2))>sum_threshold]\n",
    "    return unmerged"
   ]
  },
  {
   "cell_type": "code",
   "execution_count": 387,
   "metadata": {
    "collapsed": true
   },
   "outputs": [],
   "source": [
    "def correct_prediction(prediction,top_overhang,bottom_overhang,proportion):\n",
    "    if proportion<0.5 and -0.3>top_overhang and -0.3>bottom_overhang:\n",
    "        return '-'\n",
    "    if proportion>2.5 and 0.2>top_overhang>-0.2 and 0.2>bottom_overhang>-0.2:\n",
    "        return '|'\n",
    "    if top_overhang<-0.6:\n",
    "        if proportion<1.5:\n",
    "            return '.'\n",
    "        else:\n",
    "            return ','\n",
    "    if prediction==32:\n",
    "        if top_overhang>0.8:\n",
    "            return glyph_symbols[prediction].upper()\n",
    "        else:\n",
    "            return glyph_symbols[prediction].lower()\n",
    "    if prediction in (1,40):\n",
    "        if proportion>1.5:\n",
    "            return '('\n",
    "        else:\n",
    "            if top_overhang>0.25:\n",
    "                return 'C'\n",
    "            else:\n",
    "                return 'c'\n",
    "    if prediction in range(23,56):\n",
    "        if top_overhang>0.25:\n",
    "            return glyph_symbols[prediction].upper()\n",
    "        else:\n",
    "            return glyph_symbols[prediction].lower()\n",
    "    else:\n",
    "        return glyph_symbols[prediction]"
   ]
  },
  {
   "cell_type": "code",
   "execution_count": 603,
   "metadata": {
    "collapsed": false,
    "scrolled": true
   },
   "outputs": [
    {
     "name": "stdout",
     "output_type": "stream",
     "text": [
      "36 lines\n",
      "42.775515792\n",
      "splitting line 36/36\r"
     ]
    }
   ],
   "source": [
    "#img_list=prepare(r\"D:\\Copy\\Uni New\\GradProject\\scan3.png\")\n",
    "img_list=prepare(r\"D:\\Copy\\Uni New\\GradProject\\scan2.png\")\n",
    "lines_list=[split_lines(img) for img in img_list]\n",
    "lengths=[len(lines) for lines in lines_list]\n",
    "img=img_list[np.argmax(lengths)]\n",
    "page_split=join_lines(lines_list[np.argmax(lengths)])\n",
    "print(len(page_split),'lines')\n",
    "print(np.average(img))\n",
    "line_imgs=[img[slice(*page_split[i])] for i in range(len(page_split))]\n",
    "\n",
    "letter_masks_selected=[]\n",
    "bin_line_imgs_selected=[]\n",
    "line_ind_=7\n",
    "#for line_img in line_imgs[line_ind_:line_ind_+1]:\n",
    "for line_ind in range(len(line_imgs)):\n",
    "    \n",
    "    #bin_line_imgs=[(line_img>threshold) for threshold in np.arange(32,241,32)]\n",
    "    line_img=line_imgs[line_ind]\n",
    "    average_brightness=np.average(line_img)\n",
    "    bin_line_imgs=[(line_img>threshold) for threshold in \\\n",
    "                   np.arange(average_brightness/2,255,average_brightness/2).astype('int')[:12]]\n",
    "    letter_masks_list=[split_letters_no_merge(bin_line_img.astype('uint8')) for bin_line_img in bin_line_imgs]\n",
    "    widths_list=[get_widths(letter_masks) for letter_masks in letter_masks_list]\n",
    "    binc_list=[np.bincount(widths) for widths in widths_list] \n",
    "    median_width_list=[np.median(widths) for widths in widths_list] \n",
    "    width_thresholds=[(int(np.floor(median_width*0.8)),int(np.ceil(median_width*1.2))) for median_width in median_width_list]\n",
    "    sums=[np.sum(np.concatenate((binc_list[i][:width_thresholds[i][0]],\n",
    "                                 binc_list[i][width_thresholds[i][1]:]))) for i in range(len(binc_list))]\n",
    "    selected_index=np.median(np.nonzero(sums==np.min(sums))).astype('int64')\n",
    "    letter_masks_selected.append(split_letter_blobs(\n",
    "        merge_letter_fragments_h(merge_letter_fragments_v(letter_masks_list[selected_index]))))\n",
    "    bin_line_imgs_selected.append(bin_line_imgs[selected_index])\n",
    "    print('splitting line {}/{}'.format(line_ind+1,len(line_imgs)),end='\\r')\n",
    "#for bin_line_img in bin_line_imgs_selected:\n",
    "    #display(toimage(bin_line_img))\n",
    "\n",
    "if False:\n",
    "    line_ind=0\n",
    "    for letter_ind in range(len(letter_masks_selected[line_ind])):\n",
    "        letter_resized=resize_letter(letter_masks_selected[line_ind][letter_ind]).reshape(1,32,32,1)\n",
    "        display(toimage(letter_masks_selected[line_ind][letter_ind]))\n",
    "        display(toimage(letter_resized.reshape(32,32)*255))\n",
    "        print(letter_ind,np.argmax(nn_model.predict(letter_resized)),glyph_names[np.argmax(nn_model.predict(letter_resized))])\n",
    "\n",
    "def correct_prediction(prediction,top_overhang,bottom_overhang,proportion):\n",
    "    if proportion<0.5 and -0.3>top_overhang and -0.3>bottom_overhang:\n",
    "        return '-'\n",
    "    if proportion>2.5 and 0.2>top_overhang>-0.2 and 0.2>bottom_overhang>-0.2:\n",
    "        return '|'\n",
    "    if top_overhang<-0.6:\n",
    "        if proportion<1.5:\n",
    "            return '.'\n",
    "        else:\n",
    "            return ','\n",
    "    if prediction==32:\n",
    "        if top_overhang>0.8:\n",
    "            return glyph_symbols[prediction].upper()\n",
    "        else:\n",
    "            return glyph_symbols[prediction].lower()\n",
    "    if prediction in (1,40):\n",
    "        if proportion>1.6:\n",
    "            return '('\n",
    "        else:\n",
    "            if top_overhang>0.25:\n",
    "                return 'C'\n",
    "            else:\n",
    "                return 'c'\n",
    "    if prediction in range(23,56):\n",
    "        if top_overhang>0.25:\n",
    "            return glyph_symbols[prediction].upper()\n",
    "        else:\n",
    "            return glyph_symbols[prediction].lower()\n",
    "    else:\n",
    "        return glyph_symbols[prediction]\n",
    "    \n",
    "output_io=StringIO()\n",
    "letter_masks_resized=[np.array([resize_letter(letter) for letter in line]) for line in letter_masks_selected]\n",
    "hor_boundaries=[np.array([get_hor_boundaries(letter) for letter in line]) for line in letter_masks_selected]\n",
    "ver_boundaries=[np.array([get_ver_boundaries(letter) for letter in line]) for line in letter_masks_selected]\n",
    "widths=[line[:,1]-line[:,0] for line in hor_boundaries]\n",
    "heights=[line[:,1]-line[:,0] for line in ver_boundaries]\n",
    "proportions=[height_line/width_line for height_line,width_line in zip(heights,widths)]\n",
    "median_heightsts=np.array([np.median(height_line) for height_line in heights])\n",
    "median_widths=np.array([np.median(width_line) for width_line in widths])\n",
    "median_tops=[np.median(line[:,0]) for line in ver_boundaries]\n",
    "median_bottoms=[np.median(line[:,1]) for line in ver_boundaries]\n",
    "top_overhangs=[(median_top - line[:,0])/median_height \n",
    "               for median_top,median_height,line in zip(median_tops,median_heights,ver_boundaries) ]\n",
    "bottom_overhangs=[(line[:,1] - median_bottom)/median_height \n",
    "               for median_bottom,median_height,line in zip(median_bottoms,median_heights,ver_boundaries) ]\n",
    "distances=[line[1:,0]-line[:-1,1] for line in hor_boundaries]\n",
    "dist_binc=np.bincount(np.abs(np.concatenate(distances))).astype('float')\n",
    "dist_binc+=1\n",
    "#space_threshold=np.argmax(dist_binc[:-1]/dist_binc[1:])\n",
    "space_after=[np.pad(line>(space_threshold),(0,1),'constant') for line,median_width in zip(distances,median_widths)]\n",
    "predictions=[np.argmax(nn_model.predict((line_imgs).reshape(-1,32,32,1)),axis=-1) for line_imgs in letter_masks_resized]"
   ]
  },
  {
   "cell_type": "code",
   "execution_count": 604,
   "metadata": {
    "collapsed": false
   },
   "outputs": [
    {
     "data": {
      "text/plain": [
       "3"
      ]
     },
     "execution_count": 604,
     "metadata": {},
     "output_type": "execute_result"
    }
   ],
   "source": [
    "space_threshold"
   ]
  },
  {
   "cell_type": "code",
   "execution_count": 605,
   "metadata": {
    "collapsed": false
   },
   "outputs": [
    {
     "name": "stdout",
     "output_type": "stream",
     "text": [
      "(0, 'Вcлед за подробным общим введением идет первая ма-')\n",
      "(1, 'ва. в которой читателъ знакомитcя c тем, как В: яйн иcполь-')\n",
      "(2, 'эовала понятие беccознателъной фантазии. заниманшее цен-')\n",
      "(3, 'тра. ьное меcто в ее работе , Затем р2 люcтрируютcя некоторые')\n",
      "(4, 'другие центральные идеи В: яйн. |1 еcтъ глав, поcеященных')\n",
      "(5, 'В27 йн, д cовокупноcти дают не тcч ько четкую картину значе-')\n",
      "(6, 'ния и cущноcти зтих понятий , но и того, как они c6огатилиcь')\n",
      "(7, 'и развилиcь cо времени их введения Кляйн. Например, почти')\n",
      "(8, 'во вcех г- авах затрагиваютcя те или иные аcпекты проектив-')\n",
      "(9, 'ной идентификаци и - механизма. который В: яйн опиcала')\n",
      "(10, 'вcего лишь в неcкольких cтрочках cвое й работы !<Заметки')\n",
      "(11, 'о некоторых шизоидных механизмах».')\n",
      "(12, 'Три главы. поcвященные Биону. локазывают эволюцио-')\n",
      "(13, 'нирование идей Ъ2 яйн. каcающихcя проективной и. енти-')\n",
      "(14, 'фикаци и, в его теорию ъзаимc! ейcт|ия контейнера и кон-')\n",
      "(15, 'тейнируемого, а также его иccледование вcей челонечеcкой')\n",
      "(16, 'cпоcобноcти мыcлить c 5г етом различ и и меэъ| у пc ихотичеc')\n",
      "(17, 'к|-; и непcих) тичеcким функцион. рование1 . в значите. ьной')\n",
      "(18, 'cг || ни мвиc1| им м это о вз р: мейc| ия. В каз<1 й ю з,1 х')\n",
      "(19, 'га ав предcтавлен определенный взг- яд на то, что значит житъ')\n",
      "(20, 'в мире 6езумия , Как и в глаеах, поcвященных В: яйн, здеcъ')\n",
      "(21, 'не делаетcя попытки предcтавитъ в упрощенном виде вcю ра-')\n",
      "(22, 'боту Биона; авторы приглашают наc в cвои кабинеты, давая')\n",
      "(23, 'возможноcтъ взг. януть на мир пациента и на то, как благо, а,')\n",
      "(24, 'ря дога, кам Биона они понимают этот мир, У каждого автора')\n",
      "(25, 'cвой индивуд ъч, ъный по. хо. , и ка)ъ: ый автор cлоcобcтвует')\n",
      "(26, 'дальнейшелг разеитию ра6оты В: яйн и Биона.')\n",
      "(27, 'Подобное отношение поэроляет раccматрирать книгу')\n",
      "(28, 'как продолжение cерии «Мелани В: яйн cегодня» (К9 7 и 8)')\n",
      "(29, 'Новой библиотеки пcихоа нал иза, хотя первоначально г- авы')\n",
      "(30, 'данной книги 6ь| и прочи1аны как пу6личные лекции Книга')\n",
      "(31, 'о19 ажает развитие начатой В: яйн ра6оты; некоторые авторы')\n",
      "(32, 'уже пиcали для cерии «Мелани Кляйн cегодня». некоторые')\n",
      "(33, '(1 ндерcон , Бриттон, Дэни эл , Фельд м ан) де п2 ют это впервые')\n",
      "(34, '|Ъ авы книги cвр. етельcтеуют о неизменной жизнеcпоcо6ноc-')\n",
      "(35, 'ти и раэвитии идей В: яйн .')\n"
     ]
    }
   ],
   "source": [
    "for predictions_line,space_after_line,top_overhang_line,bottom_overhang_line,proportion_line \\\n",
    "in zip(predictions,space_after,top_overhangs,bottom_overhangs,proportions):\n",
    "    for prediction,space_after_letter,top_overhang,bottom_overhang,proportion \\\n",
    "    in zip(predictions_line,space_after_line,top_overhang_line,bottom_overhang_line,proportion_line):\n",
    "        output_io.write(correct_prediction(prediction,top_overhang,bottom_overhang,proportion))\n",
    "        output_io.write(' ') if space_after_letter else None\n",
    "    output_io.write('\\n')\n",
    "for line in enumerate(output_io.getvalue().splitlines()):\n",
    "    print(line)"
   ]
  },
  {
   "cell_type": "code",
   "execution_count": 582,
   "metadata": {
    "collapsed": false
   },
   "outputs": [
    {
     "name": "stdout",
     "output_type": "stream",
     "text": [
      "47\n",
      " No 0 top 0.0 bottom 0.0 h/w 0.928571428571 \n",
      " width 14 mw 11.0 height 13 mh 13.0 \n",
      " pred 40 name С\n"
     ]
    },
    {
     "data": {
      "image/png": "[encoded data removed]",
      "text/plain": [
       "<PIL.Image.Image image mode=L size=820x20 at 0x250BBFD0>"
      ]
     },
     "metadata": {},
     "output_type": "display_data"
    },
    {
     "data": {
      "image/png": "[encoded data removed]",
      "text/plain": [
       "<PIL.Image.Image image mode=L size=32x32 at 0x250BB3C8>"
      ]
     },
     "metadata": {},
     "output_type": "display_data"
    },
    {
     "name": "stdout",
     "output_type": "stream",
     "text": [
      " No 1 top 0.0 bottom 0.0 h/w 1.3 \n",
      " width 10 mw 11.0 height 13 mh 13.0 \n",
      " pred 26 name Г\n"
     ]
    },
    {
     "data": {
      "image/png": "[encoded data removed]",
      "text/plain": [
       "<PIL.Image.Image image mode=L size=820x20 at 0x250BB3C8>"
      ]
     },
     "metadata": {},
     "output_type": "display_data"
    },
    {
     "data": {
      "image/png": "[encoded data removed]",
      "text/plain": [
       "<PIL.Image.Image image mode=L size=32x32 at 0x250BBFD0>"
      ]
     },
     "metadata": {},
     "output_type": "display_data"
    },
    {
     "name": "stdout",
     "output_type": "stream",
     "text": [
      " No 2 top 0.0 bottom -0.0769230769231 h/w 1.33333333333 \n",
      " width 9 mw 11.0 height 12 mh 13.0 \n",
      " pred 51 name Ы_1\n"
     ]
    },
    {
     "data": {
      "image/png": "[encoded data removed]",
      "text/plain": [
       "<PIL.Image.Image image mode=L size=820x20 at 0x250BBFD0>"
      ]
     },
     "metadata": {},
     "output_type": "display_data"
    },
    {
     "data": {
      "image/png": "[encoded data removed]",
      "text/plain": [
       "<PIL.Image.Image image mode=L size=32x32 at 0x250BB3C8>"
      ]
     },
     "metadata": {},
     "output_type": "display_data"
    },
    {
     "name": "stdout",
     "output_type": "stream",
     "text": [
      " No 3 top 0.0 bottom -0.0769230769231 h/w 1.71428571429 \n",
      " width 7 mw 11.0 height 12 mh 13.0 \n",
      " pred 51 name Ы_1\n"
     ]
    },
    {
     "data": {
      "image/png": "[encoded data removed]",
      "text/plain": [
       "<PIL.Image.Image image mode=L size=820x20 at 0x250B6EF0>"
      ]
     },
     "metadata": {},
     "output_type": "display_data"
    },
    {
     "data": {
      "image/png": "[encoded data removed]",
      "text/plain": [
       "<PIL.Image.Image image mode=L size=32x32 at 0x250BBB38>"
      ]
     },
     "metadata": {},
     "output_type": "display_data"
    },
    {
     "name": "stdout",
     "output_type": "stream",
     "text": [
      " No 4 top 0.0 bottom 0.0 h/w 0.928571428571 \n",
      " width 14 mw 11.0 height 13 mh 13.0 \n",
      " pred 36 name Н\n"
     ]
    },
    {
     "data": {
      "image/png": "[encoded data removed]",
      "text/plain": [
       "<PIL.Image.Image image mode=L size=820x20 at 0x250B6B00>"
      ]
     },
     "metadata": {},
     "output_type": "display_data"
    },
    {
     "data": {
      "image/png": "[encoded data removed]",
      "text/plain": [
       "<PIL.Image.Image image mode=L size=32x32 at 0x250BB3C8>"
      ]
     },
     "metadata": {},
     "output_type": "display_data"
    },
    {
     "name": "stdout",
     "output_type": "stream",
     "text": [
      " No 5 top 0.0769230769231 bottom 0.0 h/w 1.0 \n",
      " width 14 mw 11.0 height 14 mh 13.0 \n",
      " pred 31 name И\n"
     ]
    },
    {
     "data": {
      "image/png": "[encoded data removed]",
      "text/plain": [
       "<PIL.Image.Image image mode=L size=820x20 at 0x250BBFD0>"
      ]
     },
     "metadata": {},
     "output_type": "display_data"
    },
    {
     "data": {
      "image/png": "[encoded data removed]",
      "text/plain": [
       "<PIL.Image.Image image mode=L size=32x32 at 0x250BB3C8>"
      ]
     },
     "metadata": {},
     "output_type": "display_data"
    },
    {
     "name": "stdout",
     "output_type": "stream",
     "text": [
      " No 6 top 0.0769230769231 bottom 0.0 h/w 1.4 \n",
      " width 10 mw 11.0 height 14 mh 13.0 \n",
      " pred 53 name Э\n"
     ]
    },
    {
     "data": {
      "image/png": "[encoded data removed]",
      "text/plain": [
       "<PIL.Image.Image image mode=L size=820x20 at 0x250BB3C8>"
      ]
     },
     "metadata": {},
     "output_type": "display_data"
    },
    {
     "data": {
      "image/png": "[encoded data removed]",
      "text/plain": [
       "<PIL.Image.Image image mode=L size=32x32 at 0x250B6898>"
      ]
     },
     "metadata": {},
     "output_type": "display_data"
    },
    {
     "name": "stdout",
     "output_type": "stream",
     "text": [
      " No 7 top -0.538461538462 bottom -0.0769230769231 h/w 0.833333333333 \n",
      " width 6 mw 11.0 height 5 mh 13.0 \n",
      " pred 16 name 4\n"
     ]
    },
    {
     "data": {
      "image/png": "[encoded data removed]",
      "text/plain": [
       "<PIL.Image.Image image mode=L size=820x20 at 0x250BB3C8>"
      ]
     },
     "metadata": {},
     "output_type": "display_data"
    },
    {
     "data": {
      "image/png": "[encoded data removed]",
      "text/plain": [
       "<PIL.Image.Image image mode=L size=32x32 at 0x250BBFD0>"
      ]
     },
     "metadata": {},
     "output_type": "display_data"
    },
    {
     "name": "stdout",
     "output_type": "stream",
     "text": [
      " No 8 top 0.0 bottom 0.0 h/w 1.08333333333 \n",
      " width 12 mw 11.0 height 13 mh 13.0 \n",
      " pred 25 name В\n"
     ]
    },
    {
     "data": {
      "image/png": "[encoded data removed]",
      "text/plain": [
       "<PIL.Image.Image image mode=L size=820x20 at 0x250B6780>"
      ]
     },
     "metadata": {},
     "output_type": "display_data"
    },
    {
     "data": {
      "image/png": "[encoded data removed]",
      "text/plain": [
       "<PIL.Image.Image image mode=L size=32x32 at 0x250BBB38>"
      ]
     },
     "metadata": {},
     "output_type": "display_data"
    },
    {
     "name": "stdout",
     "output_type": "stream",
     "text": [
      " No 9 top 0.0 bottom 0.0 h/w 0.928571428571 \n",
      " width 14 mw 11.0 height 13 mh 13.0 \n",
      " pred 31 name И\n"
     ]
    },
    {
     "data": {
      "image/png": "[encoded data removed]",
      "text/plain": [
       "<PIL.Image.Image image mode=L size=820x20 at 0x250BB3C8>"
      ]
     },
     "metadata": {},
     "output_type": "display_data"
    },
    {
     "data": {
      "image/png": "[encoded data removed]",
      "text/plain": [
       "<PIL.Image.Image image mode=L size=32x32 at 0x250BBB38>"
      ]
     },
     "metadata": {},
     "output_type": "display_data"
    },
    {
     "name": "stdout",
     "output_type": "stream",
     "text": [
      " No 10 top 0.0 bottom 0.0 h/w 1.18181818182 \n",
      " width 11 mw 11.0 height 13 mh 13.0 \n",
      " pred 40 name С\n"
     ]
    },
    {
     "data": {
      "image/png": "[encoded data removed]",
      "text/plain": [
       "<PIL.Image.Image image mode=L size=820x20 at 0x250BBB38>"
      ]
     },
     "metadata": {},
     "output_type": "display_data"
    },
    {
     "data": {
      "image/png": "[encoded data removed]",
      "text/plain": [
       "<PIL.Image.Image image mode=L size=32x32 at 0x250B6EF0>"
      ]
     },
     "metadata": {},
     "output_type": "display_data"
    },
    {
     "name": "stdout",
     "output_type": "stream",
     "text": [
      " No 11 top 0.0 bottom 0.0 h/w 2.16666666667 \n",
      " width 6 mw 11.0 height 13 mh 13.0 \n",
      " pred 13 name 1\n"
     ]
    },
    {
     "data": {
      "image/png": "[encoded data removed]",
      "text/plain": [
       "<PIL.Image.Image image mode=L size=820x20 at 0x250B6438>"
      ]
     },
     "metadata": {},
     "output_type": "display_data"
    },
    {
     "data": {
      "image/png": "[encoded data removed]",
      "text/plain": [
       "<PIL.Image.Image image mode=L size=32x32 at 0x250BBFD0>"
      ]
     },
     "metadata": {},
     "output_type": "display_data"
    },
    {
     "name": "stdout",
     "output_type": "stream",
     "text": [
      " No 12 top 0.0 bottom 0.0 h/w 1.85714285714 \n",
      " width 7 mw 11.0 height 13 mh 13.0 \n",
      " pred 51 name Ы_1\n"
     ]
    },
    {
     "data": {
      "image/png": "[encoded data removed]",
      "text/plain": [
       "<PIL.Image.Image image mode=L size=820x20 at 0x250BBB38>"
      ]
     },
     "metadata": {},
     "output_type": "display_data"
    },
    {
     "data": {
      "image/png": "[encoded data removed]",
      "text/plain": [
       "<PIL.Image.Image image mode=L size=32x32 at 0x250B6EF0>"
      ]
     },
     "metadata": {},
     "output_type": "display_data"
    },
    {
     "name": "stdout",
     "output_type": "stream",
     "text": [
      " No 13 top 0.0 bottom 0.0 h/w 0.928571428571 \n",
      " width 14 mw 11.0 height 13 mh 13.0 \n",
      " pred 31 name И\n"
     ]
    },
    {
     "data": {
      "image/png": "[encoded data removed]",
      "text/plain": [
       "<PIL.Image.Image image mode=L size=820x20 at 0x250B6CC0>"
      ]
     },
     "metadata": {},
     "output_type": "display_data"
    },
    {
     "data": {
      "image/png": "[encoded data removed]",
      "text/plain": [
       "<PIL.Image.Image image mode=L size=32x32 at 0x250B6EB8>"
      ]
     },
     "metadata": {},
     "output_type": "display_data"
    },
    {
     "name": "stdout",
     "output_type": "stream",
     "text": [
      " No 14 top 0.0 bottom 0.0 h/w 0.8125 \n",
      " width 16 mw 11.0 height 13 mh 13.0 \n",
      " pred 35 name М\n"
     ]
    },
    {
     "data": {
      "image/png": "[encoded data removed]",
      "text/plain": [
       "<PIL.Image.Image image mode=L size=820x20 at 0x250BBFD0>"
      ]
     },
     "metadata": {},
     "output_type": "display_data"
    },
    {
     "data": {
      "image/png": "[encoded data removed]",
      "text/plain": [
       "<PIL.Image.Image image mode=L size=32x32 at 0x250BB3C8>"
      ]
     },
     "metadata": {},
     "output_type": "display_data"
    },
    {
     "name": "stdout",
     "output_type": "stream",
     "text": [
      " No 15 top 0.0769230769231 bottom 0.0 h/w 1.4 \n",
      " width 10 mw 11.0 height 14 mh 13.0 \n",
      " pred 40 name С\n"
     ]
    },
    {
     "data": {
      "image/png": "[encoded data removed]",
      "text/plain": [
       "<PIL.Image.Image image mode=L size=820x20 at 0x250B6908>"
      ]
     },
     "metadata": {},
     "output_type": "display_data"
    },
    {
     "data": {
      "image/png": "[encoded data removed]",
      "text/plain": [
       "<PIL.Image.Image image mode=L size=32x32 at 0x250B6B00>"
      ]
     },
     "metadata": {},
     "output_type": "display_data"
    },
    {
     "name": "stdout",
     "output_type": "stream",
     "text": [
      " No 16 top -0.0769230769231 bottom -0.230769230769 h/w 1.28571428571 \n",
      " width 7 mw 11.0 height 9 mh 13.0 \n",
      " pred 59 name ф_\n"
     ]
    },
    {
     "data": {
      "image/png": "[encoded data removed]",
      "text/plain": [
       "<PIL.Image.Image image mode=L size=820x20 at 0x250BBB38>"
      ]
     },
     "metadata": {},
     "output_type": "display_data"
    },
    {
     "data": {
      "image/png": "[encoded data removed]",
      "text/plain": [
       "<PIL.Image.Image image mode=L size=32x32 at 0x250BB3C8>"
      ]
     },
     "metadata": {},
     "output_type": "display_data"
    },
    {
     "name": "stdout",
     "output_type": "stream",
     "text": [
      " No 17 top 0.0 bottom 0.0 h/w 1.08333333333 \n",
      " width 12 mw 11.0 height 13 mh 13.0 \n",
      " pred 53 name Э\n"
     ]
    },
    {
     "data": {
      "image/png": "[encoded data removed]",
      "text/plain": [
       "<PIL.Image.Image image mode=L size=820x20 at 0x250B6908>"
      ]
     },
     "metadata": {},
     "output_type": "display_data"
    },
    {
     "data": {
      "image/png": "[encoded data removed]",
      "text/plain": [
       "<PIL.Image.Image image mode=L size=32x32 at 0x250BBFD0>"
      ]
     },
     "metadata": {},
     "output_type": "display_data"
    },
    {
     "name": "stdout",
     "output_type": "stream",
     "text": [
      " No 18 top 0.0 bottom 0.0 h/w 1.08333333333 \n",
      " width 12 mw 11.0 height 13 mh 13.0 \n",
      " pred 41 name Т\n"
     ]
    },
    {
     "data": {
      "image/png": "[encoded data removed]",
      "text/plain": [
       "<PIL.Image.Image image mode=L size=820x20 at 0x2509A0F0>"
      ]
     },
     "metadata": {},
     "output_type": "display_data"
    },
    {
     "data": {
      "image/png": "[encoded data removed]",
      "text/plain": [
       "<PIL.Image.Image image mode=L size=32x32 at 0x250BB3C8>"
      ]
     },
     "metadata": {},
     "output_type": "display_data"
    },
    {
     "name": "stdout",
     "output_type": "stream",
     "text": [
      " No 19 top 0.0 bottom 0.0 h/w 1.0 \n",
      " width 13 mw 11.0 height 13 mh 13.0 \n",
      " pred 37 name О\n"
     ]
    },
    {
     "data": {
      "image/png": "[encoded data removed]",
      "text/plain": [
       "<PIL.Image.Image image mode=L size=820x20 at 0x250BBB38>"
      ]
     },
     "metadata": {},
     "output_type": "display_data"
    },
    {
     "data": {
      "image/png": "[encoded data removed]",
      "text/plain": [
       "<PIL.Image.Image image mode=L size=32x32 at 0x250BB3C8>"
      ]
     },
     "metadata": {},
     "output_type": "display_data"
    },
    {
     "name": "stdout",
     "output_type": "stream",
     "text": [
      " No 20 top 0.0 bottom 0.0 h/w 1.0 \n",
      " width 13 mw 11.0 height 13 mh 13.0 \n",
      " pred 37 name О\n"
     ]
    },
    {
     "data": {
      "image/png": "[encoded data removed]",
      "text/plain": [
       "<PIL.Image.Image image mode=L size=820x20 at 0x250BB3C8>"
      ]
     },
     "metadata": {},
     "output_type": "display_data"
    },
    {
     "data": {
      "image/png": "[encoded data removed]",
      "text/plain": [
       "<PIL.Image.Image image mode=L size=32x32 at 0x250BBB38>"
      ]
     },
     "metadata": {},
     "output_type": "display_data"
    },
    {
     "name": "stdout",
     "output_type": "stream",
     "text": [
      " No 21 top 0.0 bottom 0.0 h/w 0.928571428571 \n",
      " width 14 mw 11.0 height 13 mh 13.0 \n",
      " pred 25 name В\n"
     ]
    },
    {
     "data": {
      "image/png": "[encoded data removed]",
      "text/plain": [
       "<PIL.Image.Image image mode=L size=820x20 at 0x250B6908>"
      ]
     },
     "metadata": {},
     "output_type": "display_data"
    },
    {
     "data": {
      "image/png": "[encoded data removed]",
      "text/plain": [
       "<PIL.Image.Image image mode=L size=32x32 at 0x250BBFD0>"
      ]
     },
     "metadata": {},
     "output_type": "display_data"
    },
    {
     "name": "stdout",
     "output_type": "stream",
     "text": [
      " No 22 top 0.0 bottom 0.0 h/w 1.3 \n",
      " width 10 mw 11.0 height 13 mh 13.0 \n",
      " pred 30 name З\n"
     ]
    },
    {
     "data": {
      "image/png": "[encoded data removed]",
      "text/plain": [
       "<PIL.Image.Image image mode=L size=820x20 at 0x250BBFD0>"
      ]
     },
     "metadata": {},
     "output_type": "display_data"
    },
    {
     "data": {
      "image/png": "[encoded data removed]",
      "text/plain": [
       "<PIL.Image.Image image mode=L size=32x32 at 0x250BB3C8>"
      ]
     },
     "metadata": {},
     "output_type": "display_data"
    },
    {
     "name": "stdout",
     "output_type": "stream",
     "text": [
      " No 23 top 0.0 bottom 0.0 h/w 1.0 \n",
      " width 13 mw 11.0 height 13 mh 13.0 \n",
      " pred 39 name Р\n"
     ]
    },
    {
     "data": {
      "image/png": "[encoded data removed]",
      "text/plain": [
       "<PIL.Image.Image image mode=L size=820x20 at 0x250BB3C8>"
      ]
     },
     "metadata": {},
     "output_type": "display_data"
    },
    {
     "data": {
      "image/png": "[encoded data removed]",
      "text/plain": [
       "<PIL.Image.Image image mode=L size=32x32 at 0x250BBFD0>"
      ]
     },
     "metadata": {},
     "output_type": "display_data"
    },
    {
     "name": "stdout",
     "output_type": "stream",
     "text": [
      " No 24 top -0.0769230769231 bottom 0.0 h/w 0.923076923077 \n",
      " width 13 mw 11.0 height 12 mh 13.0 \n",
      " pred 5 name colon\n"
     ]
    },
    {
     "data": {
      "image/png": "[encoded data removed]",
      "text/plain": [
       "<PIL.Image.Image image mode=L size=820x20 at 0x250B6EF0>"
      ]
     },
     "metadata": {},
     "output_type": "display_data"
    },
    {
     "data": {
      "image/png": "[encoded data removed]",
      "text/plain": [
       "<PIL.Image.Image image mode=L size=32x32 at 0x250BBB38>"
      ]
     },
     "metadata": {},
     "output_type": "display_data"
    },
    {
     "name": "stdout",
     "output_type": "stream",
     "text": [
      " No 25 top 0.0 bottom 0.0 h/w 1.18181818182 \n",
      " width 11 mw 11.0 height 13 mh 13.0 \n",
      " pred 40 name С\n"
     ]
    },
    {
     "data": {
      "image/png": "[encoded data removed]",
      "text/plain": [
       "<PIL.Image.Image image mode=L size=820x20 at 0x250BB3C8>"
      ]
     },
     "metadata": {},
     "output_type": "display_data"
    },
    {
     "data": {
      "image/png": "[encoded data removed]",
      "text/plain": [
       "<PIL.Image.Image image mode=L size=32x32 at 0x250BBB38>"
      ]
     },
     "metadata": {},
     "output_type": "display_data"
    },
    {
     "name": "stdout",
     "output_type": "stream",
     "text": [
      " No 26 top -0.230769230769 bottom 0.0 h/w 1.66666666667 \n",
      " width 6 mw 11.0 height 10 mh 13.0 \n",
      " pred 8 name exclamation\n"
     ]
    },
    {
     "data": {
      "image/png": "[encoded data removed]",
      "text/plain": [
       "<PIL.Image.Image image mode=L size=820x20 at 0x2509A5C0>"
      ]
     },
     "metadata": {},
     "output_type": "display_data"
    },
    {
     "data": {
      "image/png": "[encoded data removed]",
      "text/plain": [
       "<PIL.Image.Image image mode=L size=32x32 at 0x250B6B70>"
      ]
     },
     "metadata": {},
     "output_type": "display_data"
    },
    {
     "name": "stdout",
     "output_type": "stream",
     "text": [
      " No 27 top 0.0 bottom 0.0 h/w 1.18181818182 \n",
      " width 11 mw 11.0 height 13 mh 13.0 \n",
      " pred 58 name е_\n"
     ]
    },
    {
     "data": {
      "image/png": "[encoded data removed]",
      "text/plain": [
       "<PIL.Image.Image image mode=L size=820x20 at 0x250BB3C8>"
      ]
     },
     "metadata": {},
     "output_type": "display_data"
    },
    {
     "data": {
      "image/png": "[encoded data removed]",
      "text/plain": [
       "<PIL.Image.Image image mode=L size=32x32 at 0x250B6EB8>"
      ]
     },
     "metadata": {},
     "output_type": "display_data"
    },
    {
     "name": "stdout",
     "output_type": "stream",
     "text": [
      " No 28 top 0.384615384615 bottom 0.0769230769231 h/w 1.35714285714 \n",
      " width 14 mw 11.0 height 19 mh 13.0 \n",
      " pred 32 name Й\n"
     ]
    },
    {
     "data": {
      "image/png": "[encoded data removed]",
      "text/plain": [
       "<PIL.Image.Image image mode=L size=820x20 at 0x250BBB38>"
      ]
     },
     "metadata": {},
     "output_type": "display_data"
    },
    {
     "data": {
      "image/png": "[encoded data removed]",
      "text/plain": [
       "<PIL.Image.Image image mode=L size=32x32 at 0x250BB3C8>"
      ]
     },
     "metadata": {},
     "output_type": "display_data"
    },
    {
     "name": "stdout",
     "output_type": "stream",
     "text": [
      " No 29 top 0.0 bottom 0.0 h/w 0.928571428571 \n",
      " width 14 mw 11.0 height 13 mh 13.0 \n",
      " pred 40 name С\n"
     ]
    },
    {
     "data": {
      "image/png": "[encoded data removed]",
      "text/plain": [
       "<PIL.Image.Image image mode=L size=820x20 at 0x250B6EF0>"
      ]
     },
     "metadata": {},
     "output_type": "display_data"
    },
    {
     "data": {
      "image/png": "[encoded data removed]",
      "text/plain": [
       "<PIL.Image.Image image mode=L size=32x32 at 0x250BB3C8>"
      ]
     },
     "metadata": {},
     "output_type": "display_data"
    },
    {
     "name": "stdout",
     "output_type": "stream",
     "text": [
      " No 30 top 0.0 bottom 0.0 h/w 1.3 \n",
      " width 10 mw 11.0 height 13 mh 13.0 \n",
      " pred 51 name Ы_1\n"
     ]
    },
    {
     "data": {
      "image/png": "[encoded data removed]",
      "text/plain": [
       "<PIL.Image.Image image mode=L size=820x20 at 0x250B6898>"
      ]
     },
     "metadata": {},
     "output_type": "display_data"
    },
    {
     "data": {
      "image/png": "[encoded data removed]",
      "text/plain": [
       "<PIL.Image.Image image mode=L size=32x32 at 0x250BBFD0>"
      ]
     },
     "metadata": {},
     "output_type": "display_data"
    },
    {
     "name": "stdout",
     "output_type": "stream",
     "text": [
      " No 31 top 0.0 bottom 0.0 h/w 0.866666666667 \n",
      " width 15 mw 11.0 height 13 mh 13.0 \n",
      " pred 31 name И\n"
     ]
    },
    {
     "data": {
      "image/png": "[encoded data removed]",
      "text/plain": [
       "<PIL.Image.Image image mode=L size=820x20 at 0x250BBB38>"
      ]
     },
     "metadata": {},
     "output_type": "display_data"
    },
    {
     "data": {
      "image/png": "[encoded data removed]",
      "text/plain": [
       "<PIL.Image.Image image mode=L size=32x32 at 0x250B6EB8>"
      ]
     },
     "metadata": {},
     "output_type": "display_data"
    },
    {
     "name": "stdout",
     "output_type": "stream",
     "text": [
      " No 32 top 0.0 bottom 0.0 h/w 1.0 \n",
      " width 13 mw 11.0 height 13 mh 13.0 \n",
      " pred 55 name Я\n"
     ]
    },
    {
     "data": {
      "image/png": "[encoded data removed]",
      "text/plain": [
       "<PIL.Image.Image image mode=L size=820x20 at 0x250B6E48>"
      ]
     },
     "metadata": {},
     "output_type": "display_data"
    },
    {
     "data": {
      "image/png": "[encoded data removed]",
      "text/plain": [
       "<PIL.Image.Image image mode=L size=32x32 at 0x250BB3C8>"
      ]
     },
     "metadata": {},
     "output_type": "display_data"
    },
    {
     "name": "stdout",
     "output_type": "stream",
     "text": [
      " No 33 top -0.769230769231 bottom 0.0 h/w 0.75 \n",
      " width 4 mw 11.0 height 3 mh 13.0 \n",
      " pred 4 name dash\n"
     ]
    },
    {
     "data": {
      "image/png": "[encoded data removed]",
      "text/plain": [
       "<PIL.Image.Image image mode=L size=820x20 at 0x250B6828>"
      ]
     },
     "metadata": {},
     "output_type": "display_data"
    },
    {
     "data": {
      "image/png": "[encoded data removed]",
      "text/plain": [
       "<PIL.Image.Image image mode=L size=32x32 at 0x250B6CC0>"
      ]
     },
     "metadata": {},
     "output_type": "display_data"
    },
    {
     "name": "stdout",
     "output_type": "stream",
     "text": [
      " No 34 top 0.384615384615 bottom 0.0 h/w 1.2 \n",
      " width 15 mw 11.0 height 18 mh 13.0 \n",
      " pred 25 name В\n"
     ]
    },
    {
     "data": {
      "image/png": "[encoded data removed]",
      "text/plain": [
       "<PIL.Image.Image image mode=L size=820x20 at 0x250B6780>"
      ]
     },
     "metadata": {},
     "output_type": "display_data"
    },
    {
     "data": {
      "image/png": "[encoded data removed]",
      "text/plain": [
       "<PIL.Image.Image image mode=L size=32x32 at 0x250B6828>"
      ]
     },
     "metadata": {},
     "output_type": "display_data"
    },
    {
     "name": "stdout",
     "output_type": "stream",
     "text": [
      " No 35 top 0.0 bottom 0.0 h/w 1.0 \n",
      " width 13 mw 11.0 height 13 mh 13.0 \n",
      " pred 33 name К\n"
     ]
    },
    {
     "data": {
      "image/png": "[encoded data removed]",
      "text/plain": [
       "<PIL.Image.Image image mode=L size=820x20 at 0x250B6B70>"
      ]
     },
     "metadata": {},
     "output_type": "display_data"
    },
    {
     "data": {
      "image/png": "[encoded data removed]",
      "text/plain": [
       "<PIL.Image.Image image mode=L size=32x32 at 0x250BBB38>"
      ]
     },
     "metadata": {},
     "output_type": "display_data"
    },
    {
     "name": "stdout",
     "output_type": "stream",
     "text": [
      " No 36 top 0.0 bottom 0.0 h/w 1.18181818182 \n",
      " width 11 mw 11.0 height 13 mh 13.0 \n",
      " pred 56 name а_\n"
     ]
    },
    {
     "data": {
      "image/png": "[encoded data removed]",
      "text/plain": [
       "<PIL.Image.Image image mode=L size=820x20 at 0x250BBB38>"
      ]
     },
     "metadata": {},
     "output_type": "display_data"
    },
    {
     "data": {
      "image/png": "[encoded data removed]",
      "text/plain": [
       "<PIL.Image.Image image mode=L size=32x32 at 0x250BBFD0>"
      ]
     },
     "metadata": {},
     "output_type": "display_data"
    },
    {
     "name": "stdout",
     "output_type": "stream",
     "text": [
      " No 37 top 0.0 bottom 0.0 h/w 1.08333333333 \n",
      " width 12 mw 11.0 height 13 mh 13.0 \n",
      " pred 30 name З\n"
     ]
    },
    {
     "data": {
      "image/png": "[encoded data removed]",
      "text/plain": [
       "<PIL.Image.Image image mode=L size=820x20 at 0x250BBB38>"
      ]
     },
     "metadata": {},
     "output_type": "display_data"
    },
    {
     "data": {
      "image/png": "[encoded data removed]",
      "text/plain": [
       "<PIL.Image.Image image mode=L size=32x32 at 0x250B6780>"
      ]
     },
     "metadata": {},
     "output_type": "display_data"
    },
    {
     "name": "stdout",
     "output_type": "stream",
     "text": [
      " No 38 top 0.0 bottom 0.0 h/w 1.85714285714 \n",
      " width 7 mw 11.0 height 13 mh 13.0 \n",
      " pred 10 name left_quote_1\n"
     ]
    },
    {
     "data": {
      "image/png": "[encoded data removed]",
      "text/plain": [
       "<PIL.Image.Image image mode=L size=820x20 at 0x250BB3C8>"
      ]
     },
     "metadata": {},
     "output_type": "display_data"
    },
    {
     "data": {
      "image/png": "[encoded data removed]",
      "text/plain": [
       "<PIL.Image.Image image mode=L size=32x32 at 0x250BBFD0>"
      ]
     },
     "metadata": {},
     "output_type": "display_data"
    },
    {
     "name": "stdout",
     "output_type": "stream",
     "text": [
      " No 39 top -0.307692307692 bottom 0.0 h/w 1.5 \n",
      " width 6 mw 11.0 height 9 mh 13.0 \n",
      " pred 13 name 1\n"
     ]
    },
    {
     "data": {
      "image/png": "[encoded data removed]",
      "text/plain": [
       "<PIL.Image.Image image mode=L size=820x20 at 0x250BBFD0>"
      ]
     },
     "metadata": {},
     "output_type": "display_data"
    },
    {
     "data": {
      "image/png": "[encoded data removed]",
      "text/plain": [
       "<PIL.Image.Image image mode=L size=32x32 at 0x250B6438>"
      ]
     },
     "metadata": {},
     "output_type": "display_data"
    },
    {
     "name": "stdout",
     "output_type": "stream",
     "text": [
      " No 40 top 0.384615384615 bottom 0.0 h/w 1.28571428571 \n",
      " width 14 mw 11.0 height 18 mh 13.0 \n",
      " pred 32 name Й\n"
     ]
    },
    {
     "data": {
      "image/png": "[encoded data removed]",
      "text/plain": [
       "<PIL.Image.Image image mode=L size=820x20 at 0x250BBFD0>"
      ]
     },
     "metadata": {},
     "output_type": "display_data"
    },
    {
     "data": {
      "image/png": "[encoded data removed]",
      "text/plain": [
       "<PIL.Image.Image image mode=L size=32x32 at 0x250BB3C8>"
      ]
     },
     "metadata": {},
     "output_type": "display_data"
    },
    {
     "name": "stdout",
     "output_type": "stream",
     "text": [
      " No 41 top 0.0 bottom 0.0 h/w 1.625 \n",
      " width 8 mw 11.0 height 13 mh 13.0 \n",
      " pred 51 name Ы_1\n"
     ]
    },
    {
     "data": {
      "image/png": "[encoded data removed]",
      "text/plain": [
       "<PIL.Image.Image image mode=L size=820x20 at 0x250BBB38>"
      ]
     },
     "metadata": {},
     "output_type": "display_data"
    },
    {
     "data": {
      "image/png": "[encoded data removed]",
      "text/plain": [
       "<PIL.Image.Image image mode=L size=32x32 at 0x250BB3C8>"
      ]
     },
     "metadata": {},
     "output_type": "display_data"
    },
    {
     "name": "stdout",
     "output_type": "stream",
     "text": [
      " No 42 top 0.0 bottom 0.0 h/w 2.16666666667 \n",
      " width 6 mw 11.0 height 13 mh 13.0 \n",
      " pred 51 name Ы_1\n"
     ]
    },
    {
     "data": {
      "image/png": "[encoded data removed]",
      "text/plain": [
       "<PIL.Image.Image image mode=L size=820x20 at 0x250BBB38>"
      ]
     },
     "metadata": {},
     "output_type": "display_data"
    },
    {
     "data": {
      "image/png": "[encoded data removed]",
      "text/plain": [
       "<PIL.Image.Image image mode=L size=32x32 at 0x250B66A0>"
      ]
     },
     "metadata": {},
     "output_type": "display_data"
    },
    {
     "name": "stdout",
     "output_type": "stream",
     "text": [
      " No 43 top 0.0 bottom 0.0 h/w 1.18181818182 \n",
      " width 11 mw 11.0 height 13 mh 13.0 \n",
      " pred 30 name З\n"
     ]
    },
    {
     "data": {
      "image/png": "[encoded data removed]",
      "text/plain": [
       "<PIL.Image.Image image mode=L size=820x20 at 0x250B6E48>"
      ]
     },
     "metadata": {},
     "output_type": "display_data"
    },
    {
     "data": {
      "image/png": "[encoded data removed]",
      "text/plain": [
       "<PIL.Image.Image image mode=L size=32x32 at 0x250BB3C8>"
      ]
     },
     "metadata": {},
     "output_type": "display_data"
    },
    {
     "name": "stdout",
     "output_type": "stream",
     "text": [
      " No 44 top 0.0 bottom -0.538461538462 h/w 1.2 \n",
      " width 5 mw 11.0 height 6 mh 13.0 \n",
      " pred 3 name comma\n"
     ]
    },
    {
     "data": {
      "image/png": "[encoded data removed]",
      "text/plain": [
       "<PIL.Image.Image image mode=L size=820x20 at 0x2509A2E8>"
      ]
     },
     "metadata": {},
     "output_type": "display_data"
    },
    {
     "data": {
      "image/png": "[encoded data removed]",
      "text/plain": [
       "<PIL.Image.Image image mode=L size=32x32 at 0x250BBB38>"
      ]
     },
     "metadata": {},
     "output_type": "display_data"
    },
    {
     "name": "stdout",
     "output_type": "stream",
     "text": [
      " No 45 top 0.0 bottom 0.0 h/w 1.85714285714 \n",
      " width 7 mw 11.0 height 13 mh 13.0 \n",
      " pred 13 name 1\n"
     ]
    },
    {
     "data": {
      "image/png": "[encoded data removed]",
      "text/plain": [
       "<PIL.Image.Image image mode=L size=820x20 at 0x250B6908>"
      ]
     },
     "metadata": {},
     "output_type": "display_data"
    },
    {
     "data": {
      "image/png": "[encoded data removed]",
      "text/plain": [
       "<PIL.Image.Image image mode=L size=32x32 at 0x250BBFD0>"
      ]
     },
     "metadata": {},
     "output_type": "display_data"
    },
    {
     "name": "stdout",
     "output_type": "stream",
     "text": [
      " No 46 top 0.0 bottom 0.0 h/w 1.0 \n",
      " width 13 mw 11.0 height 13 mh 13.0 \n",
      " pred 44 name Х\n"
     ]
    },
    {
     "data": {
      "image/png": "[encoded data removed]",
      "text/plain": [
       "<PIL.Image.Image image mode=L size=820x20 at 0x250B6908>"
      ]
     },
     "metadata": {},
     "output_type": "display_data"
    },
    {
     "data": {
      "image/png": "[encoded data removed]",
      "text/plain": [
       "<PIL.Image.Image image mode=L size=32x32 at 0x250BBB38>"
      ]
     },
     "metadata": {},
     "output_type": "display_data"
    }
   ],
   "source": [
    "line_ind=18\n",
    "print(len(letter_masks_selected[line_ind]))\n",
    "for letter_ind in range(len(letter_masks_selected[line_ind])):\n",
    "    letter_resized=resize_letter(letter_masks_selected[line_ind][letter_ind]).reshape(1,32,32,1)\n",
    "    print(' No',letter_ind,\n",
    "          'top',top_overhangs[line_ind][letter_ind],\n",
    "          'bottom',bottom_overhangs[line_ind][letter_ind],\n",
    "          'h/w',proportions[line_ind][letter_ind],'\\n',\n",
    "          'width',widths[line_ind][letter_ind],\n",
    "          'mw',median_widths[line_ind],\n",
    "          'height',heights[line_ind][letter_ind],\n",
    "          'mh',median_heights[line_ind],'\\n',\n",
    "          'pred',np.argmax(nn_model.predict(letter_resized)),\n",
    "          'name',glyph_names[np.argmax(nn_model.predict(letter_resized))])\n",
    "    display(toimage(letter_masks_selected[line_ind][letter_ind]))\n",
    "    display(toimage(letter_resized.reshape(32,32)*255))"
   ]
  },
  {
   "cell_type": "code",
   "execution_count": 518,
   "metadata": {
    "collapsed": false
   },
   "outputs": [
    {
     "data": {
      "text/plain": [
       "array([ 2,  2,  2, ..., 26, 26, 26], dtype=int64)"
      ]
     },
     "execution_count": 518,
     "metadata": {},
     "output_type": "execute_result"
    }
   ],
   "source": [
    "np.sort(np.concatenate(widths))"
   ]
  },
  {
   "cell_type": "code",
   "execution_count": 278,
   "metadata": {
    "collapsed": false
   },
   "outputs": [
    {
     "name": "stdout",
     "output_type": "stream",
     "text": [
      "line 3\n",
      "[10, 15, 35, 35]\n",
      "[2147483647          5         34          5          4          4\n",
      "          5          7         34          4          1          5\n",
      "          5          7          4          2          5          5\n",
      "          6          5         23          6          4          4\n",
      "          5          4         24          5          4          6\n",
      "          5          4          8          7         25          6\n",
      "         25          5         24          6          4          4\n",
      "          4          6          4          5          6 2147483647]\n",
      "[ True False  True  True False False False False  True  True False False\n",
      " False  True  True False False False  True False  True  True False False\n",
      "  True False  True  True False  True  True False  True False  True False\n",
      "  True False  True  True False False False  True False False False]\n",
      "[False False False False False False False False False False  True False\n",
      " False False False  True False False False False False False False False\n",
      " False False False False False False False False False False  True  True\n",
      " False False False False False False False False False False False]\n",
      "(44, 25, 1394)\n",
      "top -0.0555555555556 bottom 0.0555555555556 h/w 1.05882352941 width 17 mw 17.0 0 36 Н\n"
     ]
    },
    {
     "data": {
      "image/png": "[encoded data removed]",
      "text/plain": [
       "<PIL.Image.Image image mode=L size=1394x25 at 0x18FFDEF0>"
      ]
     },
     "metadata": {},
     "output_type": "display_data"
    },
    {
     "data": {
      "image/png": "[encoded data removed]",
      "text/plain": [
       "<PIL.Image.Image image mode=L size=32x32 at 0x18FFDFD0>"
      ]
     },
     "metadata": {},
     "output_type": "display_data"
    },
    {
     "name": "stdout",
     "output_type": "stream",
     "text": [
      "top 0.0 bottom 0.0555555555556 h/w 1.26666666667 width 15 mw 17.0 1 58 е_\n"
     ]
    },
    {
     "data": {
      "image/png": "[encoded data removed]",
      "text/plain": [
       "<PIL.Image.Image image mode=L size=1394x25 at 0x18FFDEF0>"
      ]
     },
     "metadata": {},
     "output_type": "display_data"
    },
    {
     "data": {
      "image/png": "[encoded data removed]",
      "text/plain": [
       "<PIL.Image.Image image mode=L size=32x32 at 0x190DD358>"
      ]
     },
     "metadata": {},
     "output_type": "display_data"
    },
    {
     "name": "stdout",
     "output_type": "stream",
     "text": [
      "top 0.0 bottom 0.0 h/w 1.05882352941 width 17 mw 17.0 2 44 Х\n"
     ]
    },
    {
     "data": {
      "image/png": "[encoded data removed]",
      "text/plain": [
       "<PIL.Image.Image image mode=L size=1394x25 at 0x18FFDFD0>"
      ]
     },
     "metadata": {},
     "output_type": "display_data"
    },
    {
     "data": {
      "image/png": "[encoded data removed]",
      "text/plain": [
       "<PIL.Image.Image image mode=L size=32x32 at 0x18FFDEF0>"
      ]
     },
     "metadata": {},
     "output_type": "display_data"
    },
    {
     "name": "stdout",
     "output_type": "stream",
     "text": [
      "top 0.0 bottom 0.0555555555556 h/w 1.11764705882 width 17 mw 17.0 3 37 О\n"
     ]
    },
    {
     "data": {
      "image/png": "[encoded data removed]",
      "text/plain": [
       "<PIL.Image.Image image mode=L size=1394x25 at 0x18FFDFD0>"
      ]
     },
     "metadata": {},
     "output_type": "display_data"
    },
    {
     "data": {
      "image/png": "[encoded data removed]",
      "text/plain": [
       "<PIL.Image.Image image mode=L size=32x32 at 0x190DDF60>"
      ]
     },
     "metadata": {},
     "output_type": "display_data"
    },
    {
     "name": "stdout",
     "output_type": "stream",
     "text": [
      "top 0.0 bottom 0.0 h/w 1.125 width 16 mw 17.0 4 41 Т\n"
     ]
    },
    {
     "data": {
      "image/png": "[encoded data removed]",
      "text/plain": [
       "<PIL.Image.Image image mode=L size=1394x25 at 0x18FFDEF0>"
      ]
     },
     "metadata": {},
     "output_type": "display_data"
    },
    {
     "data": {
      "image/png": "[encoded data removed]",
      "text/plain": [
       "<PIL.Image.Image image mode=L size=32x32 at 0x18FFDFD0>"
      ]
     },
     "metadata": {},
     "output_type": "display_data"
    },
    {
     "name": "stdout",
     "output_type": "stream",
     "text": [
      "top 0.0 bottom 0.0 h/w 1.2 width 15 mw 17.0 5 58 е_\n"
     ]
    },
    {
     "data": {
      "image/png": "[encoded data removed]",
      "text/plain": [
       "<PIL.Image.Image image mode=L size=1394x25 at 0x18FFDEF0>"
      ]
     },
     "metadata": {},
     "output_type": "display_data"
    },
    {
     "data": {
      "image/png": "[encoded data removed]",
      "text/plain": [
       "<PIL.Image.Image image mode=L size=32x32 at 0x18FFDFD0>"
      ]
     },
     "metadata": {},
     "output_type": "display_data"
    },
    {
     "name": "stdout",
     "output_type": "stream",
     "text": [
      "top 0.0 bottom 0.0 h/w 1.05882352941 width 17 mw 17.0 6 34 Л\n"
     ]
    },
    {
     "data": {
      "image/png": "[encoded data removed]",
      "text/plain": [
       "<PIL.Image.Image image mode=L size=1394x25 at 0x18FFDEF0>"
      ]
     },
     "metadata": {},
     "output_type": "display_data"
    },
    {
     "data": {
      "image/png": "[encoded data removed]",
      "text/plain": [
       "<PIL.Image.Image image mode=L size=32x32 at 0x190DD080>"
      ]
     },
     "metadata": {},
     "output_type": "display_data"
    },
    {
     "name": "stdout",
     "output_type": "stream",
     "text": [
      "top 0.0 bottom 0.0 h/w 1.0 width 18 mw 17.0 7 31 И\n"
     ]
    },
    {
     "data": {
      "image/png": "[encoded data removed]",
      "text/plain": [
       "<PIL.Image.Image image mode=L size=1394x25 at 0x18FFDFD0>"
      ]
     },
     "metadata": {},
     "output_type": "display_data"
    },
    {
     "data": {
      "image/png": "[encoded data removed]",
      "text/plain": [
       "<PIL.Image.Image image mode=L size=32x32 at 0x190DD2E8>"
      ]
     },
     "metadata": {},
     "output_type": "display_data"
    },
    {
     "name": "stdout",
     "output_type": "stream",
     "text": [
      "top 0.0 bottom 0.0 h/w 1.05882352941 width 17 mw 17.0 8 25 В\n"
     ]
    },
    {
     "data": {
      "image/png": "[encoded data removed]",
      "text/plain": [
       "<PIL.Image.Image image mode=L size=1394x25 at 0x18FFDEF0>"
      ]
     },
     "metadata": {},
     "output_type": "display_data"
    },
    {
     "data": {
      "image/png": "[encoded data removed]",
      "text/plain": [
       "<PIL.Image.Image image mode=L size=32x32 at 0x18FFDFD0>"
      ]
     },
     "metadata": {},
     "output_type": "display_data"
    },
    {
     "name": "stdout",
     "output_type": "stream",
     "text": [
      "top 0.0 bottom 0.0555555555556 h/w 1.11764705882 width 17 mw 17.0 9 50 Ы\n"
     ]
    },
    {
     "data": {
      "image/png": "[encoded data removed]",
      "text/plain": [
       "<PIL.Image.Image image mode=L size=1394x25 at 0x18FFDEF0>"
      ]
     },
     "metadata": {},
     "output_type": "display_data"
    },
    {
     "data": {
      "image/png": "[encoded data removed]",
      "text/plain": [
       "<PIL.Image.Image image mode=L size=32x32 at 0x18FFDFD0>"
      ]
     },
     "metadata": {},
     "output_type": "display_data"
    },
    {
     "name": "stdout",
     "output_type": "stream",
     "text": [
      "top 0.0 bottom 0.0 h/w 2.25 width 8 mw 17.0 10 33 К\n"
     ]
    },
    {
     "data": {
      "image/png": "[encoded data removed]",
      "text/plain": [
       "<PIL.Image.Image image mode=L size=1394x25 at 0x18FFDEF0>"
      ]
     },
     "metadata": {},
     "output_type": "display_data"
    },
    {
     "data": {
      "image/png": "[encoded data removed]",
      "text/plain": [
       "<PIL.Image.Image image mode=L size=32x32 at 0x190DDF60>"
      ]
     },
     "metadata": {},
     "output_type": "display_data"
    },
    {
     "name": "stdout",
     "output_type": "stream",
     "text": [
      "top 0.0 bottom 0.0 h/w 1.125 width 16 mw 17.0 11 56 а_\n"
     ]
    },
    {
     "data": {
      "image/png": "[encoded data removed]",
      "text/plain": [
       "<PIL.Image.Image image mode=L size=1394x25 at 0x18FFDFD0>"
      ]
     },
     "metadata": {},
     "output_type": "display_data"
    },
    {
     "data": {
      "image/png": "[encoded data removed]",
      "text/plain": [
       "<PIL.Image.Image image mode=L size=32x32 at 0x190DD2E8>"
      ]
     },
     "metadata": {},
     "output_type": "display_data"
    },
    {
     "name": "stdout",
     "output_type": "stream",
     "text": [
      "top 0.0 bottom 0.0555555555556 h/w 1.26666666667 width 15 mw 17.0 12 30 З\n"
     ]
    },
    {
     "data": {
      "image/png": "[encoded data removed]",
      "text/plain": [
       "<PIL.Image.Image image mode=L size=1394x25 at 0x18FFDEF0>"
      ]
     },
     "metadata": {},
     "output_type": "display_data"
    },
    {
     "data": {
      "image/png": "[encoded data removed]",
      "text/plain": [
       "<PIL.Image.Image image mode=L size=32x32 at 0x18FFDFD0>"
      ]
     },
     "metadata": {},
     "output_type": "display_data"
    },
    {
     "name": "stdout",
     "output_type": "stream",
     "text": [
      "top 0.0 bottom 0.0 h/w 1.125 width 16 mw 17.0 13 50 Ы\n"
     ]
    },
    {
     "data": {
      "image/png": "[encoded data removed]",
      "text/plain": [
       "<PIL.Image.Image image mode=L size=1394x25 at 0x18FFDEF0>"
      ]
     },
     "metadata": {},
     "output_type": "display_data"
    },
    {
     "data": {
      "image/png": "[encoded data removed]",
      "text/plain": [
       "<PIL.Image.Image image mode=L size=32x32 at 0x190DD208>"
      ]
     },
     "metadata": {},
     "output_type": "display_data"
    },
    {
     "name": "stdout",
     "output_type": "stream",
     "text": [
      "top 0.0 bottom 0.0555555555556 h/w 1.11764705882 width 17 mw 17.0 14 25 В\n"
     ]
    },
    {
     "data": {
      "image/png": "[encoded data removed]",
      "text/plain": [
       "<PIL.Image.Image image mode=L size=1394x25 at 0x18FFDFD0>"
      ]
     },
     "metadata": {},
     "output_type": "display_data"
    },
    {
     "data": {
      "image/png": "[encoded data removed]",
      "text/plain": [
       "<PIL.Image.Image image mode=L size=32x32 at 0x18FFDEF0>"
      ]
     },
     "metadata": {},
     "output_type": "display_data"
    },
    {
     "name": "stdout",
     "output_type": "stream",
     "text": [
      "top -0.0555555555556 bottom 0.0555555555556 h/w 2.57142857143 width 7 mw 17.0 15 56 а_\n"
     ]
    },
    {
     "data": {
      "image/png": "[encoded data removed]",
      "text/plain": [
       "<PIL.Image.Image image mode=L size=1394x25 at 0x18FFDFD0>"
      ]
     },
     "metadata": {},
     "output_type": "display_data"
    },
    {
     "data": {
      "image/png": "[encoded data removed]",
      "text/plain": [
       "<PIL.Image.Image image mode=L size=32x32 at 0x190DD0F0>"
      ]
     },
     "metadata": {},
     "output_type": "display_data"
    },
    {
     "name": "stdout",
     "output_type": "stream",
     "text": [
      "top 0.0 bottom 0.0 h/w 1.05882352941 width 17 mw 17.0 16 41 Т\n"
     ]
    },
    {
     "data": {
      "image/png": "[encoded data removed]",
      "text/plain": [
       "<PIL.Image.Image image mode=L size=1394x25 at 0x18FFDEF0>"
      ]
     },
     "metadata": {},
     "output_type": "display_data"
    },
    {
     "data": {
      "image/png": "[encoded data removed]",
      "text/plain": [
       "<PIL.Image.Image image mode=L size=32x32 at 0x190DD320>"
      ]
     },
     "metadata": {},
     "output_type": "display_data"
    },
    {
     "name": "stdout",
     "output_type": "stream",
     "text": [
      "top 0.0 bottom 0.0555555555556 h/w 1.46153846154 width 13 mw 17.0 17 52 Ь\n"
     ]
    },
    {
     "data": {
      "image/png": "[encoded data removed]",
      "text/plain": [
       "<PIL.Image.Image image mode=L size=1394x25 at 0x18FFDEF0>"
      ]
     },
     "metadata": {},
     "output_type": "display_data"
    },
    {
     "data": {
      "image/png": "[encoded data removed]",
      "text/plain": [
       "<PIL.Image.Image image mode=L size=32x32 at 0x18FFDEF0>"
      ]
     },
     "metadata": {},
     "output_type": "display_data"
    },
    {
     "name": "stdout",
     "output_type": "stream",
     "text": [
      "top 0.0 bottom 0.0555555555556 h/w 1.1875 width 16 mw 17.0 18 40 С\n"
     ]
    },
    {
     "data": {
      "image/png": "[encoded data removed]",
      "text/plain": [
       "<PIL.Image.Image image mode=L size=1394x25 at 0x18FFDFD0>"
      ]
     },
     "metadata": {},
     "output_type": "display_data"
    },
    {
     "data": {
      "image/png": "[encoded data removed]",
      "text/plain": [
       "<PIL.Image.Image image mode=L size=32x32 at 0x18FFDEF0>"
      ]
     },
     "metadata": {},
     "output_type": "display_data"
    },
    {
     "name": "stdout",
     "output_type": "stream",
     "text": [
      "top 0.0 bottom 0.0 h/w 1.05882352941 width 17 mw 17.0 19 25 В\n"
     ]
    },
    {
     "data": {
      "image/png": "[encoded data removed]",
      "text/plain": [
       "<PIL.Image.Image image mode=L size=1394x25 at 0x18FFDFD0>"
      ]
     },
     "metadata": {},
     "output_type": "display_data"
    },
    {
     "data": {
      "image/png": "[encoded data removed]",
      "text/plain": [
       "<PIL.Image.Image image mode=L size=32x32 at 0x190DD2E8>"
      ]
     },
     "metadata": {},
     "output_type": "display_data"
    },
    {
     "name": "stdout",
     "output_type": "stream",
     "text": [
      "top 0.0 bottom 0.0 h/w 1.28571428571 width 14 mw 17.0 20 37 О\n"
     ]
    },
    {
     "data": {
      "image/png": "[encoded data removed]",
      "text/plain": [
       "<PIL.Image.Image image mode=L size=1394x25 at 0x18FFDEF0>"
      ]
     },
     "metadata": {},
     "output_type": "display_data"
    },
    {
     "data": {
      "image/png": "[encoded data removed]",
      "text/plain": [
       "<PIL.Image.Image image mode=L size=32x32 at 0x18FFDFD0>"
      ]
     },
     "metadata": {},
     "output_type": "display_data"
    },
    {
     "name": "stdout",
     "output_type": "stream",
     "text": [
      "top 0.0 bottom 0.0555555555556 h/w 1.1875 width 16 mw 17.0 21 58 е_\n"
     ]
    },
    {
     "data": {
      "image/png": "[encoded data removed]",
      "text/plain": [
       "<PIL.Image.Image image mode=L size=1394x25 at 0x18FFDEF0>"
      ]
     },
     "metadata": {},
     "output_type": "display_data"
    },
    {
     "data": {
      "image/png": "[encoded data removed]",
      "text/plain": [
       "<PIL.Image.Image image mode=L size=32x32 at 0x18FFDFD0>"
      ]
     },
     "metadata": {},
     "output_type": "display_data"
    },
    {
     "name": "stdout",
     "output_type": "stream",
     "text": [
      "top 0.0 bottom 0.0 h/w 1.05882352941 width 17 mw 17.0 22 26 Г\n"
     ]
    },
    {
     "data": {
      "image/png": "[encoded data removed]",
      "text/plain": [
       "<PIL.Image.Image image mode=L size=1394x25 at 0x18FFDEF0>"
      ]
     },
     "metadata": {},
     "output_type": "display_data"
    },
    {
     "data": {
      "image/png": "[encoded data removed]",
      "text/plain": [
       "<PIL.Image.Image image mode=L size=32x32 at 0x18FFDFD0>"
      ]
     },
     "metadata": {},
     "output_type": "display_data"
    },
    {
     "name": "stdout",
     "output_type": "stream",
     "text": [
      "top 0.0 bottom 0.0 h/w 1.2 width 15 mw 17.0 23 37 О\n"
     ]
    },
    {
     "data": {
      "image/png": "[encoded data removed]",
      "text/plain": [
       "<PIL.Image.Image image mode=L size=1394x25 at 0x190DD208>"
      ]
     },
     "metadata": {},
     "output_type": "display_data"
    },
    {
     "data": {
      "image/png": "[encoded data removed]",
      "text/plain": [
       "<PIL.Image.Image image mode=L size=32x32 at 0x190DD080>"
      ]
     },
     "metadata": {},
     "output_type": "display_data"
    },
    {
     "name": "stdout",
     "output_type": "stream",
     "text": [
      "top 0.0 bottom 0.0555555555556 h/w 1.46153846154 width 13 mw 17.0 24 25 В\n"
     ]
    },
    {
     "data": {
      "image/png": "[encoded data removed]",
      "text/plain": [
       "<PIL.Image.Image image mode=L size=1394x25 at 0x18FFDFD0>"
      ]
     },
     "metadata": {},
     "output_type": "display_data"
    },
    {
     "data": {
      "image/png": "[encoded data removed]",
      "text/plain": [
       "<PIL.Image.Image image mode=L size=32x32 at 0x190DD358>"
      ]
     },
     "metadata": {},
     "output_type": "display_data"
    },
    {
     "name": "stdout",
     "output_type": "stream",
     "text": [
      "top 0.0 bottom 0.0 h/w 1.0 width 18 mw 17.0 25 37 О\n"
     ]
    },
    {
     "data": {
      "image/png": "[encoded data removed]",
      "text/plain": [
       "<PIL.Image.Image image mode=L size=1394x25 at 0x18FFDEF0>"
      ]
     },
     "metadata": {},
     "output_type": "display_data"
    },
    {
     "data": {
      "image/png": "[encoded data removed]",
      "text/plain": [
       "<PIL.Image.Image image mode=L size=32x32 at 0x18FFDFD0>"
      ]
     },
     "metadata": {},
     "output_type": "display_data"
    },
    {
     "name": "stdout",
     "output_type": "stream",
     "text": [
      "top 0.0 bottom 0.0555555555556 h/w 1.11764705882 width 17 mw 17.0 26 34 Л\n"
     ]
    },
    {
     "data": {
      "image/png": "[encoded data removed]",
      "text/plain": [
       "<PIL.Image.Image image mode=L size=1394x25 at 0x18FFDEF0>"
      ]
     },
     "metadata": {},
     "output_type": "display_data"
    },
    {
     "data": {
      "image/png": "[encoded data removed]",
      "text/plain": [
       "<PIL.Image.Image image mode=L size=32x32 at 0x190DD080>"
      ]
     },
     "metadata": {},
     "output_type": "display_data"
    },
    {
     "name": "stdout",
     "output_type": "stream",
     "text": [
      "top 0.0 bottom 0.0555555555556 h/w 1.11764705882 width 17 mw 17.0 27 36 Н\n"
     ]
    },
    {
     "data": {
      "image/png": "[encoded data removed]",
      "text/plain": [
       "<PIL.Image.Image image mode=L size=1394x25 at 0x18FFDFD0>"
      ]
     },
     "metadata": {},
     "output_type": "display_data"
    },
    {
     "data": {
      "image/png": "[encoded data removed]",
      "text/plain": [
       "<PIL.Image.Image image mode=L size=32x32 at 0x18FFDEF0>"
      ]
     },
     "metadata": {},
     "output_type": "display_data"
    },
    {
     "name": "stdout",
     "output_type": "stream",
     "text": [
      "top 0.0 bottom 0.0 h/w 1.05882352941 width 17 mw 17.0 28 58 е_\n"
     ]
    },
    {
     "data": {
      "image/png": "[encoded data removed]",
      "text/plain": [
       "<PIL.Image.Image image mode=L size=1394x25 at 0x18FFDFD0>"
      ]
     },
     "metadata": {},
     "output_type": "display_data"
    },
    {
     "data": {
      "image/png": "[encoded data removed]",
      "text/plain": [
       "<PIL.Image.Image image mode=L size=32x32 at 0x18FFDEF0>"
      ]
     },
     "metadata": {},
     "output_type": "display_data"
    },
    {
     "name": "stdout",
     "output_type": "stream",
     "text": [
      "top 0.0 bottom 0.0555555555556 h/w 1.05555555556 width 18 mw 17.0 29 36 Н\n"
     ]
    },
    {
     "data": {
      "image/png": "[encoded data removed]",
      "text/plain": [
       "<PIL.Image.Image image mode=L size=1394x25 at 0x18FFDFD0>"
      ]
     },
     "metadata": {},
     "output_type": "display_data"
    },
    {
     "data": {
      "image/png": "[encoded data removed]",
      "text/plain": [
       "<PIL.Image.Image image mode=L size=32x32 at 0x18FFDEF0>"
      ]
     },
     "metadata": {},
     "output_type": "display_data"
    },
    {
     "name": "stdout",
     "output_type": "stream",
     "text": [
      "top 0.0 bottom 0.0 h/w 1.2 width 15 mw 17.0 30 31 И\n"
     ]
    },
    {
     "data": {
      "image/png": "[encoded data removed]",
      "text/plain": [
       "<PIL.Image.Image image mode=L size=1394x25 at 0x18FFDFD0>"
      ]
     },
     "metadata": {},
     "output_type": "display_data"
    },
    {
     "data": {
      "image/png": "[encoded data removed]",
      "text/plain": [
       "<PIL.Image.Image image mode=L size=32x32 at 0x190DD358>"
      ]
     },
     "metadata": {},
     "output_type": "display_data"
    },
    {
     "name": "stdout",
     "output_type": "stream",
     "text": [
      "top 0.0 bottom 0.0555555555556 h/w 1.11764705882 width 17 mw 17.0 31 55 Я\n"
     ]
    },
    {
     "data": {
      "image/png": "[encoded data removed]",
      "text/plain": [
       "<PIL.Image.Image image mode=L size=1394x25 at 0x18FFDEF0>"
      ]
     },
     "metadata": {},
     "output_type": "display_data"
    },
    {
     "data": {
      "image/png": "[encoded data removed]",
      "text/plain": [
       "<PIL.Image.Image image mode=L size=32x32 at 0x18FFDFD0>"
      ]
     },
     "metadata": {},
     "output_type": "display_data"
    },
    {
     "name": "stdout",
     "output_type": "stream",
     "text": [
      "top 0.0 bottom 0.0 h/w 1.05882352941 width 17 mw 17.0 32 31 И\n"
     ]
    },
    {
     "data": {
      "image/png": "[encoded data removed]",
      "text/plain": [
       "<PIL.Image.Image image mode=L size=1394x25 at 0x18FFDFD0>"
      ]
     },
     "metadata": {},
     "output_type": "display_data"
    },
    {
     "data": {
      "image/png": "[encoded data removed]",
      "text/plain": [
       "<PIL.Image.Image image mode=L size=32x32 at 0x18FFDEF0>"
      ]
     },
     "metadata": {},
     "output_type": "display_data"
    },
    {
     "name": "stdout",
     "output_type": "stream",
     "text": [
      "top 0.0 bottom 0.0 h/w 1.125 width 16 mw 17.0 33 38 П\n"
     ]
    },
    {
     "data": {
      "image/png": "[encoded data removed]",
      "text/plain": [
       "<PIL.Image.Image image mode=L size=1394x25 at 0x18FFDFD0>"
      ]
     },
     "metadata": {},
     "output_type": "display_data"
    },
    {
     "data": {
      "image/png": "[encoded data removed]",
      "text/plain": [
       "<PIL.Image.Image image mode=L size=32x32 at 0x18FFDEF0>"
      ]
     },
     "metadata": {},
     "output_type": "display_data"
    },
    {
     "name": "stdout",
     "output_type": "stream",
     "text": [
      "top -0.0555555555556 bottom 0.0555555555556 h/w 3.0 width 6 mw 17.0 34 37 О\n"
     ]
    },
    {
     "data": {
      "image/png": "[encoded data removed]",
      "text/plain": [
       "<PIL.Image.Image image mode=L size=1394x25 at 0x18FFDFD0>"
      ]
     },
     "metadata": {},
     "output_type": "display_data"
    },
    {
     "data": {
      "image/png": "[encoded data removed]",
      "text/plain": [
       "<PIL.Image.Image image mode=L size=32x32 at 0x18FFDEF0>"
      ]
     },
     "metadata": {},
     "output_type": "display_data"
    },
    {
     "name": "stdout",
     "output_type": "stream",
     "text": [
      "top -0.0555555555556 bottom 0.0 h/w 3.4 width 5 mw 17.0 35 38 П\n"
     ]
    },
    {
     "data": {
      "image/png": "[encoded data removed]",
      "text/plain": [
       "<PIL.Image.Image image mode=L size=1394x25 at 0x18FFDFD0>"
      ]
     },
     "metadata": {},
     "output_type": "display_data"
    },
    {
     "data": {
      "image/png": "[encoded data removed]",
      "text/plain": [
       "<PIL.Image.Image image mode=L size=32x32 at 0x18FFDEF0>"
      ]
     },
     "metadata": {},
     "output_type": "display_data"
    },
    {
     "name": "stdout",
     "output_type": "stream",
     "text": [
      "top 0.0 bottom 0.0 h/w 1.0 width 18 mw 17.0 36 39 Р\n"
     ]
    },
    {
     "data": {
      "image/png": "[encoded data removed]",
      "text/plain": [
       "<PIL.Image.Image image mode=L size=1394x25 at 0x18FFDFD0>"
      ]
     },
     "metadata": {},
     "output_type": "display_data"
    },
    {
     "data": {
      "image/png": "[encoded data removed]",
      "text/plain": [
       "<PIL.Image.Image image mode=L size=32x32 at 0x18FFDEF0>"
      ]
     },
     "metadata": {},
     "output_type": "display_data"
    },
    {
     "name": "stdout",
     "output_type": "stream",
     "text": [
      "top -0.0555555555556 bottom 0.0555555555556 h/w 1.05882352941 width 17 mw 17.0 37 58 е_\n"
     ]
    },
    {
     "data": {
      "image/png": "[encoded data removed]",
      "text/plain": [
       "<PIL.Image.Image image mode=L size=1394x25 at 0x18FFDFD0>"
      ]
     },
     "metadata": {},
     "output_type": "display_data"
    },
    {
     "data": {
      "image/png": "[encoded data removed]",
      "text/plain": [
       "<PIL.Image.Image image mode=L size=32x32 at 0x18FFDEF0>"
      ]
     },
     "metadata": {},
     "output_type": "display_data"
    },
    {
     "name": "stdout",
     "output_type": "stream",
     "text": [
      "top 0.0 bottom 0.0 h/w 1.0 width 18 mw 17.0 38 27 Д\n"
     ]
    },
    {
     "data": {
      "image/png": "[encoded data removed]",
      "text/plain": [
       "<PIL.Image.Image image mode=L size=1394x25 at 0x18FFDFD0>"
      ]
     },
     "metadata": {},
     "output_type": "display_data"
    },
    {
     "data": {
      "image/png": "[encoded data removed]",
      "text/plain": [
       "<PIL.Image.Image image mode=L size=32x32 at 0x190DD2E8>"
      ]
     },
     "metadata": {},
     "output_type": "display_data"
    },
    {
     "name": "stdout",
     "output_type": "stream",
     "text": [
      "top 0.0 bottom 0.333333333333 h/w 1.41176470588 width 17 mw 17.0 39 34 Л\n"
     ]
    },
    {
     "data": {
      "image/png": "[encoded data removed]",
      "text/plain": [
       "<PIL.Image.Image image mode=L size=1394x25 at 0x18FFDEF0>"
      ]
     },
     "metadata": {},
     "output_type": "display_data"
    },
    {
     "data": {
      "image/png": "[encoded data removed]",
      "text/plain": [
       "<PIL.Image.Image image mode=L size=32x32 at 0x190DD358>"
      ]
     },
     "metadata": {},
     "output_type": "display_data"
    },
    {
     "name": "stdout",
     "output_type": "stream",
     "text": [
      "top 0.0 bottom 0.0555555555556 h/w 1.26666666667 width 15 mw 17.0 40 37 О\n"
     ]
    },
    {
     "data": {
      "image/png": "[encoded data removed]",
      "text/plain": [
       "<PIL.Image.Image image mode=L size=1394x25 at 0x18FFDFD0>"
      ]
     },
     "metadata": {},
     "output_type": "display_data"
    },
    {
     "data": {
      "image/png": "[encoded data removed]",
      "text/plain": [
       "<PIL.Image.Image image mode=L size=32x32 at 0x190DD0F0>"
      ]
     },
     "metadata": {},
     "output_type": "display_data"
    },
    {
     "name": "stdout",
     "output_type": "stream",
     "text": [
      "top 0.0 bottom 0.277777777778 h/w 1.15 width 20 mw 17.0 41 29 Ж\n"
     ]
    },
    {
     "data": {
      "image/png": "[encoded data removed]",
      "text/plain": [
       "<PIL.Image.Image image mode=L size=1394x25 at 0x18FFDEF0>"
      ]
     },
     "metadata": {},
     "output_type": "display_data"
    },
    {
     "data": {
      "image/png": "[encoded data removed]",
      "text/plain": [
       "<PIL.Image.Image image mode=L size=32x32 at 0x18FFDFD0>"
      ]
     },
     "metadata": {},
     "output_type": "display_data"
    },
    {
     "name": "stdout",
     "output_type": "stream",
     "text": [
      "top 0.0 bottom 0.0 h/w 1.0 width 18 mw 17.0 42 58 е_\n"
     ]
    },
    {
     "data": {
      "image/png": "[encoded data removed]",
      "text/plain": [
       "<PIL.Image.Image image mode=L size=1394x25 at 0x190DD0F0>"
      ]
     },
     "metadata": {},
     "output_type": "display_data"
    },
    {
     "data": {
      "image/png": "[encoded data removed]",
      "text/plain": [
       "<PIL.Image.Image image mode=L size=32x32 at 0x190DD358>"
      ]
     },
     "metadata": {},
     "output_type": "display_data"
    },
    {
     "name": "stdout",
     "output_type": "stream",
     "text": [
      "top -0.0555555555556 bottom 0.0555555555556 h/w 1.05882352941 width 17 mw 17.0 43 4 dash\n"
     ]
    },
    {
     "data": {
      "image/png": "[encoded data removed]",
      "text/plain": [
       "<PIL.Image.Image image mode=L size=1394x25 at 0x18FFDEF0>"
      ]
     },
     "metadata": {},
     "output_type": "display_data"
    },
    {
     "data": {
      "image/png": "[encoded data removed]",
      "text/plain": [
       "<PIL.Image.Image image mode=L size=32x32 at 0x18FFDFD0>"
      ]
     },
     "metadata": {},
     "output_type": "display_data"
    }
   ],
   "source": [
    "letter_masks_selected_merged=[]\n",
    "for i in range(len(letter_masks_selected)):\n",
    "    if i == line_ind:\n",
    "        print('line',i)\n",
    "        letter_masks_selected_merged.append(merge_letter_fragments_h(np.array(letter_masks_selected[i])))\n",
    "    else:\n",
    "        letter_masks_selected_merged.append(letter_masks_selected[i])\n",
    "print(letter_masks_selected_merged[line_ind].shape)\n",
    "for letter_ind in range(len(letter_masks_selected_merged[line_ind])):\n",
    "    letter_resized=resize_letter(letter_masks_selected_merged[line_ind][letter_ind]).reshape(1,32,32,1)\n",
    "    print('top',top_overhangs[line_ind][letter_ind],\n",
    "          'bottom',bottom_overhangs[line_ind][letter_ind],\n",
    "          'h/w',proportions[line_ind][letter_ind],\n",
    "          'width',widths[line_ind][letter_ind],\n",
    "          'mw',median_widths[line_ind],\n",
    "          letter_ind,np.argmax(nn_model.predict(letter_resized)),\n",
    "          glyph_names[np.argmax(nn_model.predict(letter_resized))])\n",
    "    display(toimage(letter_masks_selected_merged[line_ind][letter_ind]))\n",
    "    display(toimage(letter_resized.reshape(32,32)*255))"
   ]
  },
  {
   "cell_type": "code",
   "execution_count": null,
   "metadata": {
    "collapsed": false
   },
   "outputs": [],
   "source": []
  },
  {
   "cell_type": "code",
   "execution_count": null,
   "metadata": {
    "collapsed": false
   },
   "outputs": [],
   "source": []
  },
  {
   "cell_type": "code",
   "execution_count": 115,
   "metadata": {
    "collapsed": false
   },
   "outputs": [
    {
     "data": {
      "image/png": "[encoded data removed]",
      "text/plain": [
       "<PIL.Image.Image image mode=L size=17x18 at 0xC6B6FD0>"
      ]
     },
     "metadata": {},
     "output_type": "display_data"
    },
    {
     "data": {
      "image/png": "[encoded data removed]",
      "text/plain": [
       "<PIL.Image.Image image mode=L size=32x32 at 0x1B2996A0>"
      ]
     },
     "metadata": {},
     "output_type": "display_data"
    }
   ],
   "source": [
    "line_ind,letter_ind=1,7\n",
    "mask=letter_masks_selected[line_ind][letter_ind]\n",
    "boundaries=(get_hor_boundaries(mask),get_ver_boundaries(mask))\n",
    "fragment=(mask[slice(*boundaries[1]),slice(*boundaries[0])])\n",
    "resized_fragment=cv2.resize(fragment.astype('uint8'),(32,32),interpolation=cv2.INTER_CUBIC)\n",
    "display(toimage(fragment))\n",
    "display(toimage(resized_fragment*255))"
   ]
  },
  {
   "cell_type": "code",
   "execution_count": 270,
   "metadata": {
    "collapsed": false
   },
   "outputs": [],
   "source": [
    "merge_letter_fragments_h??"
   ]
  },
  {
   "cell_type": "code",
   "execution_count": null,
   "metadata": {
    "collapsed": false
   },
   "outputs": [],
   "source": []
  },
  {
   "cell_type": "code",
   "execution_count": null,
   "metadata": {
    "collapsed": true
   },
   "outputs": [],
   "source": []
  },
  {
   "cell_type": "code",
   "execution_count": null,
   "metadata": {
    "collapsed": false
   },
   "outputs": [],
   "source": []
  },
  {
   "cell_type": "code",
   "execution_count": null,
   "metadata": {
    "collapsed": false
   },
   "outputs": [],
   "source": []
  },
  {
   "cell_type": "code",
   "execution_count": null,
   "metadata": {
    "collapsed": true
   },
   "outputs": [],
   "source": []
  },
  {
   "cell_type": "code",
   "execution_count": null,
   "metadata": {
    "collapsed": true
   },
   "outputs": [],
   "source": []
  },
  {
   "cell_type": "code",
   "execution_count": null,
   "metadata": {
    "collapsed": true
   },
   "outputs": [],
   "source": []
  },
  {
   "cell_type": "code",
   "execution_count": null,
   "metadata": {
    "collapsed": true
   },
   "outputs": [],
   "source": []
  },
  {
   "cell_type": "code",
   "execution_count": null,
   "metadata": {
    "collapsed": true
   },
   "outputs": [],
   "source": []
  },
  {
   "cell_type": "code",
   "execution_count": null,
   "metadata": {
    "collapsed": true
   },
   "outputs": [],
   "source": []
  },
  {
   "cell_type": "code",
   "execution_count": null,
   "metadata": {
    "collapsed": true
   },
   "outputs": [],
   "source": []
  },
  {
   "cell_type": "code",
   "execution_count": null,
   "metadata": {
    "collapsed": true
   },
   "outputs": [],
   "source": []
  },
  {
   "cell_type": "code",
   "execution_count": null,
   "metadata": {
    "collapsed": true
   },
   "outputs": [],
   "source": []
  },
  {
   "cell_type": "code",
   "execution_count": null,
   "metadata": {
    "collapsed": true
   },
   "outputs": [],
   "source": []
  },
  {
   "cell_type": "code",
   "execution_count": null,
   "metadata": {
    "collapsed": true
   },
   "outputs": [],
   "source": []
  },
  {
   "cell_type": "code",
   "execution_count": null,
   "metadata": {
    "collapsed": true
   },
   "outputs": [],
   "source": []
  },
  {
   "cell_type": "code",
   "execution_count": null,
   "metadata": {
    "collapsed": true
   },
   "outputs": [],
   "source": [
    "    letter_imgs_list=[split_letters(bin_line_img) for bin_line_img in bin_line_imgs]\n",
    "    stats_list=[get_statistics(letter_imgs) for letter_imgs in letter_imgs_list]\n",
    "    widths_list=[stats[:,3].astype('uint8') for stats in stats_list]\n",
    "    binc_list=[np.bincount(widths) for widths in widths_list] \n",
    "    median_width_list=[np.median(widths) for widths in widths_list] \n",
    "    width_thresholds=[(int(np.floor(median_width*0.8)),int(np.ceil(median_width*1.2))) for median_width in median_width_list]\n",
    "    sums=[np.sum(np.concatenate((binc_list[i][:width_thresholds[i][0]],\n",
    "                                 binc_list[i][width_thresholds[i][1]:]))) for i in range(len(binc_list))]\n",
    "    selected_index=np.median(np.nonzero(sums==np.min(sums)))\n",
    "    print(selected_index)"
   ]
  },
  {
   "cell_type": "markdown",
   "metadata": {},
   "source": [
    "# junkyard - keep out"
   ]
  },
  {
   "cell_type": "code",
   "execution_count": null,
   "metadata": {
    "collapsed": false
   },
   "outputs": [],
   "source": [
    "testarr=np.array([[0,0],\n",
    "                  [0,1],\n",
    "                  [0,2],\n",
    "                  [0,3],\n",
    "                  [1,0],\n",
    "                  [1,1],\n",
    "                  [NaN,NaN],\n",
    "                  [1,2]])"
   ]
  },
  {
   "cell_type": "code",
   "execution_count": null,
   "metadata": {
    "collapsed": false
   },
   "outputs": [],
   "source": [
    "print(testarr)"
   ]
  },
  {
   "cell_type": "code",
   "execution_count": null,
   "metadata": {
    "collapsed": false
   },
   "outputs": [],
   "source": [
    "print(testarr[])"
   ]
  },
  {
   "cell_type": "code",
   "execution_count": null,
   "metadata": {
    "collapsed": false
   },
   "outputs": [],
   "source": [
    "_,inds = np.unique(testarr_t,return_index=True)"
   ]
  },
  {
   "cell_type": "code",
   "execution_count": null,
   "metadata": {
    "collapsed": false,
    "scrolled": true
   },
   "outputs": [],
   "source": [
    "testarr[inds]"
   ]
  },
  {
   "cell_type": "code",
   "execution_count": null,
   "metadata": {
    "collapsed": true
   },
   "outputs": [],
   "source": [
    "def _old_prepare(filename:str) -> np.ndarray:\n",
    "    img=255-cv2.imread(filename,cv2.IMREAD_GRAYSCALE)\n",
    "    average=np.average(img)*2\n",
    "    foreground_mask=(img>average).astype(np.uint8)*255\n",
    "    kernel=cv2.getStructuringElement(cv2.MORPH_RECT,(3,3))\n",
    "    opened=cv2.morphologyEx(foreground_mask,cv2.MORPH_OPEN,kernel)\n",
    "    rect=cv2.minAreaRect(np.stack(np.nonzero(opened),axis=-1))\n",
    "    skew_angle=min(90+rect[2],abs(rect[2]))\n",
    "    angles=np.linspace(skew_angle+0.5,skew_angle-0.5,11)\n",
    "    img_list=[rotate_img(foreground_mask,-angle) for angle in angles]\n",
    "    averages=[np.average(img,axis=-1) for img in img_list]\n",
    "    deltas=[np.absolute(average[1:]-(average[:-1])) for average in averages]\n",
    "    av_deltas=[np.average(delta,axis=-1) for delta in deltas]\n",
    "    ret_index=max(enumerate(av_deltas),key=itemgetter(1))[0]-1\n",
    "    return img_list[ret_index]"
   ]
  },
  {
   "cell_type": "code",
   "execution_count": null,
   "metadata": {
    "collapsed": true
   },
   "outputs": [],
   "source": [
    "def split_lines(img: np.ndarray) -> List[np.ndarray]:\n",
    "    data=np.max(img,axis=-1)\n",
    "    data_c=convolve_1d_min(data)\n",
    "    plt.legend()\n",
    "    nonmax=data_c\n",
    "    #data_c=convolve_1d(data,np.full((11,),1))\n",
    "    \n",
    "    \n",
    "    #plt.plot(data_c,label='after')\n",
    "    \n",
    "    #percs_c=convolve_1d(percs,np.full((11,),1))\n",
    "    #plt.plot(percs,label='before')\n",
    "    #plt.plot(percs_c,label='after')\n",
    "    #plt.legend()\n",
    "    #nonmax=(percs_c==0)\n",
    "    #line_boundaries=np.nonzero(np.logical_xor(nonmax[1:],nonmax[:-1]))[0].reshape(-1,2)\n",
    "    #return [img[start:end] for start,end in line_boundaries]\n",
    "    #print(percs.shape,percs_c.shape)\n",
    "    #plt.plot(percs,label='before')\n",
    "    #plt.plot(percs_c,label='after')\n",
    "    #plt.plot(np.full_like(percs,np.average(percs_c)),label='av')\n",
    "    #plt.legend()"
   ]
  },
  {
   "cell_type": "code",
   "execution_count": null,
   "metadata": {
    "collapsed": false
   },
   "outputs": [],
   "source": [
    "def prepare(filename:str) -> np.ndarray:\n",
    "    img=255-cv2.imread(filename,cv2.IMREAD_GRAYSCALE)\n",
    "    average=np.average(img)*2\n",
    "    foreground_mask=(img>average).astype(np.uint8)\n",
    "    kernel=cv2.getStructuringElement(cv2.MORPH_RECT,(3,3))\n",
    "    opened=cv2.morphologyEx(foreground_mask,cv2.MORPH_OPEN,kernel)\n",
    "    rect=cv2.minAreaRect(np.stack(np.nonzero(opened),axis=-1))\n",
    "    skew_angle=min(90+rect[2],abs(rect[2]))\n",
    "    angles=np.linspace(skew_angle+0.5,skew_angle-0.5,11)\n",
    "    #img_list=[rotate_img(foreground_mask,-angle) for angle in angles]\n",
    "    img_list=[rotate_img(foreground_mask,-angle) for angle in angles]\n",
    "    averages=[np.average(img,axis=-1) for img in img_list]\n",
    "    percs=[np.percentile(img,98,axis=-1) for img in img_list]\n",
    "    percs_c=[convolve_1d(perc,np.full((7,),1)) f]\n",
    "    deltas=[np.absolute(average[1:]-(average[:-1])) for average in averages]\n",
    "    #deltas_perc=[np.absolute(average[1:]-(average[:-1])) for average in averages]\n",
    "    \n",
    "    #plt.plot(np.full_like(percs[5],np.average(percs[5])),label='av')\n",
    "    #plt.legend()\n",
    "    av_deltas=[np.average(delta,axis=-1) for delta in deltas]\n",
    "    ret_index=max(enumerate(av_deltas),key=itemgetter(1))[0]-1\n",
    "    print(angles[ret_index])\n",
    "    plt.plot(percs[ret_index],label=str(ret_index))\n",
    "    return img_list[ret_index]*255"
   ]
  }
 ],
 "metadata": {
  "kernelspec": {
   "display_name": "Python 3",
   "language": "python",
   "name": "python3"
  },
  "language_info": {
   "codemirror_mode": {
    "name": "ipython",
    "version": 3
   },
   "file_extension": ".py",
   "mimetype": "text/x-python",
   "name": "python",
   "nbconvert_exporter": "python",
   "pygments_lexer": "ipython3",
   "version": "3.5.3"
  }
 },
 "nbformat": 4,
 "nbformat_minor": 2
}
