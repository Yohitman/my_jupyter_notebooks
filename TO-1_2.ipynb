{
 "cells": [
  {
   "cell_type": "code",
   "execution_count": 8,
   "metadata": {
    "collapsed": false
   },
   "outputs": [
    {
     "data": {
      "image/png": "[encoded data removed]",
      "text/latex": [
       "$$\\frac{l}{4} \\left(\\sqrt{3} x^{2} + 12 x y - 32\\right) + \\frac{\\sqrt{3} y}{4} x^{2}$$"
      ],
      "text/plain": [
       "  ⎛  ___  2              ⎞     ___  2  \n",
       "l⋅⎝╲╱ 3 ⋅x  + 12⋅x⋅y - 32⎠   ╲╱ 3 ⋅x ⋅y\n",
       "────────────────────────── + ──────────\n",
       "            4                    4     "
      ]
     },
     "execution_count": 8,
     "metadata": {},
     "output_type": "execute_result"
    }
   ],
   "source": [
    "import matplotlib.pyplot as plt \n",
    "import numpy as np \n",
    "from sympy import * \n",
    "import math as m \n",
    "\n",
    "#a=int(input(\"Введите a : \"))\n",
    "#c=int(input(\"Введите c : \"))\n",
    "a=1\n",
    "c=7\n",
    "init_printing()\n",
    "x, y, l, s = symbols('x, y, l, s')\n",
    "\n",
    "L=(sqrt(3)/4)*x**2*y + l*(3 * x * y + (sqrt(3)/4)*(x**2) -(a+c))\n",
    "simplify(L)"
   ]
  },
  {
   "cell_type": "code",
   "execution_count": 9,
   "metadata": {
    "collapsed": false
   },
   "outputs": [
    {
     "name": "stdout",
     "output_type": "stream",
     "text": [
      "l*(sqrt(3)*x/2 + 3*y) + sqrt(3)*x*y/2\n",
      "3*l*x + sqrt(3)*x**2/4\n",
      "sqrt(3)*x**2/4 + 3*x*y - 8\n"
     ]
    },
    {
     "data": {
      "image/png": "[encoded data removed]",
      "text/latex": [
       "$$\\left [ \\left ( - \\frac{4 \\sqrt{2}}{3} \\sqrt[4]{3}, \\quad - \\frac{2 \\sqrt{2}}{9} 3^{\\frac{3}{4}}, \\quad \\frac{\\sqrt{2}}{9} 3^{\\frac{3}{4}}\\right ), \\quad \\left ( \\frac{4 \\sqrt{2}}{3} \\sqrt[4]{3}, \\quad \\frac{2 \\sqrt{2}}{9} 3^{\\frac{3}{4}}, \\quad - \\frac{\\sqrt{2}}{9} 3^{\\frac{3}{4}}\\right )\\right ]$$"
      ],
      "text/plain": [
       "⎡⎛     ___ 4 ___        ___  3/4     ___  3/4⎞  ⎛    ___ 4 ___      ___  3/4  \n",
       "⎢⎜-4⋅╲╱ 2 ⋅╲╱ 3    -2⋅╲╱ 2 ⋅3      ╲╱ 2 ⋅3   ⎟  ⎜4⋅╲╱ 2 ⋅╲╱ 3   2⋅╲╱ 2 ⋅3     \n",
       "⎢⎜───────────────, ──────────────, ──────────⎟, ⎜─────────────, ────────────, \n",
       "⎣⎝       3               9             9     ⎠  ⎝      3             9        \n",
       "\n",
       "   ___  3/4 ⎞⎤\n",
       "-╲╱ 2 ⋅3    ⎟⎥\n",
       "────────────⎟⎥\n",
       "     9      ⎠⎦"
      ]
     },
     "execution_count": 9,
     "metadata": {},
     "output_type": "execute_result"
    }
   ],
   "source": [
    "Ld1 = diff(L,x)\n",
    "Ld2 = diff(L,y)\n",
    "Ld3 = diff(L,l)\n",
    "print(Ld1)\n",
    "print(Ld2)\n",
    "print(Ld3)\n",
    "e = solve([Ld1, Ld2, Ld3], x, y, l, check = False)\n",
    "simplify(e)"
   ]
  },
  {
   "cell_type": "code",
   "execution_count": 10,
   "metadata": {
    "collapsed": false
   },
   "outputs": [
    {
     "name": "stdout",
     "output_type": "stream",
     "text": [
      "('x \\xd1\\x80\\xd0\\xb0\\xd0\\xb2\\xd0\\xb5\\xd0\\xbd  :', 2.48)\n",
      "('y \\xd1\\x80\\xd0\\xb0\\xd0\\xb2\\xd0\\xb5\\xd0\\xbd  :', 0.716)\n"
     ]
    }
   ],
   "source": [
    "print(\"x равен  :\", e[1][0].evalf(3))\n",
    "print(\"y равен  :\", e[1][1].evalf(3))"
   ]
  },
  {
   "cell_type": "code",
   "execution_count": 11,
   "metadata": {
    "collapsed": false
   },
   "outputs": [
    {
     "name": "stdout",
     "output_type": "stream",
     "text": [
      "('O\\xd0\\xb1\\xd1\\x8a\\xd0\\xb5\\xd0\\xbc \\xd0\\xbf\\xd0\\xb0\\xd0\\xbb\\xd0\\xb0\\xd1\\x82\\xd0\\xba\\xd0\\xb8   : ', 1.91011685209170)\n"
     ]
    }
   ],
   "source": [
    "print(\"Oбъем палатки   : \", (m.sqrt(3)*(e[1][0].evalf(3)**2)*e[1][1].evalf(3))/4)"
   ]
  },
  {
   "cell_type": "code",
   "execution_count": null,
   "metadata": {
    "collapsed": false
   },
   "outputs": [],
   "source": [
    "x =np.arange(1.5,3,0.01) \n",
    "y =np.arange(0,2,0.01) \n",
    "X, Y = np.meshgrid(x, y) \n",
    "Z = (m.sqrt(3)/4)*(X**2)*Y \n",
    "plt.figure() \n",
    "plt.contour(X, Y, Z, 13) \n",
    "plt.hold(True) \n",
    "s = [] \n",
    "x_x =np.arange(1.5,3,0.01) \n",
    "for i in range(len(x_x)): \n",
    "    s.append(8) \n",
    "y_y=(2/x_x)-(m.sqrt(3)/12)*x\n",
    "plt.plot(x_x,y_y)\n",
    "#plt.scatter(2.48, 0.716)\n",
    "plt.grid()\n",
    "plt.show()"
   ]
  },
  {
   "cell_type": "code",
   "execution_count": null,
   "metadata": {
    "collapsed": true
   },
   "outputs": [],
   "source": []
  }
 ],
 "metadata": {
  "kernelspec": {
   "display_name": "Python 2",
   "language": "python",
   "name": "python2"
  },
  "language_info": {
   "codemirror_mode": {
    "name": "ipython",
    "version": 2
   },
   "file_extension": ".py",
   "mimetype": "text/x-python",
   "name": "python",
   "nbconvert_exporter": "python",
   "pygments_lexer": "ipython2",
   "version": "2.7.11"
  }
 },
 "nbformat": 4,
 "nbformat_minor": 2
}
