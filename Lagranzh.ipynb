{
 "cells": [
  {
   "cell_type": "code",
   "execution_count": 1,
   "metadata": {
    "collapsed": true
   },
   "outputs": [],
   "source": [
    "import numpy as np #Подключаем библиотеку numpy,и называем пространство имен для нее как np,\n",
    "#т.е. чтобы обратиться к функции из библиотеки, пишем np. и имя функции\n",
    "from sympy import * #Подключаем библиотеку sympy, для нее не объявляли имя пространства имен, а просто импортировали из нее все функции,\n",
    "#т.е. к функциям этой библиотеки можно обращаться напрямую\n",
    "from IPython.display import * #библиотека display, подключили аналогично sympy,\n",
    "#содержит display для красивого графического отображения формул\n",
    "init_printing(use_latex=True)#для графического отображения формул\n",
    "x=symbols('x') #создаем положительные символьные переменные\n",
    "import random #для работы со случайными числами\n",
    "random.seed() #необходимая строчка, чтобы какждый раз генерировались другие случайные числа"
   ]
  },
  {
   "cell_type": "code",
   "execution_count": 2,
   "metadata": {
    "collapsed": true
   },
   "outputs": [],
   "source": [
    "class color: #класс цветов (форматирования), для форматированного, цветного отображения текста при выводе\n",
    "   PURPLE = '\\033[95m' #вызов цвета осуществляется через ., т.е. color.PURPLE или color.CYAN\n",
    "   CYAN = '\\033[96m' #т.к. этот код просто строка, то и добавлять ее будем в поток вывода (например в print через +)\n",
    "   DARKCYAN = '\\033[36m' \n",
    "   BLUE = '\\033[94m'\n",
    "   GREEN = '\\033[92m'\n",
    "   YELLOW = '\\033[93m'\n",
    "   RED = '\\033[91m'\n",
    "   BOLD = '\\033[1m'\n",
    "   UNDERLINE = '\\033[4m'\n",
    "   END = '\\033[0m' #чтобы завершить вывод цвета, используется color.END, за этим кодом пойдет стандартный черный текст"
   ]
  },
  {
   "cell_type": "code",
   "execution_count": 3,
   "metadata": {
    "collapsed": true
   },
   "outputs": [],
   "source": [
    "# return (g, x, y) a*x + b*y = gcd(x, y)\n",
    "def egcd(a, b): #Расширенный алгоритм Евклида\n",
    "    if a == 0:\n",
    "        return (b, 0, 1)\n",
    "    else:\n",
    "        g, x, y = egcd(b % a, a)\n",
    "        return (g, y - (b // a) * x, x)\n",
    "# x = mulinv(b) mod n, (x * b) % n == 1\n",
    "def mulinv(b, n): #функция нахождения обратного числа в кольце по модулю n\n",
    "    if (b == 0):\n",
    "        return 0;\n",
    "    otr = False\n",
    "    if (b < 0):\n",
    "        b *= (-1)\n",
    "        otr = true\n",
    "    g, x, _ = egcd(b, n)\n",
    "    if g == 1:\n",
    "        if (not(otr)):\n",
    "            return x % n\n",
    "        else:\n",
    "            return n-(x % n)"
   ]
  },
  {
   "cell_type": "code",
   "execution_count": 4,
   "metadata": {
    "collapsed": true
   },
   "outputs": [],
   "source": [
    "def mult(Mvost, t, i): #произведение, если i=1, то si=(x1 - x2)*(x1 - x3)*...(x1 - xt), для i=2 (x2 - x1)*(x2 - x3)*...(x2 - xt) и т.д.\n",
    "    si = 1.0\n",
    "    for j in range (t):\n",
    "        if (j != i):\n",
    "            si *= (Mvost[i] - Mvost[j])\n",
    "    return si"
   ]
  },
  {
   "cell_type": "code",
   "execution_count": 5,
   "metadata": {
    "collapsed": true
   },
   "outputs": [],
   "source": [
    "def mult2 (xn, n, t):\n",
    "    mul2=np.array([0])\n",
    "    s2 = 1\n",
    "    for k in range(t - 1):\n",
    "        if (k != 0):\n",
    "            mul21 = np.array([0])\n",
    "        for i in range(n):\n",
    "            for j in range(n):\n",
    "                if (k == 0):\n",
    "                    if(j != i):\n",
    "                        difference = (xn[i + 1] - xn[j + 1])\n",
    "                        if (difference < 0):\n",
    "                            difference *= (-1)\n",
    "                        if (difference > mul2[0]):\n",
    "                            mul2[0] = difference\n",
    "                else:\n",
    "                    if (j != i):\n",
    "                        difference = (xn[i + 1] - xn[j + 1])\n",
    "                        if (difference < 0):\n",
    "                            difference *= (-1)\n",
    "                        if ((difference > mul21[0]) and (difference < mul2[k - 1])):\n",
    "                            mul21[0] = difference\n",
    "        if (k != 0):\n",
    "            mul2=np.concatenate((mul2, mul21))\n",
    "    for k in range(t - 1): \n",
    "        s2 *= mul2[k]\n",
    "    return s2"
   ]
  },
  {
   "cell_type": "code",
   "execution_count": 6,
   "metadata": {
    "collapsed": true
   },
   "outputs": [],
   "source": [
    "def isPrime(z): #функция, проверка на простоту (Простое ли число?) перебором\n",
    "    if (z == 1):\n",
    "        return False\n",
    "    d = 2\n",
    "    while (d * d <= z):\n",
    "        if (z % d == 0):\n",
    "            return False\n",
    "        d += 1\n",
    "    return True"
   ]
  },
  {
   "cell_type": "code",
   "execution_count": 7,
   "metadata": {
    "collapsed": true
   },
   "outputs": [],
   "source": [
    "def is_float(string): #функция, проверка числа на float (дробное ли число?)\n",
    "    try:\n",
    "        float(string)\n",
    "        return True\n",
    "    except ValueError:\n",
    "        return False"
   ]
  },
  {
   "cell_type": "code",
   "execution_count": 8,
   "metadata": {
    "collapsed": false
   },
   "outputs": [
    {
     "name": "stdout",
     "output_type": "stream",
     "text": [
      "Укажите число пользователей: 10\n",
      "\u001b[92m\n",
      "Число пользователей n = 10\n",
      "\u001b[0m\n"
     ]
    }
   ],
   "source": [
    "n = input(\"Укажите число пользователей: \")\n",
    "while True:\n",
    "    if (not n.isdigit() and not is_float(n)):\n",
    "        print (color.RED + '\\nЭто не число!\\n' + color.END)\n",
    "        n = input('Укажите число пользователей: ')\n",
    "    elif (not n.isdigit() and is_float(n) and (int(float(n))-float(n)) != 0 and float(n) < 0):\n",
    "        print (color.RED + '\\nЧисло пользователей не может быть дробным и отрицательным!\\n' + color.END)\n",
    "        n = input('Укажите число пользователей: ')\n",
    "    elif (not n.isdigit() and is_float(n) and (int(float(n))-float(n)) != 0):\n",
    "        print (color.RED + '\\nЭто дробное число, введите целое!\\n' + color.END)\n",
    "        n = input('Укажите число пользователей: ')\n",
    "    elif (int(n) < 0):\n",
    "        print (color.RED + '\\nЧисло пользователей не может быть отрицательным!\\n' + color.END)\n",
    "        n = input('Укажите число пользователей: ')\n",
    "    elif (int(n)==0 or int(n) == 1):\n",
    "        print (color.RED + '\\nЧисло пользователей должно быть больше 1!\\n' + color.END)\n",
    "        n = input('Укажите число пользователей: ')\n",
    "    else:\n",
    "        n = int(n)\n",
    "        print(color.GREEN + '\\nЧисло пользователей n = %(n)d\\n' %{\"n\":n} + color.END) \n",
    "        break"
   ]
  },
  {
   "cell_type": "code",
   "execution_count": 9,
   "metadata": {
    "collapsed": false
   },
   "outputs": [
    {
     "name": "stdout",
     "output_type": "stream",
     "text": [
      "Сколько пользователей могут восстановить секрет? 4\n",
      "\u001b[92m\n",
      "Восстановить секрет могут любые t = 4 пользователей!\n",
      "\u001b[0m\n"
     ]
    }
   ],
   "source": [
    "t = input(\"Сколько пользователей могут восстановить секрет? \") #число долей секрета\n",
    "while True:\n",
    "    if (not t.isdigit() and not is_float(t)): \n",
    "        print (color.RED + '\\nЭто не число!\\n' + color.END)\n",
    "        t = input('Сколько пользователей могут восстановить секрет? ')\n",
    "    elif (not t.isdigit() and is_float(t) and (int(float(t)) - float(t)) != 0 and float(t) < 0):\n",
    "        print (color.RED + '\\nЧисло пользователей не может быть дробным и отрицательным!\\n' + color.END)\n",
    "        t = input('Сколько пользователей могут восстановить секрет? ')\n",
    "    elif (not t.isdigit() and is_float(t) and (int(float(t))-float(t))!=0):\n",
    "        print (color.RED + '\\nЭто дробное число, введите целое!\\n' + color.END)\n",
    "        t = input('Сколько пользователей могут восстановить секрет? ')\n",
    "    elif (int(t) < 0):\n",
    "        print (color.RED + '\\nЧисло пользователей не может быть отрицательным!\\n' + color.END)\n",
    "        t = input('Сколько пользователей могут восстановить секрет? ')\n",
    "    elif (int(t) == 0 or int(t) == 1):\n",
    "        print (color.RED + '\\nЧисло пользователей должно быть больше 1!\\n' + color.END)\n",
    "        t = input('Сколько пользователей могут восстановить секрет? ')\n",
    "    elif (int(t) > n):\n",
    "        print (color.RED + '\\nЧисло пользователей, которые восстановят секрет, не может быть больше общего числа пользователей n!\\n'+color.END)\n",
    "        t = input('Сколько пользователей могут восстановить секрет? ')\n",
    "    else:\n",
    "        t = int(t)\n",
    "        print(color.GREEN + '\\nВосстановить секрет могут любые t = %(t)d пользователей!\\n' %{\"t\":t} + color.END) \n",
    "        break"
   ]
  },
  {
   "cell_type": "code",
   "execution_count": 10,
   "metadata": {
    "collapsed": false
   },
   "outputs": [
    {
     "name": "stdout",
     "output_type": "stream",
     "text": [
      "Как хотите присвоить ID пользователям?\n",
      "Нажмите 1 - присвоить ID автоматически, по порядку от 1 до 10.\n",
      "Нажмите 2 - присвоить ID автоматически, случайно от 1 до 10.\n",
      "Нажмите 3 - ввести ID пользователей вручную\n",
      "1\n",
      "\n",
      "ID всех пользователей:\n",
      "\n",
      "ID 1 пользователя: x1 = 1\n",
      "ID 2 пользователя: x2 = 2\n",
      "ID 3 пользователя: x3 = 3\n",
      "ID 4 пользователя: x4 = 4\n",
      "ID 5 пользователя: x5 = 5\n",
      "ID 6 пользователя: x6 = 6\n",
      "ID 7 пользователя: x7 = 7\n",
      "ID 8 пользователя: x8 = 8\n",
      "ID 9 пользователя: x9 = 9\n",
      "ID 10 пользователя: x10 = 10\n"
     ]
    }
   ],
   "source": [
    "mx = 1048576 #65536 #ограничим открытые ключи 2^20, если t>2, то ограничим все открытые ключи так, \n",
    "         #чтобы все возможные произведения разностей, для выч. Ci были тоже ограничены 2^20\n",
    "for i in range(mx):\n",
    "    if (t == 2):\n",
    "        break\n",
    "    if ((i ** (t - 1)) >= mx):\n",
    "        mx = i\n",
    "        break\n",
    "#print('Ограничение равно = %(mx)d\\n'%{\"mx\":mx})\n",
    "print('Как хотите присвоить ID пользователям?')\n",
    "print('Нажмите 1 - присвоить ID автоматически, по порядку от 1 до %(n)d.'%{\"n\":n})\n",
    "print('Нажмите 2 - присвоить ID автоматически, случайно от 1 до %(n)d.'%{\"n\":n})\n",
    "print('Нажмите 3 - ввести ID пользователей вручную')\n",
    "pressedKey = input()\n",
    "while True:\n",
    "    if (not pressedKey.isdigit() or int(pressedKey) == 0 or int(pressedKey) > 3):\n",
    "        pressedKey = input()\n",
    "    else:\n",
    "        break\n",
    "xn = np.array([0])\n",
    "print ('\\nID всех пользователей:\\n')\n",
    "if(pressedKey == '1'):\n",
    "    for j in range(n):\n",
    "        xn1 = np.array([j+1])\n",
    "        xn = np.concatenate((xn, xn1))\n",
    "        print ('ID %(j)d пользователя: x%(j)d = %(xn1)d' %{\"j\":j+1,\"xn1\":xn1[0]})\n",
    "if(pressedKey == '2'):\n",
    "    for j in range(n):\n",
    "        xn1 = np.array([0])\n",
    "        yn = False\n",
    "        while (not yn):\n",
    "            xn1[0] = random.randint(1,n)\n",
    "            for i in range(j+1):\n",
    "                if (xn1[0] == xn[i]):\n",
    "                    yn = False\n",
    "                    break\n",
    "                else:\n",
    "                    yn = True\n",
    "        xn = np.concatenate((xn,xn1))\n",
    "        print ('ID %(j)d пользователя: x%(j)d = %(xn1)d'%{\"j\":j+1,\"xn1\":xn1[0]})\n",
    "if(pressedKey == '3'):\n",
    "    for j in range(n):\n",
    "        xn1 = np.array([0])\n",
    "        yn = False\n",
    "        xn2 = \"\\0\"\n",
    "        while (not yn):\n",
    "            xn2 = input(\"Введите ID %(j)d пользователя: \"%{\"j\":j + 1})\n",
    "            if (not xn2.isdigit() and not is_float(xn2)): \n",
    "                print (color.RED + '\\nЭто не число!\\n'+color.END)\n",
    "                yn = False\n",
    "            elif (not xn2.isdigit() and is_float(xn2) and float(xn2)<0 and (int(float(xn2)) - float(xn2)) != 0):\n",
    "                print (color.RED + '\\nID не может быть отрицательным и дробным!\\n'+color.END)\n",
    "                yn = False\n",
    "            elif (not xn2.isdigit() and is_float(xn2) and (int(float(xn2))-float(xn2)) != 0):\n",
    "                print (color.RED+'\\nID не может быть дробным!\\n' + color.END)\n",
    "                yn = False\n",
    "            elif (int(xn2) < 0):\n",
    "                print (color.RED+'\\nID не может быть отрицательным!\\n' + color.END)\n",
    "                yn = False\n",
    "            elif (int(xn2) == 0): #тогда личный секрет будет равен полному секрету\n",
    "                print (color.RED+'\\nID не может быть 0!\\n' + color.END)\n",
    "                yn = False\n",
    "            elif (int(xn2) > mx):\n",
    "                print (color.RED + '\\nСлишком большое число, введите меньше %(mx)d!\\n'%{\"mx\":mx} + color.END)\n",
    "                yn = False\n",
    "            else:\n",
    "                for i in range(j + 1):\n",
    "                    if (int(xn2) == xn[i]):\n",
    "                        print (color.RED + '\\nТакой ID уже есть!\\n' + color.END)\n",
    "                        yn=False\n",
    "                        break\n",
    "                    else:\n",
    "                        yn=true\n",
    "        xn1[0] = int(xn2)\n",
    "        xn=np.concatenate((xn,xn1))\n",
    "        print (color.GREEN + '\\nID %(j)d пользователя: x%(j)d = %(xn1)d\\n'%{\"j\":j+1,\"xn1\":xn1[0]} + color.END)       \n",
    "    print(\" \")\n",
    "    for j in range(n):\n",
    "        print ('ID %(j)d пользователя: x%(j)d = %(xn1)d'%{\"j\":j + 1,\"xn1\":xn[j + 1]})"
   ]
  },
  {
   "cell_type": "code",
   "execution_count": 11,
   "metadata": {
    "collapsed": false
   },
   "outputs": [
    {
     "name": "stdout",
     "output_type": "stream",
     "text": [
      "Как хотите выбрать ID пользователей, которые в этот раз будут восстанавливать секрет?\n",
      "Нажмите 1 - выбрать ID автоматически, случайно.\n",
      "Нажмите 2 - ввести ID пользователей вручную\n",
      "2\n",
      "\n",
      "Введите ID пользователей, которые в этот раз будут восстанавливать секрет:\n",
      "\n",
      "ID первого пользователя: 1 3 5\n",
      "\u001b[91m\n",
      "Это не число!\n",
      "\u001b[0m\n",
      "ID первого пользователя: 1\n",
      "\u001b[92m\n",
      "ID первого пользователя = 1\n",
      "\u001b[0m\n",
      "ID 2 пользователя: 3\n",
      "\u001b[92m\n",
      "ID 2 пользователя = 3\n",
      "\u001b[0m\n",
      "ID 3 пользователя: 5\n",
      "\u001b[92m\n",
      "ID 3 пользователя = 5\n",
      "\u001b[0m\n",
      "ID 4 пользователя: 6\n",
      "\u001b[92m\n",
      "ID 4 пользователя = 6\n",
      "\u001b[0m\n",
      " \n",
      "ID 1 пользователя = 1\n",
      "ID 2 пользователя = 3\n",
      "ID 3 пользователя = 5\n",
      "ID 4 пользователя = 6\n"
     ]
    }
   ],
   "source": [
    "Mvost = np.array([0])\n",
    "Mvost1 = np.array([0])\n",
    "print('Как хотите выбрать ID пользователей, которые в этот раз будут восстанавливать секрет?')\n",
    "print('Нажмите 1 - выбрать ID автоматически, случайно.')\n",
    "print('Нажмите 2 - ввести ID пользователей вручную')\n",
    "pressedKey = input()\n",
    "while True:\n",
    "    if (not pressedKey.isdigit() or int(pressedKey) == 0 or int(pressedKey) > 2):\n",
    "        pressedKey = input()\n",
    "    else:\n",
    "        break\n",
    "if(pressedKey == '1'):\n",
    "    print('\\nID пользователей:\\n')\n",
    "    for i in range(t):\n",
    "        if (i == 0):\n",
    "            Mvost[0] = xn[random.randint(1,n)]\n",
    "        else:\n",
    "            yn=false\n",
    "            while (not yn):\n",
    "                Mvost1[0] = xn[random.randint(1,n)]\n",
    "                for j in range(i):\n",
    "                    if (Mvost1[0] == Mvost[j]):\n",
    "                        yn=false\n",
    "                        break\n",
    "                    else:\n",
    "                        yn=true\n",
    "            Mvost=np.concatenate((Mvost,Mvost1))\n",
    "        print('ID %(i)d пользователя = %(Mvost)d'%{\"i\":i + 1,\"Mvost\":Mvost[i]})\n",
    "if(pressedKey == '2'):\n",
    "    print('\\nВведите ID пользователей, которые в этот раз будут восстанавливать секрет:\\n')\n",
    "    for i in range(t):\n",
    "        if (i == 0):\n",
    "            MvostP = input(\"ID первого пользователя: \") \n",
    "            while True:\n",
    "                if (not MvostP.isdigit() and not is_float(MvostP)): \n",
    "                    print (color.RED + '\\nЭто не число!\\n' + color.END)\n",
    "                    MvostP = input('ID первого пользователя: ')\n",
    "                    continue \n",
    "                elif (not MvostP.isdigit() and is_float(MvostP) and (int(float(MvostP)) - float(MvostP)) != 0 and float(MvostP) < 0):\n",
    "                    print (color.RED + '\\nID не может быть дробным и отрицательным!\\n' + color.END)\n",
    "                    MvostP = input('ID первого пользователя: ')\n",
    "                    continue\n",
    "                elif (not MvostP.isdigit() and is_float(MvostP) and (int(float(MvostP)) - float(MvostP)) != 0):\n",
    "                    print (color.RED+'\\nЭто дробное число, введите целое!\\n'+color.END)\n",
    "                    MvostP = input('ID первого пользователя: ')\n",
    "                    continue\n",
    "                elif (int(MvostP) < 0):\n",
    "                    print (color.RED+'\\nID не может быть отрицательным!\\n'+color.END)\n",
    "                    MvostP = input('ID первого пользователя: ')\n",
    "                    continue\n",
    "                elif (int(MvostP) == 0):\n",
    "                    print (color.RED + '\\nID пользователя не может равняться 0!\\n'%{\"n\":n} + color.END)\n",
    "                    MvostP = input('ID первого пользователя: ')\n",
    "                    continue\n",
    "                else:\n",
    "                    yn = false\n",
    "                    for j in range(n):\n",
    "                        if (int(MvostP) != xn[j+1]):\n",
    "                            yn=false\n",
    "                        else:\n",
    "                            yn=true\n",
    "                            break\n",
    "                    if (yn):\n",
    "                        MvostP = int(MvostP)\n",
    "                        print(color.GREEN + '\\nID первого пользователя = %(ID)d\\n'%{\"ID\":MvostP} + color.END) \n",
    "                        break\n",
    "                    else:\n",
    "                        print (color.RED + '\\nНет пользователя с таким ID!\\n' + color.END)\n",
    "                        MvostP = input('ID первого пользователя: ')\n",
    "            Mvost[0]=MvostP\n",
    "        else:\n",
    "            MvostP = input(\"ID %(i)d пользователя: \"%{\"i\":i+1}) \n",
    "            while True:\n",
    "                if (not MvostP.isdigit() and not is_float(MvostP)): \n",
    "                    print (color.RED+'\\nЭто не число!\\n'+color.END)\n",
    "                    MvostP = input('ID %(i)d пользователя: '%{\"i\":i+1})\n",
    "                    continue\n",
    "                elif (not MvostP.isdigit() and is_float(MvostP) and (int(float(MvostP))-float(MvostP))!=0 and float(MvostP)<0):\n",
    "                    print (color.RED+'\\nID не может быть дробным и отрицательным!\\n'+color.END)\n",
    "                    MvostP = input('ID %(i)d пользователя: '%{\"i\":i+1})\n",
    "                    continue\n",
    "                elif (not MvostP.isdigit() and is_float(MvostP) and (int(float(MvostP))-float(MvostP))!=0):\n",
    "                    print (color.RED+'\\nЭто дробное число, введите целое!\\n'+color.END)\n",
    "                    MvostP = input('ID %(i)d пользователя: '%{\"i\":i+1})\n",
    "                    continue\n",
    "                elif (int(MvostP)<0):\n",
    "                    print (color.RED+'\\nID не может быть отрицательным!\\n'+color.END)\n",
    "                    MvostP = input('ID %(i)d пользователя: '%{\"i\":i+1})\n",
    "                    continue\n",
    "                elif (int(MvostP)==0):\n",
    "                    print (color.RED+'\\nID пользователя не может быть 0!\\n'%{\"n\":n}+color.END)\n",
    "                    MvostP = input('ID %(i)d пользователя: '%{\"i\":i+1})\n",
    "                    continue\n",
    "                else:\n",
    "                    yn = false\n",
    "                    for j in range(n):\n",
    "                        if (int(MvostP) != xn[j+1]):\n",
    "                            yn = false\n",
    "                        else:\n",
    "                            yn = true\n",
    "                            break\n",
    "                    if (yn):\n",
    "                        yn2 = false\n",
    "                        for j in range(i):\n",
    "                            if (int(MvostP) != Mvost[j]):\n",
    "                                yn2 = false\n",
    "                            else:\n",
    "                                yn2 = true\n",
    "                                break\n",
    "                        if (yn2):\n",
    "                            print (color.RED+'\\nВы уже выбрали пользователя с таким ID! Выберите другого!\\n'+color.END)\n",
    "                            MvostP = input('ID %(i)d пользователя: '%{\"i\":i+1})\n",
    "                        else:\n",
    "                            MvostP = int(MvostP)\n",
    "                            print(color.GREEN+'\\nID %(i)d пользователя = %(ID)d\\n'%{\"i\":i+1,\"ID\":MvostP}+color.END) \n",
    "                            break\n",
    "                    else:\n",
    "                        print (color.RED+'\\nНет пользователя с таким ID!\\n'+color.END)\n",
    "                        MvostP = input('ID %(i)d пользователя: '%{\"i\":i+1})\n",
    "            Mvost1[0] = MvostP\n",
    "            Mvost=np.concatenate((Mvost,Mvost1))\n",
    "    print(\" \")\n",
    "    for i in range(t):\n",
    "        print('ID %(i)d пользователя = %(Mvost)d'%{\"i\":i+1,\"Mvost\":Mvost[i]})"
   ]
  },
  {
   "cell_type": "code",
   "execution_count": 12,
   "metadata": {
    "collapsed": false
   },
   "outputs": [
    {
     "name": "stdout",
     "output_type": "stream",
     "text": [
      "Введите секрет(число): 17\n",
      "\u001b[92m\n",
      "Секрет S = a0 = 17\u001b[0m\n"
     ]
    }
   ],
   "source": [
    "S = input(\"Введите секрет(число): \")\n",
    "while True:\n",
    "    if (not S.isdigit() and not is_float(S)):\n",
    "        print (color.RED + '\\nЭто не число!\\n' + color.END)\n",
    "        S = input('Введите секрет(число): ')\n",
    "    elif (not S.isdigit() and is_float(S) and (int(float(S))-float(S)) != 0 and float(S) < 0):\n",
    "        print (color.RED + '\\nСекрет не может быть дробным и отрицательным!\\n' + color.END)\n",
    "        S = input('Введите секрет(число): ')\n",
    "    elif (not S.isdigit() and is_float(S) and (int(float(S))-float(S)) != 0):\n",
    "        print (color.RED + '\\nЭто дробное число, введите целое!\\n' + color.END)\n",
    "        S = input('Введите секрет(число): ')\n",
    "    elif (int(S)<0):\n",
    "        print (color.RED + '\\nСекрет не может быть отрицательным!\\n' + color.END)\n",
    "        S = input('Введите секрет(число): ')\n",
    "    else:\n",
    "        S = int(S)\n",
    "        print(color.GREEN + '\\nСекрет S = a0 = %(S)d'%{\"S\":S} + color.END) \n",
    "        break"
   ]
  },
  {
   "cell_type": "code",
   "execution_count": 13,
   "metadata": {
    "collapsed": false
   },
   "outputs": [
    {
     "name": "stdout",
     "output_type": "stream",
     "text": [
      "Простое число, больше секрета: N = 509\n"
     ]
    }
   ],
   "source": [
    "max1 = mult2(xn,n,t)\n",
    "N = 0\n",
    "if (max1 > S + 1):\n",
    "    N = max1\n",
    "else:\n",
    "    N = S + 1\n",
    "while (not(isPrime(N))):\n",
    "    N += 1\n",
    "print('Простое число, больше секрета: N = %(N)d'%{\"N\":N})"
   ]
  },
  {
   "cell_type": "code",
   "execution_count": 14,
   "metadata": {
    "collapsed": false
   },
   "outputs": [
    {
     "name": "stdout",
     "output_type": "stream",
     "text": [
      "Как хотите ввести коэффициенты секретного многочлена?\n",
      "Нажмите 1 - выбрать коэффициенты автоматически, случайно (целое от 0 до N = 509).\n",
      "Нажмите 2 - ввести коэффициенты многочлена вручную\n",
      "2\n",
      "Введите коэффициент a1: 7\n",
      "\u001b[92m\n",
      "Коэффициент a1 = 7\u001b[0m\n",
      "Введите коэффициент a2: 8\n",
      "\u001b[92m\n",
      "Коэффициент a2 = 8\u001b[0m\n",
      "Введите коэффициент a3: 9\n",
      "\u001b[92m\n",
      "Коэффициент a3 = 9\u001b[0m\n",
      "\n",
      "Коэффициенты секретного многочлена:\n",
      "a1 = 7\n",
      "a2 = 8\n",
      "a3 = 9\n",
      "\n",
      "Секретный многочлен:\n",
      "f(x) = 9*x**3 + 8*x**2 + 7*x + 17 mod 509\n"
     ]
    }
   ],
   "source": [
    "xt = np.array([S])\n",
    "i=1\n",
    "print('Как хотите ввести коэффициенты секретного многочлена?')\n",
    "print('Нажмите 1 - выбрать коэффициенты автоматически, случайно (целое от 0 до N = %(N)d).'%{\"N\":N})\n",
    "print('Нажмите 2 - ввести коэффициенты многочлена вручную')\n",
    "pressedKey = input()\n",
    "while True:\n",
    "    if (not pressedKey.isdigit() or int(pressedKey)==0 or int(pressedKey)>2):\n",
    "        pressedKey = input()\n",
    "    else:\n",
    "        break\n",
    "if(pressedKey == '1'):\n",
    "    while (i <= t - 1):\n",
    "        xt1 = np.array([random.randint(0,N-1)])\n",
    "        xt = np.concatenate((xt, xt1))\n",
    "        i += 1\n",
    "    fx = xt[0]\n",
    "    print ('Коэффициенты секретного многочлена:')\n",
    "    for j in range (i - 1):\n",
    "        print ('a%(u)d'%{\"u\":j+1}+' = %(xt)d'%{\"xt\":xt[j + 1]})\n",
    "        fx += xt[j + 1] * x ** (j + 1)\n",
    "if(pressedKey == '2'):\n",
    "    while (i <= t - 1):\n",
    "        xtP = input(\"Введите коэффициент a%(i)d: \"%{\"i\":i})\n",
    "        while True:\n",
    "            if (not xtP.isdigit() and not is_float(xtP)):\n",
    "                print (color.RED + '\\nЭто не число!\\n' + color.END)\n",
    "                xtP = input('Введите коэффициент a%(i)d: '%{\"i\":i})\n",
    "            elif (xtP.isdigit() and int(xtP) >= N):\n",
    "                print (color.RED + '\\nКэффициент не может быть больше или равен N!\\n'+color.END)\n",
    "                xtP = input('Введите коэффициент a%(i)d: '%{\"i\":i})\n",
    "            elif (not xtP.isdigit() and is_float(xtP) and ((int(float(xtP)) - float(xtP)) != 0)):\n",
    "                print (color.RED + '\\nЭто дробное число, введите целое!\\n' + color.END)\n",
    "                xtP = input('Введите коэффициент a%(i)d: '%{\"i\":i})\n",
    "            else:\n",
    "                xtP = int(xtP)\n",
    "                print(color.GREEN+'\\nКоэффициент a%(i)d = %(xtP)d'%{\"i\":i,\"xtP\":xtP}+color.END) \n",
    "                break\n",
    "        xt1=np.array([xtP])\n",
    "        xt=np.concatenate((xt,xt1))\n",
    "        i+=1\n",
    "    fx=xt[0]\n",
    "    print ('\\nКоэффициенты секретного многочлена:')\n",
    "    for j in range (i-1):\n",
    "        print ('a%(u)d'%{\"u\":j + 1}+' = %(xt)d'%{\"xt\":xt[j + 1]})\n",
    "        fx += xt[j + 1] * x ** (j + 1)\n",
    "print ('\\nСекретный многочлен:')\n",
    "print ('f(x) = %(fx)s mod %(N)d'%{\"fx\":fx,\"N\":N})"
   ]
  },
  {
   "cell_type": "code",
   "execution_count": 15,
   "metadata": {
    "collapsed": false
   },
   "outputs": [
    {
     "name": "stdout",
     "output_type": "stream",
     "text": [
      "\n",
      "Секреты пользователей:\n",
      "S1 = f(x1) mod (509) = 41;\t\tID = 1;\tпара (открытый кл.(ID);закрытый кл.(личный секрет)) = (1;41)\n",
      "S2 = f(x2) mod (509) = 135;\t\tID = 2;\tпара (открытый кл.(ID);закрытый кл.(личный секрет)) = (2;135)\n",
      "S3 = f(x3) mod (509) = 353;\t\tID = 3;\tпара (открытый кл.(ID);закрытый кл.(личный секрет)) = (3;353)\n",
      "S4 = f(x4) mod (509) = 240;\t\tID = 4;\tпара (открытый кл.(ID);закрытый кл.(личный секрет)) = (4;240)\n",
      "S5 = f(x5) mod (509) = 359;\t\tID = 5;\tпара (открытый кл.(ID);закрытый кл.(личный секрет)) = (5;359)\n",
      "S6 = f(x6) mod (509) = 255;\t\tID = 6;\tпара (открытый кл.(ID);закрытый кл.(личный секрет)) = (6;255)\n",
      "S7 = f(x7) mod (509) = 491;\t\tID = 7;\tпара (открытый кл.(ID);закрытый кл.(личный секрет)) = (7;491)\n",
      "S8 = f(x8) mod (509) = 103;\t\tID = 8;\tпара (открытый кл.(ID);закрытый кл.(личный секрет)) = (8;103)\n",
      "S9 = f(x9) mod (509) = 163;\t\tID = 9;\tпара (открытый кл.(ID);закрытый кл.(личный секрет)) = (9;163)\n",
      "S10 = f(x10) mod (509) = 216;\t\tID = 10;\tпара (открытый кл.(ID);закрытый кл.(личный секрет)) = (10;216)\n"
     ]
    }
   ],
   "source": [
    "print('\\nСекреты пользователей:') \n",
    "sn = np.array([S]) \n",
    "for i in range(n): \n",
    "    sn1 = np.array([fx.subs({x:xn[i + 1]}) % N]) \n",
    "    sn = np.concatenate((sn, sn1)) \n",
    "    print('S%(i)d = f(x%(i)d) mod (%(N)d) = %(j)d;\\t\\tID = %(xn)d;\\tпара (открытый кл.(ID);закрытый кл.(личный секрет)) = (%(xn)d;%(j)d)'%{\"i\":i+1,\"N\":N,\"j\":sn1[0],\"xn\":xn[i+1]})"
   ]
  },
  {
   "cell_type": "code",
   "execution_count": 16,
   "metadata": {
    "collapsed": false
   },
   "outputs": [
    {
     "name": "stdout",
     "output_type": "stream",
     "text": [
      "Пары ключей пользователей, восстанавливающих секрет:\n",
      "Для ID = 1\t\t(1; 41)\n",
      "Для ID = 3\t\t(3; 353)\n",
      "Для ID = 5\t\t(5; 359)\n",
      "Для ID = 6\t\t(6; 255)\n"
     ]
    }
   ],
   "source": [
    "print('Пары ключей пользователей, восстанавливающих секрет:')\n",
    "st = np.array([0])\n",
    "for i in range(t):\n",
    "    if (i == 0):\n",
    "        for j in range(n + 1):\n",
    "            if (xn[j] == Mvost[i]):\n",
    "                st[0]=sn[j]\n",
    "    else:\n",
    "        st1 = np.array([0])\n",
    "        for j in range(n + 1):\n",
    "            if (xn[j] == Mvost[i]):\n",
    "                st1[0]=sn[j]\n",
    "        st = np.concatenate((st, st1))\n",
    "    print('Для ID = %(ID)d\\t\\t(%(ID)d; %(S)d)'%{\"ID\":Mvost[i],\"S\":st[i]})"
   ]
  },
  {
   "cell_type": "code",
   "execution_count": 17,
   "metadata": {
    "collapsed": false
   },
   "outputs": [
    {
     "name": "stdout",
     "output_type": "stream",
     "text": [
      "Ci для пользователей, восстанавливающих секрет\n",
      "Для ID = 1\t\tC1 = 369\n",
      "Для ID = 3\t\tC3 = 297\n",
      "Для ID = 5\t\tC5 = 318\n",
      "Для ID = 6\t\tC6 = 34\n"
     ]
    }
   ],
   "source": [
    "print('Ci для пользователей, восстанавливающих секрет')\n",
    "C=np.array([0]) #коэффициенты Ci\n",
    "for i in range(t):\n",
    "    if (i==0):\n",
    "        C[0] = mulinv(mult(Mvost,t,i),N)\n",
    "    else:\n",
    "        C1 = np.array([mulinv(mult(Mvost,t,i),N)])\n",
    "        C = np.concatenate((C,C1))\n",
    "for i in range(t):\n",
    "    print('Для ID = %(Mvost)d\\t\\tC%(Mvost)d = %(C)d'%{\"Mvost\":Mvost[i],\"C\":C[i]})"
   ]
  },
  {
   "cell_type": "raw",
   "metadata": {},
   "source": [
    "Восстановление секрета!"
   ]
  },
  {
   "cell_type": "code",
   "execution_count": 18,
   "metadata": {
    "collapsed": false
   },
   "outputs": [
    {
     "name": "stdout",
     "output_type": "stream",
     "text": [
      "Восстановленный секрет S' = 17\n",
      "Заданный секрет S = 17\n"
     ]
    }
   ],
   "source": [
    "S1 = 0\n",
    "tt = 1\n",
    "if (((t - 1) % 2) == 0): # -1 или +1\n",
    "    tt = 1\n",
    "else:\n",
    "    tt = -1\n",
    "for i in range(t):\n",
    "    xj = 1\n",
    "    for j in range(t):\n",
    "        if (j != i):\n",
    "            xj *= Mvost[j]    \n",
    "    S1 += st[i] * C[i] * tt * xj\n",
    "S1 %= N\n",
    "print('Восстановленный секрет S\\' = %(S)d'%{\"S\":S1})\n",
    "print('Заданный секрет S = %(S)d'%{\"S\":S})"
   ]
  },
  {
   "cell_type": "code",
   "execution_count": null,
   "metadata": {
    "collapsed": true
   },
   "outputs": [],
   "source": []
  }
 ],
 "metadata": {
  "kernelspec": {
   "display_name": "Python 3",
   "language": "python",
   "name": "python3"
  },
  "language_info": {
   "codemirror_mode": {
    "name": "ipython",
    "version": 3
   },
   "file_extension": ".py",
   "mimetype": "text/x-python",
   "name": "python",
   "nbconvert_exporter": "python",
   "pygments_lexer": "ipython3",
   "version": "3.5.3"
  }
 },
 "nbformat": 4,
 "nbformat_minor": 2
}
