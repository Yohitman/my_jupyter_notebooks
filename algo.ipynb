{
 "cells": [
  {
   "cell_type": "code",
   "execution_count": null,
   "metadata": {},
   "outputs": [],
   "source": [
    "def fib(n):\n",
    "    s = {0 : 0, 1 : 1}\n",
    "    for j in range(2, n + 1):\n",
    "        s[j] = (s[j - 1] + s[j - 2]) % 100000\n",
    "    return(s[n] % m)\n",
    "n = int(input())\n",
    "print(fib(n))\n"
   ]
  },
  {
   "cell_type": "code",
   "execution_count": null,
   "metadata": {},
   "outputs": [],
   "source": [
    "len(str(52))"
   ]
  },
  {
   "cell_type": "code",
   "execution_count": null,
   "metadata": {},
   "outputs": [],
   "source": [
    "def fib_mod(n, m):\n",
    "    s = {0 : 0, 1 : 1}\n",
    "    for j in range(2, n + 1):\n",
    "        s[j] = (s[j - 1] + s.pop(j - 2)) % m\n",
    "        \n",
    "    return(s[n])\n",
    "\n",
    "\n",
    "def main():\n",
    "    n, m = map(int, input().split())\n",
    "    print(fib_mod(n, m))\n",
    "\n",
    "\n",
    "if __name__ == \"__main__\":\n",
    "    main()"
   ]
  },
  {
   "cell_type": "code",
   "execution_count": null,
   "metadata": {},
   "outputs": [],
   "source": [
    "def gcd(a, b):\n",
    "    if a == 0 or b == 0:\n",
    "        return max(a, b)\n",
    "    while True:\n",
    "        x = max(a, b)\n",
    "        y = min(a, b)\n",
    "        x = x % y\n",
    "        gcd(x, y)\n",
    "        break\n",
    "\n",
    "def main():\n",
    "    a, b = map(int, input().split())\n",
    "    print(gcd(a, b))\n",
    "\n",
    "\n",
    "if __name__ == \"__main__\":\n",
    "    main()"
   ]
  },
  {
   "cell_type": "code",
   "execution_count": 14,
   "metadata": {},
   "outputs": [
    {
     "name": "stdout",
     "output_type": "stream",
     "text": [
      "3\n",
      "1 3\n",
      "2 5\n",
      "3 6\n",
      "3\n",
      "3\n",
      "5\n",
      "6\n"
     ]
    }
   ],
   "source": [
    "n = int(input())\n",
    "otr = []\n",
    "for i in range(1, n + 1):\n",
    "    l, r = map(int, input().split())\n",
    "    otr.append([l, r])\n",
    "\n",
    "def getKey(item):\n",
    "    return item[1]\n",
    "otr.sort(key = getKey)  \n",
    "otv = []\n",
    "otv.append(otr[0][1])\n",
    "for k in otr:\n",
    "    if k[1] in otv or otv[-1] in k:\n",
    "        continue\n",
    "    otv.append(k[1])\n",
    "print(len(otv))\n",
    "for i in otv:\n",
    "    print(i)\n",
    "    "
   ]
  },
  {
   "cell_type": "code",
   "execution_count": null,
   "metadata": {},
   "outputs": [],
   "source": [
    "n, W = map(int, input().split())\n",
    "things = []\n",
    "for _ in range(n):\n",
    "    prc, wght = map(int, input().split())\n",
    "    if wght < 0:\n",
    "        continue\n",
    "    things.append([prc, wght, prc/wght])\n",
    "def getKey(item):\n",
    "    return item[2]\n",
    "things.sort(key = getKey, reverse = True)\n",
    "s, i = 0, 0 \n",
    "while W and i < n:\n",
    "    if things[i][1] - W <= 0:\n",
    "        W -= things[i][1]\n",
    "        s += things[i][0]\n",
    "    else:\n",
    "        s += things[i][2]*W\n",
    "        break\n",
    "    i += 1\n",
    "    \n",
    "print(s)"
   ]
  },
  {
   "cell_type": "code",
   "execution_count": 3,
   "metadata": {
    "scrolled": false
   },
   "outputs": [
    {
     "name": "stdout",
     "output_type": "stream",
     "text": [
      "7\n",
      "4\n",
      "1 2 3 5\n"
     ]
    }
   ],
   "source": [
    "n = int(input())\n",
    "otv = []\n",
    "i = 0\n",
    "s = 0\n",
    "while True:\n",
    "    i += 1\n",
    "    s += i\n",
    "    if s < n:\n",
    "        otv.append(i)\n",
    "        continue\n",
    "    elif s == n:\n",
    "        otv.append(i)\n",
    "        break\n",
    "    elif s > n:\n",
    "        s = s - 2*i + 1\n",
    "        while True:\n",
    "            i += 1\n",
    "            s += i\n",
    "            if s < n:\n",
    "                s -= i\n",
    "            else:\n",
    "                otv.append(i)\n",
    "                break\n",
    "        break\n",
    "print(len(otv))\n",
    "print(*otv)"
   ]
  },
  {
   "cell_type": "code",
   "execution_count": 6,
   "metadata": {},
   "outputs": [
    {
     "name": "stdout",
     "output_type": "stream",
     "text": [
      "aavvgggrrrrrr\n",
      "{2: ['v', 'a'], 3: ['g'], 6: ['r']}\n",
      "[2, 3, 6]\n"
     ]
    }
   ],
   "source": [
    "s = input()\n",
    "lett = set(s)\n",
    "countlet = {}\n",
    "for i in lett:\n",
    "    k = s.count(i)\n",
    "    if k not in countlet:\n",
    "        countlet[k] = [i]\n",
    "    else:\n",
    "        countlet[k].append(i)\n",
    "print(countlet)\n",
    "l = sorted(list(countlet.keys()))\n",
    "print(l)\n",
    "slov = {}\n",
    "for i in l:\n",
    "    \n",
    "    \n",
    "    \n",
    "    "
   ]
  }
 ],
 "metadata": {
  "kernelspec": {
   "display_name": "Python 3",
   "language": "python",
   "name": "python3"
  },
  "language_info": {
   "codemirror_mode": {
    "name": "ipython",
    "version": 3
   },
   "file_extension": ".py",
   "mimetype": "text/x-python",
   "name": "python",
   "nbconvert_exporter": "python",
   "pygments_lexer": "ipython3",
   "version": "3.6.4"
  }
 },
 "nbformat": 4,
 "nbformat_minor": 2
}
