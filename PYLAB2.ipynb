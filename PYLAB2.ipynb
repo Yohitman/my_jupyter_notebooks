{
 "cells": [
  {
   "cell_type": "markdown",
   "metadata": {},
   "source": [
    "# Метод Фибоначчи"
   ]
  },
  {
   "cell_type": "code",
   "execution_count": null,
   "metadata": {
    "collapsed": true
   },
   "outputs": [],
   "source": []
  },
  {
   "cell_type": "code",
   "execution_count": 24,
   "metadata": {
    "collapsed": false
   },
   "outputs": [
    {
     "name": "stdout",
     "output_type": "stream",
     "text": [
      "Ответ в радианах:  x = 0.37288151547081566 , y = 2.5617384420375164\n",
      "Ответ в градусах:  x = 21.36453709491985 , y = 2.5617384420375164\n"
     ]
    },
    {
     "data": {
      "text/html": [
       "<div>\n",
       "<table border=\"1\" class=\"dataframe\">\n",
       "  <thead>\n",
       "    <tr style=\"text-align: right;\">\n",
       "      <th></th>\n",
       "      <th>L</th>\n",
       "      <th>x1</th>\n",
       "      <th>x2</th>\n",
       "      <th>R</th>\n",
       "      <th>f(l)</th>\n",
       "      <th>f(x1)</th>\n",
       "      <th>f(x2)</th>\n",
       "      <th>f(r)</th>\n",
       "      <th>N</th>\n",
       "    </tr>\n",
       "  </thead>\n",
       "  <tbody>\n",
       "    <tr>\n",
       "      <th>0</th>\n",
       "      <td>0.000000</td>\n",
       "      <td>0.382022</td>\n",
       "      <td>0.617978</td>\n",
       "      <td>1.000000</td>\n",
       "      <td>2.750000</td>\n",
       "      <td>2.561882</td>\n",
       "      <td>2.663158</td>\n",
       "      <td>3.532335</td>\n",
       "      <td>4</td>\n",
       "    </tr>\n",
       "    <tr>\n",
       "      <th>1</th>\n",
       "      <td>0.000000</td>\n",
       "      <td>0.236081</td>\n",
       "      <td>0.382022</td>\n",
       "      <td>0.617978</td>\n",
       "      <td>2.750000</td>\n",
       "      <td>2.587888</td>\n",
       "      <td>2.561882</td>\n",
       "      <td>2.663158</td>\n",
       "      <td>1</td>\n",
       "    </tr>\n",
       "    <tr>\n",
       "      <th>2</th>\n",
       "      <td>0.236081</td>\n",
       "      <td>0.382022</td>\n",
       "      <td>0.472085</td>\n",
       "      <td>0.617978</td>\n",
       "      <td>2.587888</td>\n",
       "      <td>2.561882</td>\n",
       "      <td>2.577138</td>\n",
       "      <td>2.663158</td>\n",
       "      <td>1</td>\n",
       "    </tr>\n",
       "    <tr>\n",
       "      <th>3</th>\n",
       "      <td>0.236081</td>\n",
       "      <td>0.326240</td>\n",
       "      <td>0.382022</td>\n",
       "      <td>0.472085</td>\n",
       "      <td>2.587888</td>\n",
       "      <td>2.564799</td>\n",
       "      <td>2.561882</td>\n",
       "      <td>2.577138</td>\n",
       "      <td>1</td>\n",
       "    </tr>\n",
       "    <tr>\n",
       "      <th>4</th>\n",
       "      <td>0.326240</td>\n",
       "      <td>0.382022</td>\n",
       "      <td>0.416369</td>\n",
       "      <td>0.472085</td>\n",
       "      <td>2.564799</td>\n",
       "      <td>2.561882</td>\n",
       "      <td>2.564674</td>\n",
       "      <td>2.577138</td>\n",
       "      <td>1</td>\n",
       "    </tr>\n",
       "    <tr>\n",
       "      <th>5</th>\n",
       "      <td>0.326240</td>\n",
       "      <td>0.360671</td>\n",
       "      <td>0.382022</td>\n",
       "      <td>0.416369</td>\n",
       "      <td>2.564799</td>\n",
       "      <td>2.561932</td>\n",
       "      <td>2.561882</td>\n",
       "      <td>2.564674</td>\n",
       "      <td>1</td>\n",
       "    </tr>\n",
       "    <tr>\n",
       "      <th>6</th>\n",
       "      <td>0.360671</td>\n",
       "      <td>0.382022</td>\n",
       "      <td>0.395091</td>\n",
       "      <td>0.416369</td>\n",
       "      <td>2.561932</td>\n",
       "      <td>2.561882</td>\n",
       "      <td>2.562520</td>\n",
       "      <td>2.564674</td>\n",
       "      <td>1</td>\n",
       "    </tr>\n",
       "    <tr>\n",
       "      <th>7</th>\n",
       "      <td>0.360671</td>\n",
       "      <td>0.373820</td>\n",
       "      <td>0.382022</td>\n",
       "      <td>0.395091</td>\n",
       "      <td>2.561932</td>\n",
       "      <td>2.561742</td>\n",
       "      <td>2.561882</td>\n",
       "      <td>2.562520</td>\n",
       "      <td>1</td>\n",
       "    </tr>\n",
       "    <tr>\n",
       "      <th>8</th>\n",
       "      <td>0.360671</td>\n",
       "      <td>0.368828</td>\n",
       "      <td>0.373820</td>\n",
       "      <td>0.382022</td>\n",
       "      <td>2.561932</td>\n",
       "      <td>2.561754</td>\n",
       "      <td>2.561742</td>\n",
       "      <td>2.561882</td>\n",
       "      <td>1</td>\n",
       "    </tr>\n",
       "    <tr>\n",
       "      <th>9</th>\n",
       "      <td>0.368828</td>\n",
       "      <td>0.373820</td>\n",
       "      <td>0.376982</td>\n",
       "      <td>0.382022</td>\n",
       "      <td>2.561754</td>\n",
       "      <td>2.561742</td>\n",
       "      <td>2.561772</td>\n",
       "      <td>2.561882</td>\n",
       "      <td>1</td>\n",
       "    </tr>\n",
       "  </tbody>\n",
       "</table>\n",
       "</div>"
      ],
      "text/plain": [
       "          L        x1        x2         R      f(l)     f(x1)     f(x2)  \\\n",
       "0  0.000000  0.382022  0.617978  1.000000  2.750000  2.561882  2.663158   \n",
       "1  0.000000  0.236081  0.382022  0.617978  2.750000  2.587888  2.561882   \n",
       "2  0.236081  0.382022  0.472085  0.617978  2.587888  2.561882  2.577138   \n",
       "3  0.236081  0.326240  0.382022  0.472085  2.587888  2.564799  2.561882   \n",
       "4  0.326240  0.382022  0.416369  0.472085  2.564799  2.561882  2.564674   \n",
       "5  0.326240  0.360671  0.382022  0.416369  2.564799  2.561932  2.561882   \n",
       "6  0.360671  0.382022  0.395091  0.416369  2.561932  2.561882  2.562520   \n",
       "7  0.360671  0.373820  0.382022  0.395091  2.561932  2.561742  2.561882   \n",
       "8  0.360671  0.368828  0.373820  0.382022  2.561932  2.561754  2.561742   \n",
       "9  0.368828  0.373820  0.376982  0.382022  2.561754  2.561742  2.561772   \n",
       "\n",
       "       f(r)  N  \n",
       "0  3.532335  4  \n",
       "1  2.663158  1  \n",
       "2  2.663158  1  \n",
       "3  2.577138  1  \n",
       "4  2.577138  1  \n",
       "5  2.564674  1  \n",
       "6  2.564674  1  \n",
       "7  2.562520  1  \n",
       "8  2.561882  1  \n",
       "9  2.561882  1  "
      ]
     },
     "execution_count": 24,
     "metadata": {},
     "output_type": "execute_result"
    }
   ],
   "source": [
    "from matplotlib import  mlab\n",
    "import pylab\n",
    "import math as m\n",
    "import matplotlib.pyplot as plt\n",
    "import numpy as np\n",
    "import pandas as pd\n",
    "\n",
    "fu = 0;\n",
    "\n",
    "def f(x):\n",
    "    global fu\n",
    "    fu += 1;\n",
    "    return (2.75 - m.sin(x)) / m.cos(x)\n",
    "\n",
    "L, R, FL, FR, X1, X2, FX1, FX2, FU = [], [], [], [], [], [], [], [], []\n",
    "N = [4, 1, 1, 1, 1, 1, 1, 1, 1, 1, 1]\n",
    "\n",
    "def gss(l, r, eps):\n",
    "    global fu\n",
    "    phi = 144 / 89\n",
    "    resphi = 2 - phi\n",
    "    L.append(l)\n",
    "    R.append(r)\n",
    "    FL.append(f(l))\n",
    "    FR.append(f(r))\n",
    "    x1 = l + resphi * (r - l); X1.append(x1)\n",
    "    x2 = r - resphi * (r - l); X2.append(x2)\n",
    "    f1 = f(x1); FX1.append(f1)\n",
    "    f2 = f(x2); FX2.append(f2)\n",
    "    k = 0\n",
    "    FU.append(fu); fu = 0;\n",
    "    #print('k = ', k)\n",
    "    if f1 < f2:\n",
    "        r = x2; R.append(r); L.append(l)\n",
    "        FR.append(f(r))\n",
    "        FL.append(f(l))\n",
    "        x2 = x1; X2.append(x2)\n",
    "        f2 = f1; FX2.append(f2)\n",
    "        x1 = l + resphi * (r - l); X1.append(x1)\n",
    "        f1 = f(x1); FX1.append(f1)\n",
    "    else:\n",
    "        l = x1; L.append(l); R.append(r)\n",
    "        FR.append(f(r))\n",
    "        FL.append(f(l))\n",
    "        x1 = x2; X1.append(x1)\n",
    "        f1 = f2; FX1.append(f1)\n",
    "        x2 = r - resphi * (r - l); X2.append(x2)\n",
    "        f2 = f(x2); FX2.append(f2)\n",
    "        \n",
    "    FU.append(fu); fu = 0;\n",
    "    #print(len(L), ' ',len(R), ' ',len(X1), ' ',len(X2), ' ',len(FX1), ' ',len(FX2), ' ',len(FL), ' ',len(FR), ' ',)\n",
    "    while abs(r - l) > eps:\n",
    "        k += 1\n",
    "        #print('k = ', k)\n",
    "        if f1 < f2:\n",
    "            r = x2; R.append(r); L.append(l)\n",
    "            FR.append(f(r))\n",
    "            FL.append(f(l))\n",
    "            x2 = x1; X2.append(x2)\n",
    "            f2 = f1; FX2.append(f2)\n",
    "            x1 = l + resphi * (r - l); X1.append(x1)\n",
    "            f1 = f(x1); FX1.append(f1)\n",
    "        else:\n",
    "            l = x1; L.append(l); R.append(r)\n",
    "            FL.append(f(l))\n",
    "            FR.append(f(r))\n",
    "            x1 = x2; X1.append(x1)\n",
    "            f1 = f2; FX1.append(f1)\n",
    "            x2 = r - resphi * (r - l); X2.append(x2)\n",
    "            f2 = f(x2); FX2.append(f2)\n",
    "        FU.append(fu); fu = 0;\n",
    "        #print(len(L), ' ',len(R), ' ',len(X1), ' ',len(X2), ' ',len(FX1), ' ',len(FX2), ' ',len(FL), ' ',len(FR), ' ',)\n",
    "    return (x1 + x2) / 2\n",
    "\n",
    "x = gss(0, 1, 0.01)\n",
    "#print('L ', L)\n",
    "#print('R ', R)\n",
    "#print('X1 ', X1) \n",
    "#print('X2 ', X2) \n",
    "#print('FL ', FL) \n",
    "#print('FR ', FR) \n",
    "#print('FX1 ', FX1) \n",
    "#print('FX2 ', FX2)\n",
    "\n",
    "#print(FX2)\n",
    "#print(np.transpose(np.transpose(FX2)))\n",
    "\n",
    "items = [L, R, X1, X2, FL, FR, FX1, FX2, FU]\n",
    "list(map(lambda x: np.transpose(x), items))\n",
    "\n",
    "print(\"Ответ в радианах: \", \"x =\", x,            ',', \"y =\", f(x))\n",
    "print(\"Ответ в градусах: \", \"x =\", m.degrees(x), ',', \"y =\", f(x))\n",
    "\n",
    "raw_data =({'L':L, 'x1':X1, 'x2':X2, 'R':R, 'f(l)':FL, 'f(x1)':FX1, 'f(x2)':FX2, 'f(r)':FR, 'N': N})\n",
    "df = pd.DataFrame(raw_data, columns = ['L', 'x1', 'x2', 'R', 'f(l)', 'f(x1)', 'f(x2)', 'f(r)', 'N'])\n",
    "df[0:10]"
   ]
  },
  {
   "cell_type": "markdown",
   "metadata": {},
   "source": []
  },
  {
   "cell_type": "code",
   "execution_count": null,
   "metadata": {
    "collapsed": true
   },
   "outputs": [],
   "source": []
  },
  {
   "cell_type": "code",
   "execution_count": 25,
   "metadata": {
    "collapsed": false
   },
   "outputs": [
    {
     "data": {
      "image/png": "[encoded data removed]",
      "text/plain": [
       "<matplotlib.figure.Figure at 0x16e102edf98>"
      ]
     },
     "metadata": {},
     "output_type": "display_data"
    }
   ],
   "source": [
    "xlist = mlab.frange(0, 1, 0.01)\n",
    "ylist = [f(x) for x in xlist]\n",
    "a = np.array([0, 0, 1, 1])\n",
    "b = np.array([1.75, 3, 3, 1.75])\n",
    "j = 2.25\n",
    "X_1=X1[1:]\n",
    "X_2=X2[1:]\n",
    "for i in range(len(X_1)):\n",
    "    a1 = np.array([X_1[i], X_1[i], X_2[i-1], X_2[i-1]])\n",
    "    b1 = np.array([1.75, j, j, 1.75])\n",
    "    j -= 0.05\n",
    "    pylab.plot(xlist,ylist, a, b, a1, b1)\n",
    "pylab.xlabel(\"Угол в радианах\")\n",
    "pylab.ylabel(\"L\")\n",
    "pylab.title(\"Лабораторная работа №2 (оптимизация методом Фибоначчи)\")\n",
    "pylab.grid()\n",
    "pylab.show()"
   ]
  },
  {
   "cell_type": "markdown",
   "metadata": {},
   "source": [
    "# Метод Парабол"
   ]
  },
  {
   "cell_type": "code",
   "execution_count": 29,
   "metadata": {
    "collapsed": false
   },
   "outputs": [
    {
     "name": "stdout",
     "output_type": "stream",
     "text": [
      "Ответ в радианах:  x = 0.3721586378516429 , y = 2.561737691634453\n",
      "Ответ в градусах:  x = 21.323119258236783 , y = 2.561737691634453\n"
     ]
    },
    {
     "data": {
      "text/html": [
       "<div>\n",
       "<table border=\"1\" class=\"dataframe\">\n",
       "  <thead>\n",
       "    <tr style=\"text-align: right;\">\n",
       "      <th></th>\n",
       "      <th>A</th>\n",
       "      <th>B</th>\n",
       "      <th>C</th>\n",
       "      <th>X</th>\n",
       "      <th>f(A)</th>\n",
       "      <th>f(B)</th>\n",
       "      <th>f(C)</th>\n",
       "      <th>f(X)</th>\n",
       "      <th>N</th>\n",
       "    </tr>\n",
       "  </thead>\n",
       "  <tbody>\n",
       "    <tr>\n",
       "      <th>0</th>\n",
       "      <td>0.300000</td>\n",
       "      <td>0.373306</td>\n",
       "      <td>0.400000</td>\n",
       "      <td>0.373306</td>\n",
       "      <td>2.569231</td>\n",
       "      <td>2.561740</td>\n",
       "      <td>2.562894</td>\n",
       "      <td>2.561740</td>\n",
       "      <td>3</td>\n",
       "    </tr>\n",
       "    <tr>\n",
       "      <th>1</th>\n",
       "      <td>0.300000</td>\n",
       "      <td>0.371786</td>\n",
       "      <td>0.373306</td>\n",
       "      <td>0.371786</td>\n",
       "      <td>2.569231</td>\n",
       "      <td>2.561738</td>\n",
       "      <td>2.561740</td>\n",
       "      <td>2.561738</td>\n",
       "      <td>1</td>\n",
       "    </tr>\n",
       "    <tr>\n",
       "      <th>2</th>\n",
       "      <td>0.371786</td>\n",
       "      <td>0.372159</td>\n",
       "      <td>0.373306</td>\n",
       "      <td>0.372159</td>\n",
       "      <td>2.561738</td>\n",
       "      <td>2.561738</td>\n",
       "      <td>2.561740</td>\n",
       "      <td>2.561738</td>\n",
       "      <td>1</td>\n",
       "    </tr>\n",
       "  </tbody>\n",
       "</table>\n",
       "</div>"
      ],
      "text/plain": [
       "          A         B         C         X      f(A)      f(B)      f(C)  \\\n",
       "0  0.300000  0.373306  0.400000  0.373306  2.569231  2.561740  2.562894   \n",
       "1  0.300000  0.371786  0.373306  0.371786  2.569231  2.561738  2.561740   \n",
       "2  0.371786  0.372159  0.373306  0.372159  2.561738  2.561738  2.561740   \n",
       "\n",
       "       f(X)  N  \n",
       "0  2.561740  3  \n",
       "1  2.561738  1  \n",
       "2  2.561738  1  "
      ]
     },
     "execution_count": 29,
     "metadata": {},
     "output_type": "execute_result"
    }
   ],
   "source": [
    "A, B, C, X, FA, FB, FC, FX, FU = [],[],[],[],[],[],[],[],[];\n",
    "def parabola(a, b, c, eps):\n",
    "    global fu    \n",
    "    iter = 0\n",
    "    \n",
    "    while c-a > eps:\n",
    "        iter += 1;\n",
    "        fa = f(a); fb = f(b); fc = f(c);\n",
    "        b1=0.5*( (a+c)*(a-c)*(fb-fc) - (b+c)*(b-c)*(fa-fc) ) / ( (a-c)*(fb-fc) - (b-c)*(fa-fc) );\n",
    "        a1=0.5*( (a+c)*(c-a)*(fa-fb) - (a+b)*(a-b)*(fc-fa) ) / ( (c-a)*(fa-fb) - (a-b)*(fc-fa) );\n",
    "        c1=0.5*( (b+c)*(b-c)*(fa-fc) - (a+c)*(a-c)*(fb-fc) ) / ( (b-c)*(fa-fc) - (a-c)*(fb-fc) );\n",
    "        if (( (b1<=a1)&(a1<=c1) ) | ( (a1<=c1)&(a1<=b1) )): b1=a1;\n",
    "        if (( (b1<=c1)&(c1<=a1) ) | ( (a1<=c1)&(c1<=b1) )): b1=c1;\n",
    "\n",
    "        if (b1>b):\n",
    "            temp=b1; \n",
    "            b1=b; \n",
    "            b=temp;\n",
    "\n",
    "        if (f(b1)<fb):\n",
    "            c=b;\n",
    "            b=b1;\n",
    "        else:\n",
    "            a=b1;\n",
    "        A.append(a);B.append(b);C.append(c);\n",
    "        FA.append(f(a));FB.append(f(b));FC.append(f(c));\n",
    "        if ( (b-a)/(c-a)<=eps ): b=2*b-a; \n",
    "        if ( (c-b)/(b-a)<=eps ): b=2*b-c;\n",
    "        X.append(b);\n",
    "        FX.append(f(b));\n",
    "        FU.append(fu-7); fu = 0;\n",
    "    return b    \n",
    "x = parabola(0.1, 0.3, 0.4, 0.01)\n",
    "\n",
    "print(\"Ответ в радианах: \",\"x =\",x,',',\"y =\",f(x))\n",
    "print(\"Ответ в градусах: \",\"x =\", m.degrees(x),',',\"y =\",f(x))\n",
    "raw_data =({'A':A, 'B':B, 'C':C, 'X':X, 'f(A)':FA, 'f(B)':FB, 'f(C)':FC, 'f(X)':FX, 'N':FU})\n",
    "df = pd.DataFrame(raw_data, columns = ['A', 'B', 'C', 'X', 'f(A)', 'f(B)', 'f(C)', 'f(X)', 'N'])\n",
    "df"
   ]
  },
  {
   "cell_type": "markdown",
   "metadata": {
    "collapsed": true
   },
   "source": [
    "# График метода парабол"
   ]
  },
  {
   "cell_type": "code",
   "execution_count": 18,
   "metadata": {
    "collapsed": false
   },
   "outputs": [
    {
     "data": {
      "image/png": "[encoded data removed]",
      "text/plain": [
       "<matplotlib.figure.Figure at 0x16e0fe42550>"
      ]
     },
     "metadata": {},
     "output_type": "display_data"
    }
   ],
   "source": [
    "def futemp(a,b,c,x):\n",
    "    fa=f(a); fb=f(b); fc=f(c);\n",
    "    ka=(fc - (c*(fb-fa)+b*fa-a*fb)/(b - a))/(c*(c-a-b)+a*b);\n",
    "    kb=(fb-fa)/(b-a)-ka*(a+b);\n",
    "    kc=(b*fa-a*fb)/(b-a)+ka*a*b;\n",
    "    return ka*x*x+kb*x+kc;\n",
    "xlist = mlab.frange(0.1, 0.3, 0.001)\n",
    "ylist = [f(x) for x in xlist]\n",
    "X_1=A\n",
    "X_2=B\n",
    "X_3=C\n",
    "for i in range(len(X_1)):\n",
    "    xlist = mlab.frange(0.25, 0.45, 0.001)\n",
    "    ylist = [futemp(X_1[i],X_2[i],X_3[i],x) for x in xlist]\n",
    "    pylab.plot(xlist,ylist)\n",
    "pylab.xlabel(\"Угол в радианах\")\n",
    "pylab.ylabel(\"L\")\n",
    "pylab.title(\"Лабораторная работа №2 (оптимизация методом парабол)\")\n",
    "pylab.grid()\n",
    "pylab.show()"
   ]
  },
  {
   "cell_type": "code",
   "execution_count": 141,
   "metadata": {
    "collapsed": false
   },
   "outputs": [
    {
     "data": {
      "text/plain": [
       "[0.1, 0.20032046807061193, 0.20035918207257253, 0.20035918207257253]"
      ]
     },
     "execution_count": 141,
     "metadata": {},
     "output_type": "execute_result"
    }
   ],
   "source": []
  },
  {
   "cell_type": "code",
   "execution_count": 17,
   "metadata": {
    "collapsed": false
   },
   "outputs": [
    {
     "name": "stdout",
     "output_type": "stream",
     "text": [
      "Минимальный угол для золотого сечения:  в градусах = 21.3236857861277 ; в радианах = 0.3721685256286438\n",
      "Минимальный угол для парабол: в градусах = 21.323685582917854 ; в радианах = 0.372168522082\n"
     ]
    },
    {
     "data": {
      "image/png": "[encoded data removed]",
      "text/plain": [
       "<matplotlib.figure.Figure at 0x16e0fdc44e0>"
      ]
     },
     "metadata": {},
     "output_type": "display_data"
    }
   ],
   "source": [
    "import math as m\n",
    "from scipy.optimize import *\n",
    "from matplotlib import  mlab\n",
    "import pylab\n",
    "\n",
    "# вводим интервал\n",
    "xmindegree = m.radians(0)\n",
    "xmaxdegree = m.radians(90)\n",
    "dx=0.01\n",
    "\n",
    "# применяем стандартные функции scipy.optimize\n",
    "method_gold = golden(f, brack=[m.radians(xmindegree), m.radians(xmaxdegree)])\n",
    "method_parb = brent(f, brack=[m.radians(xmindegree), m.radians(xmaxdegree)])\n",
    "\n",
    "# ответ\n",
    "print('Минимальный угол для золотого сечения:  в градусах =', m.degrees(method_gold),'; в радианах =', method_gold )\n",
    "print('Минимальный угол для парабол: в градусах =', m.degrees(method_parb),'; в радианах =', method_parb)\n",
    "\n",
    "#  рисунок целевой функции\n",
    "xlist = mlab.frange(xmindegree,xmaxdegree,dx)\n",
    "ylist = [f (x) for x in xlist]\n",
    "pylab.plot(xlist,ylist)\n",
    "pylab.xlabel(\"Угол в радианах\")\n",
    "pylab.ylabel(\"L\")\n",
    "pylab.title(\"Лабораторная работа №2\")\n",
    "pylab.grid()\n",
    "pylab.show()"
   ]
  },
  {
   "cell_type": "code",
   "execution_count": null,
   "metadata": {
    "collapsed": true
   },
   "outputs": [],
   "source": []
  }
 ],
 "metadata": {
  "kernelspec": {
   "display_name": "Python 3",
   "language": "python",
   "name": "python3"
  },
  "language_info": {
   "codemirror_mode": {
    "name": "ipython",
    "version": 3
   },
   "file_extension": ".py",
   "mimetype": "text/x-python",
   "name": "python",
   "nbconvert_exporter": "python",
   "pygments_lexer": "ipython3",
   "version": "3.5.3"
  }
 },
 "nbformat": 4,
 "nbformat_minor": 2
}
