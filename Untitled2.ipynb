{
 "cells": [
  {
   "cell_type": "code",
   "execution_count": 1,
   "metadata": {
    "collapsed": false
   },
   "outputs": [
    {
     "data": {
      "image/png": "[encoded data removed]",
      "text/plain": [
       "<matplotlib.figure.Figure at 0x251b2739c18>"
      ]
     },
     "metadata": {},
     "output_type": "display_data"
    },
    {
     "data": {
      "text/plain": [
       "      fun: 13.416407865005304\n",
       " hess_inv: array([[ 3.71431509]])\n",
       "      jac: array([ -1.90734863e-06])\n",
       "  message: 'Optimization terminated successfully.'\n",
       "     nfev: 15\n",
       "      nit: 4\n",
       "     njev: 5\n",
       "   status: 0\n",
       "  success: True\n",
       "        x: array([ 1.999993])"
      ]
     },
     "execution_count": 1,
     "metadata": {},
     "output_type": "execute_result"
    }
   ],
   "source": [
    "#Поключаем библиотеку sympy:\n",
    "from sympy import *\n",
    "init_printing()#для графического отображения формул\n",
    "a,b,c,x=symbols('a b c x',positive=True)#создаем положительные символьные переменные\n",
    "L=sqrt(a**2+x**2)+sqrt((b-x)**2+c**2)#задаем целевую функцию\n",
    "Ld=diff(L,x)#берем производную\n",
    "xx=solve(Ld,x)#решаем уравнение L'(x)=0\n",
    "Ld0=Ld.subs(x,xx[0])#проверка\n",
    "simplify(Ld0)\n",
    "Ld1=Ld.subs(x,xx[1])#проверка\n",
    "simplify(Ld1)\n",
    "#Второе решение подходит.\n",
    "#Длина пути:\n",
    "Lrez=simplify(L.subs(x,xx[1]))#проверка\n",
    "#Решение при a = 4, b = 6, c = 8\n",
    "rez=Lrez.subs({a:4,b:6,c:8})\n",
    "rez.evalf()#численно\n",
    "#Построим график.\n",
    "#Для того, чтобы график не открывался в новом окне:\n",
    "%matplotlib inline\n",
    "plot(sqrt(4**2+x**2)+sqrt((6-x)**2+8**2),(x,0,5))\n",
    "#Численная оптимизация.\n",
    "from scipy import *\n",
    "from scipy.optimize import *\n",
    "Ls= lambda x: sqrt(4**2+x**2)+sqrt((6-x)**2+8**2)#Создаем функцию\n",
    "Ls(1)#Проверяем, что она работает\n",
    "minimize(Ls,1)#Минимизация из начальной точки\n"
   ]
  },
  {
   "cell_type": "code",
   "execution_count": null,
   "metadata": {
    "collapsed": true
   },
   "outputs": [],
   "source": []
  }
 ],
 "metadata": {
  "kernelspec": {
   "display_name": "Python 3",
   "language": "python",
   "name": "python3"
  },
  "language_info": {
   "codemirror_mode": {
    "name": "ipython",
    "version": 3
   },
   "file_extension": ".py",
   "mimetype": "text/x-python",
   "name": "python",
   "nbconvert_exporter": "python",
   "pygments_lexer": "ipython3",
   "version": "3.5.3"
  }
 },
 "nbformat": 4,
 "nbformat_minor": 2
}
