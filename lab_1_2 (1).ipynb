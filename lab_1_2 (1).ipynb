import numpy as np
from mpl_toolkits.mplot3d import Axes3D
import matplotlib.pyplot as plt
from sympy import *
import math as m
a=int(input("Введите a : "))
c=int(input("Введите c : "))
init_printing()

def fun_2(x):
    return (m.sqrt(3) / 4) * pow(x[0], 2) + x[2] *  (3 * x[0] * x[1] +  (m.sqrt(3) / 2) * pow(x[0],2) -(7))

def f(x,y):
    return (m.sqrt(3)/4)*x**2*y

x = symbols('x ', positive = True)
y = symbols('y', positive = True)
l = symbols('l', positive = True)
S = symbols('S', positive = True)
L=(sqrt(3) / 4) * x ** 2 * y + l * (3 * x * y + 2 * (sqrt(3) / 4) * (x**2) -(a + c+1.5))
L_dif_1 = diff(L, x)
L_dif_2 = diff(L, y)
L_dif_3 = diff(L, l)
extr = solve([L_dif_1, L_dif_2, L_dif_3], x, y, l, check = False)
lst= np.shape(extr)
x=extr[1][0].evalf(3)
y=extr[1][1].evalf(8)
for i in range(lst[0]):
    if extr[i][0].evalf(3) > 0  and extr[i][1].evalf(3)> 0:
        x = extr[1][0].evalf(3)
        y = extr[1][1].evalf(3)
        zl= extr[1][2].evalf(3) + 1.1
        print("Площадь палатки : ", a+c)
        print("Oбъем палатки   : ", f(x,y))
print('x = ',y, 'y = ', x)

import scipy.optimize as optimize

cons = ({'type': 'ineq', 'fun': fun_2})
x0 = (1,1,1-0.3)
res_2 = optimize.minimize(fun_2, x0, method='cobyla', constraints=cons, options={'catol': 1e-6})

print(res_2)