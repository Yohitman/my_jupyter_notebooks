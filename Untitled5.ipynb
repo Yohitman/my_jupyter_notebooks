{
 "cells": [
  {
   "cell_type": "code",
   "execution_count": 7,
   "metadata": {
    "collapsed": false
   },
   "outputs": [
    {
     "ename": "NameError",
     "evalue": "name 'NavigationToolbar2TkAgg' is not defined",
     "output_type": "error",
     "traceback": [
      "\u001b[0;31m---------------------------------------------------------------------------\u001b[0m",
      "\u001b[0;31mNameError\u001b[0m                                 Traceback (most recent call last)",
      "\u001b[0;32m<ipython-input-7-96196ce09f9c>\u001b[0m in \u001b[0;36m<module>\u001b[0;34m()\u001b[0m\n\u001b[1;32m     29\u001b[0m \u001b[0mbutton\u001b[0m\u001b[1;33m.\u001b[0m\u001b[0mpack\u001b[0m\u001b[1;33m(\u001b[0m\u001b[0mside\u001b[0m\u001b[1;33m=\u001b[0m\u001b[0mBOTTOM\u001b[0m\u001b[1;33m)\u001b[0m\u001b[1;33m\u001b[0m\u001b[0m\n\u001b[1;32m     30\u001b[0m \u001b[0mroot\u001b[0m\u001b[1;33m.\u001b[0m\u001b[0mmainloop\u001b[0m\u001b[1;33m(\u001b[0m\u001b[1;33m)\u001b[0m\u001b[1;33m\u001b[0m\u001b[0m\n\u001b[0;32m---> 31\u001b[0;31m \u001b[0mtoolbar\u001b[0m \u001b[1;33m=\u001b[0m \u001b[0mNavigationToolbar2TkAgg\u001b[0m\u001b[1;33m(\u001b[0m\u001b[0mcanvasAgg\u001b[0m\u001b[1;33m,\u001b[0m \u001b[0mвиджет\u001b[0m\u001b[1;33m)\u001b[0m\u001b[1;33m\u001b[0m\u001b[0m\n\u001b[0m\u001b[1;32m     32\u001b[0m \u001b[0mtoolbar\u001b[0m\u001b[1;33m.\u001b[0m\u001b[0mupdate\u001b[0m\u001b[1;33m(\u001b[0m\u001b[1;33m)\u001b[0m\u001b[1;33m\u001b[0m\u001b[0m\n",
      "\u001b[0;31mNameError\u001b[0m: name 'NavigationToolbar2TkAgg' is not defined"
     ]
    }
   ],
   "source": [
    "from tkinter import *\n",
    "import numpy as np\n",
    "import matplotlib.pyplot as plt\n",
    "from mpl_toolkits.mplot3d import Axes3D\n",
    "from matplotlib.backends.backend_tkagg import FigureCanvasTkAgg\n",
    "root = Tk()\n",
    "frm=Frame(root, relief=RIDGE,borderwidth=4)\n",
    "frm.pack(fill=BOTH, expand=1)\n",
    "fig = plt.figure(figsize=(4,4))\n",
    "ax = Axes3D(fig)\n",
    "# рисуем сферу по ее параметрическим уравнениям\n",
    "u = np.linspace(0, 2 * np.pi, 100)\n",
    "v = np.linspace(0, np.pi, 100)\n",
    "X = np.outer(np.cos(u), np.sin(v))\n",
    "Y = np.outer(np.sin(u), np.sin(v))\n",
    "Z = np.outer(np.ones(np.size(u)), np.cos(v))\n",
    "ax.plot_surface(X,Y,Z,rstride=4,cstride=4,\n",
    "color='lightgreen',linewidth=1)\n",
    "canvasAgg=FigureCanvasTkAgg(fig, master=frm) \n",
    "canvasAgg.show() # необязательно\n",
    "canvasAgg.get_tk_widget().pack(side='top', fill='both',\n",
    "expand=1, padx=4, pady=4)\n",
    "ax.mouse_init() # подключение событий мыши \n",
    "# добавление кнопки «Выход»\n",
    "def progquit():\n",
    "    root.quit() # stops mainloop\n",
    "    root.destroy() # используется в Windows\n",
    "button = Button(master=root, text='Выход', command=progquit)\n",
    "button.pack(side=BOTTOM)\n",
    "root.mainloop()\n",
    "toolbar = NavigationToolbar2TkAgg(canvasAgg, виджет)\n",
    "toolbar.update()"
   ]
  },
  {
   "cell_type": "code",
   "execution_count": null,
   "metadata": {
    "collapsed": true
   },
   "outputs": [],
   "source": []
  }
 ],
 "metadata": {
  "kernelspec": {
   "display_name": "Python 3",
   "language": "python",
   "name": "python3"
  },
  "language_info": {
   "codemirror_mode": {
    "name": "ipython",
    "version": 3
   },
   "file_extension": ".py",
   "mimetype": "text/x-python",
   "name": "python",
   "nbconvert_exporter": "python",
   "pygments_lexer": "ipython3",
   "version": "3.5.3"
  }
 },
 "nbformat": 4,
 "nbformat_minor": 2
}
