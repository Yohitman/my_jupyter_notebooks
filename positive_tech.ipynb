{
 "cells": [
  {
   "cell_type": "code",
   "execution_count": 29,
   "metadata": {
    "collapsed": false
   },
   "outputs": [
    {
     "name": "stdout",
     "output_type": "stream",
     "text": [
      "2:\n",
      "\t2/value\n",
      "1:\n",
      "\tchild:\n",
      "\t\t1/child/value\n"
     ]
    }
   ],
   "source": [
    "def my_code(kwargs, s = \"\", count = 1):\n",
    "    \n",
    "    for key in kwargs:\n",
    "        if type(kwargs[key]) == dict:\n",
    "            s += key + \":\" + \"\\n\" + count*\"\\t\"\n",
    "            count += 1\n",
    "            my_code(kwargs[key], s, count)\n",
    "        else:\n",
    "            print(s, key, \":\", \"\\n\", (count)*\"\\t\", kwargs[key], sep = \"\")\n",
    "            \n",
    "\n",
    "my_code({\n",
    " '1': {\n",
    " 'child': '1/child/value'\n",
    " },\n",
    " '2': '2/value'\n",
    "})\n",
    "\n"
   ]
  },
  {
   "cell_type": "code",
   "execution_count": 19,
   "metadata": {
    "collapsed": false
   },
   "outputs": [
    {
     "name": "stdout",
     "output_type": "stream",
     "text": [
      "1\n",
      "2\n",
      "3\n",
      "4\n"
     ]
    }
   ],
   "source": [
    "def my_code(slov, ver, a = set()):\n",
    "    print(ver)\n",
    "    a.add(ver)\n",
    "    for i in slov[ver]:\n",
    "        if i not in a:\n",
    "            a.add(i)\n",
    "            if i in slov:\n",
    "                my_code(slov, i, a)\n",
    "            else:\n",
    "                print(i)\n",
    "data = {\n",
    " 1: [2, 3],\n",
    " 2: [3, 4],\n",
    " 4: [1]\n",
    "}\n",
    "my_code(data, 1)\n",
    "\n"
   ]
  },
  {
   "cell_type": "code",
   "execution_count": 6,
   "metadata": {
    "collapsed": false
   },
   "outputs": [
    {
     "name": "stdout",
     "output_type": "stream",
     "text": [
      "{\n",
      "    \"Potential\": [\n",
      "        [\n",
      "            \"Lemon/\",\n",
      "            \"Lemon/Orange/\",\n",
      "            \"Lemon/Orange/Apple/\",\n",
      "            \"Lemon/Apple/\"\n",
      "        ]\n",
      "    ],\n",
      "    \"Algorithm\": {\n",
      "        \"FirstAlgorithm\": {\n",
      "            \"Lemon/\": [\n",
      "                \"Lemon/Orange/\",\n",
      "                \"Lemon/Apple/\"\n",
      "            ],\n",
      "            \"Lemon/Orange/\": [\n",
      "                \"Lemon/Orange/Apple/\"\n",
      "            ]\n",
      "        },\n",
      "        \"EmptyAlgorithm\": {}\n",
      "    }\n",
      "}\n"
     ]
    }
   ],
   "source": [
    "import json\n",
    "from itertools import chain\n",
    "class Component:\n",
    "    def __init__(self, *algorithm_list):\n",
    "         self.algorithm_list = algorithm_list\n",
    "            \n",
    "        \n",
    "    def __call__(self, source_object):\n",
    "        result = []\n",
    "        queue = [source_object]\n",
    "        while queue:\n",
    "             result.extend(queue)\n",
    "        queue = list(chain.from_iterable(algorithm(item) for item in queue for algorithm in self.algorithm_list))\n",
    "        \n",
    "        return result\n",
    "    \n",
    "    def my_method(self, fruit):\n",
    "        def my_code(slov, ver, a = set(), spis = None, s = None):\n",
    "            if spis is None:\n",
    "                spis = []\n",
    "            if slov == {}:\n",
    "                return []\n",
    "            if s is None:\n",
    "                s = \"\"\n",
    "            s = ver.__name__ + \"/\"\n",
    "            spis.append(s)\n",
    "            if ver in slov:\n",
    "                for k in slov[ver]:\n",
    "                    if k not in a:\n",
    "                        a.add(k.__name__)\n",
    "                        s += k.__name__ + \"/\"\n",
    "                        spis.append(s)\n",
    "                        if k in slov:\n",
    "                            my_code(slov, k, a, spis, s)\n",
    "                        else:\n",
    "                            spis.append(ver.__name__ + \"/\" + k.__name__ + \"/\")\n",
    "            fdata = list(filter(lambda x: x.startswith(ver.__name__), spis))\n",
    "            return(fdata)\n",
    "        \n",
    "        self.fruit = fruit\n",
    "        output = {\"Potential\": [], \"Algorithm\": {}}\n",
    "        for i in self.algorithm_list:\n",
    "            y = my_code(i.SPECIFICATION, fruit)\n",
    "            n = type(i).__name__\n",
    "            if y:\n",
    "                output[\"Potential\"].append(y)\n",
    "                algor_name = {n :{}}\n",
    "                for g in y: \n",
    "                    algor_name[n][g] = [] \n",
    "                for j in y: \n",
    "                    for k in y:\n",
    "                        if k.count(\"/\") - j.count(\"/\") == 1 and k.startswith(j):\n",
    "                            algor_name[n][j].append(k)\n",
    "                empty_keys = [k for k,v in algor_name[n].items() if not v]\n",
    "                for k in empty_keys:\n",
    "                    del algor_name[n][k]\n",
    "                output[\"Algorithm\"][n] = algor_name[n]\n",
    "            else:\n",
    "                output[\"Algorithm\"][n] = {}\n",
    "        return(output)\n",
    "\n",
    "\n",
    "class Apple:\n",
    "     pass\n",
    "    \n",
    "    \n",
    "class Orange:\n",
    "     def __init__(self, number):\n",
    "            self.number = number\n",
    "            \n",
    "            \n",
    "class Lemon:\n",
    "     pass\n",
    "    \n",
    "    \n",
    "class FirstAlgorithm:\n",
    "    SPECIFICATION = {\n",
    "         Orange: [Apple],\n",
    "         Lemon: [Orange, Apple]\n",
    "    }\n",
    "     \n",
    "    \n",
    "    def __call__(self, source_object):\n",
    "        if isinstance(source_object, Orange):\n",
    "            return [Apple() for _ in range(source_object.number)]\n",
    "        if isinstance(source_object, Lemon):\n",
    "            return [Orange(3), Apple()]\n",
    "        return []\n",
    "    \n",
    "    \n",
    "class EmptyAlgorithm:\n",
    "    SPECIFICATION = {}\n",
    "        \n",
    "        \n",
    "    def __call__(self, source_object):\n",
    "        return []\n",
    "\n",
    "\n",
    "component = Component(FirstAlgorithm(), EmptyAlgorithm())\n",
    "print(json.dumps(component.my_method(Lemon),indent=4))\n"
   ]
  },
  {
   "cell_type": "code",
   "execution_count": 24,
   "metadata": {
    "collapsed": false
   },
   "outputs": [
    {
     "name": "stdout",
     "output_type": "stream",
     "text": [
      "<_sre.SRE_Match object; span=(6743, 8582), match='<table class=\\'django-supported-versions\\'>\\n    >\n"
     ]
    }
   ],
   "source": [
    "import requests\n",
    "import re\n",
    "\n",
    "def pars(k):\n",
    "    global pattern, listurls\n",
    "    f = requests.get(k)\n",
    "    if f.status_code != 200:\n",
    "        print(\"Bad Code/Request\")\n",
    "        return\n",
    "    listurls = re.search(pattern, f.text)\n",
    "    return listurls\n",
    "\n",
    "count = 0\n",
    "k = \"https://www.djangoproject.com/download/\"\n",
    "pattern = r\"(<table.*>(\\n *(<tr(.*)>(\\n(.*))*<\\/tr>)*)+\\n *<\\/table>)\\n* *<p>\"\n",
    "x = pars(k)\n",
    "print(x)"
   ]
  },
  {
   "cell_type": "code",
   "execution_count": null,
   "metadata": {
    "collapsed": true
   },
   "outputs": [],
   "source": []
  }
 ],
 "metadata": {
  "kernelspec": {
   "display_name": "Python 3",
   "language": "python",
   "name": "python3"
  },
  "language_info": {
   "codemirror_mode": {
    "name": "ipython",
    "version": 3
   },
   "file_extension": ".py",
   "mimetype": "text/x-python",
   "name": "python",
   "nbconvert_exporter": "python",
   "pygments_lexer": "ipython3",
   "version": "3.5.3"
  }
 },
 "nbformat": 4,
 "nbformat_minor": 2
}
