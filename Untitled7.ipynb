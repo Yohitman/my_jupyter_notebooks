{
 "cells": [
  {
   "cell_type": "code",
   "execution_count": 8,
   "metadata": {
    "collapsed": false
   },
   "outputs": [],
   "source": [
    "mas = [0 for i in range(100)]\n",
    "\n",
    "def press(i):\n",
    "    global mas\n",
    "    if mas[i] == 0:\n",
    "        mas[i] = 1\n",
    "    elif mas[i] == 1:\n",
    "        mas[i] = 0\n",
    "        \n",
    "def frog(i):\n",
    "    k = i\n",
    "    while i <= 100:\n",
    "        press(i-1)\n",
    "        i += k\n"
   ]
  },
  {
   "cell_type": "code",
   "execution_count": null,
   "metadata": {
    "collapsed": true
   },
   "outputs": [],
   "source": []
  },
  {
   "cell_type": "code",
   "execution_count": null,
   "metadata": {
    "collapsed": true
   },
   "outputs": [],
   "source": []
  }
 ],
 "metadata": {
  "kernelspec": {
   "display_name": "Python 3",
   "language": "python",
   "name": "python3"
  },
  "language_info": {
   "codemirror_mode": {
    "name": "ipython",
    "version": 3
   },
   "file_extension": ".py",
   "mimetype": "text/x-python",
   "name": "python",
   "nbconvert_exporter": "python",
   "pygments_lexer": "ipython3",
   "version": "3.5.3"
  }
 },
 "nbformat": 4,
 "nbformat_minor": 2
}
