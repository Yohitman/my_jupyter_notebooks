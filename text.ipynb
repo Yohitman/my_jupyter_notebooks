from pylab import *
from scipy.optimize import *
import math as m
def rbrock(x):
    return (m.sqrt(3) / 4) * pow(x[0], 2) + x[2] * (3 * x[0] * x[1] + (m.sqrt(3) / 2) * pow(x[0], 2) - (7))
a=fmin(rbrock,[0,0,0])
print(a)