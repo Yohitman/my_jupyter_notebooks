{
 "cells": [
  {
   "cell_type": "code",
   "execution_count": 8,
   "metadata": {
    "collapsed": false
   },
   "outputs": [
    {
     "name": "stdout",
     "output_type": "stream",
     "text": [
      "Введите количество уравнений: 5\n",
      "Вводим коэффициенты системы уравнений х = а[i] % m[i]\n",
      "Введите остаток и модуль: 3\n",
      "Модуль должен быть взаимно простым с остальными модулями: 5\n",
      "Введите остаток и модуль: 4\n",
      "Модуль должен быть взаимно простым с остальными модулями: 7\n",
      "Введите остаток и модуль: 8\n",
      "Модуль должен быть взаимно простым с остальными модулями: 11\n",
      "Введите остаток и модуль: 7\n",
      "Модуль должен быть взаимно простым с остальными модулями: 13\n",
      "Введите остаток и модуль: 11\n",
      "Модуль должен быть взаимно простым с остальными модулями: 17\n",
      "Находим общий модуль М: 85085\n",
      "15243.0\n"
     ]
    }
   ],
   "source": [
    "def egcd(a, b): #Расширенный алгоритм Евклида\n",
    "    if a == 0:\n",
    "        return (b, 0, 1)\n",
    "    else:\n",
    "        g, x, y = egcd(b % a, a)\n",
    "        return (g, y - (b // a) * x, x)\n",
    "# x = mulinv(b) mod n, (x * b) % n == 1\n",
    "def mulinv(b, n): #функция нахождения обратного числа в кольце по модулю n\n",
    "    if (b == 0):\n",
    "        return 0;\n",
    "    otr = False\n",
    "    if (b < 0):\n",
    "        b *= (-1)\n",
    "        otr = true\n",
    "    g, x, _ = egcd(b, n)\n",
    "    if g == 1:\n",
    "        if (not(otr)):\n",
    "            return x % n\n",
    "        else:\n",
    "            return n-(x % n)\n",
    "\n",
    "a, m, mi, mi1, x = [], [], [], [], 0\n",
    "\n",
    "p = int(input(\"Введите количество уравнений: \"))\n",
    "print(\"Вводим коэффициенты системы уравнений х = а[i] % m[i]\")\n",
    "for n in range(p):\n",
    "    a.append(int(input(\"Введите остаток и модуль: \")))\n",
    "    m.append(int(input(\"Модуль должен быть взаимно простым с остальными модулями: \")))\n",
    "M = 1\n",
    "for i in m:\n",
    "    M *= i\n",
    "print(\"Находим общий модуль М:\", M)\n",
    "for i in m:\n",
    "    mi.append(M / i)\n",
    "#Найдем мультипликативную инверсию\n",
    "for i in range(p):\n",
    "    mi1.append(mulinv(mi[i], m[i]))\n",
    "#Найдем решение начальной системы уравнений\n",
    "for i in range(p):\n",
    "    x += (a[i] * mi[i] * mi1[i]) % M\n",
    "print(x % M)\n"
   ]
  },
  {
   "cell_type": "code",
   "execution_count": null,
   "metadata": {
    "collapsed": true
   },
   "outputs": [],
   "source": []
  }
 ],
 "metadata": {
  "kernelspec": {
   "display_name": "Python 3",
   "language": "python",
   "name": "python3"
  },
  "language_info": {
   "codemirror_mode": {
    "name": "ipython",
    "version": 3
   },
   "file_extension": ".py",
   "mimetype": "text/x-python",
   "name": "python",
   "nbconvert_exporter": "python",
   "pygments_lexer": "ipython3",
   "version": "3.5.3"
  }
 },
 "nbformat": 4,
 "nbformat_minor": 2
}
