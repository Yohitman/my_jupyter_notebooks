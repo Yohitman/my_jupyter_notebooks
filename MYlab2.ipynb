{
 "cells": [
  {
   "cell_type": "code",
   "execution_count": null,
   "metadata": {
    "collapsed": true
   },
   "outputs": [],
   "source": [
    "# подключаем библиотеки\n",
    "from matplotlib import  mlab\n",
    "import pylab\n",
    "# подключаем библиотеки\n",
    "import math as m\n",
    "import matplotlib.pyplot as plt\n",
    "import numpy as np\n",
    "import pandas as pd\n",
    "# func for L\n",
    "def f(x):\n",
    "    return (2.75-m.sin(x))/m.cos(x)\n",
    "\n",
    "# вводим начало и конец интервала\n",
    "l= 0 #int(input(\"Введите начало: \"))\n",
    "r= 1 #int(input(\"Введите конец : \"))\n",
    "e= 0.01 #float(input(\"Введите e : \"))\n"
   ]
  }
 ],
 "metadata": {
  "kernelspec": {
   "display_name": "Python 3",
   "language": "python",
   "name": "python3"
  },
  "language_info": {
   "codemirror_mode": {
    "name": "ipython",
    "version": 3
   },
   "file_extension": ".py",
   "mimetype": "text/x-python",
   "name": "python",
   "nbconvert_exporter": "python",
   "pygments_lexer": "ipython3",
   "version": "3.5.3"
  }
 },
 "nbformat": 4,
 "nbformat_minor": 2
}
