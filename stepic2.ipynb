{
 "cells": [
  {
   "cell_type": "code",
   "execution_count": null,
   "metadata": {},
   "outputs": [],
   "source": [
    "x = [1, 2, 3]\n",
    "print(id(x))\n",
    "print(id([1, 2, 3]))"
   ]
  },
  {
   "cell_type": "code",
   "execution_count": null,
   "metadata": {},
   "outputs": [],
   "source": [
    "objects = [1, 2, 1, 2, 3, True, False, True, False]\n",
    "s = []\n",
    "for obj in objects: # доступная переменная objects\n",
    "    s.append(id(obj))\n",
    "print(len(set(s)))"
   ]
  },
  {
   "cell_type": "code",
   "execution_count": null,
   "metadata": {},
   "outputs": [],
   "source": [
    "def closest_mod_5(x):\n",
    "    while x % 5 != 0:\n",
    "        x += 1"
   ]
  },
  {
   "cell_type": "code",
   "execution_count": null,
   "metadata": {},
   "outputs": [],
   "source": [
    "def mnozh(n, k):\n",
    "    if k == 0:\n",
    "        return 1\n",
    "    elif k > n:\n",
    "        return 0\n",
    "    else:\n",
    "        return(mnozh(n-1, k) + mnozh(n - 1, k - 1))\n",
    "n, k = map(int, input().split())\n",
    "print(mnozh(n, k))"
   ]
  },
  {
   "cell_type": "code",
   "execution_count": null,
   "metadata": {
    "collapsed": true
   },
   "outputs": [],
   "source": [
    "parent = {\"global\": \"None\"}\n",
    "var = {\"global\": []}\n",
    "\n",
    "def create(namesp, arg):\n",
    "    global parent, var\n",
    "    parent[namesp] = arg\n",
    "    var[namesp] = []\n",
    "    \n",
    "def add(namesp, arg):\n",
    "    var[namesp].append(arg)\n",
    "    \n",
    "def get(namesp, arg):\n",
    "    if arg in var[namesp]:\n",
    "        print(namesp)\n",
    "    elif parent[namesp] != \"None\":\n",
    "        get(parent[namesp], arg)\n",
    "    else:\n",
    "        print(\"None\")\n",
    "    \n",
    "for n in range(int(input())):\n",
    "    cmd, namesp, arg = input().split()\n",
    "    if cmd == \"create\":\n",
    "        create(namesp, arg)\n",
    "    elif cmd == \"add\":\n",
    "        add(namesp, arg)\n",
    "    elif cmd == \"get\":\n",
    "         get(namesp, arg)\n",
    "            \n",
    "                \n"
   ]
  },
  {
   "cell_type": "code",
   "execution_count": null,
   "metadata": {},
   "outputs": [],
   "source": [
    "class MoneyBox():\n",
    "    def __init__(self, capacity):\n",
    "        self.capacity = capacity\n",
    "        self.v = 0\n",
    "\n",
    "    def can_add(self, v):\n",
    "        if v + self.v <= self.capacity:\n",
    "            return True\n",
    "        else:\n",
    "            return False\n",
    "\n",
    "    def add(self, v):\n",
    "        self.v += v\n",
    "\n",
    "x = MoneyBox(100)\n",
    "x.can_add(30)\n",
    "x.add(40)"
   ]
  },
  {
   "cell_type": "code",
   "execution_count": null,
   "metadata": {
    "collapsed": true
   },
   "outputs": [],
   "source": [
    "class Buffer:\n",
    "    def __init__(self):\n",
    "        self.buf = []\n",
    "        # конструктор без аргументов\n",
    "    \n",
    "    def add(self, *a):\n",
    "        for arg in a:\n",
    "            self.buf.append(arg)\n",
    "        while len(self.buf) > 5:\n",
    "            x = sum(self.buf[:5])\n",
    "            print(x)\n",
    "            self.buf = self.buf[5:]\n",
    "        # добавить следующую часть последовательности\n",
    "\n",
    "    def get_current_part(self):\n",
    "        return(self.buf)\n",
    "            \n",
    "        # вернуть сохраненные в текущий момент элементы последовательности в порядке, в котором они были     \n",
    "        # добавлены"
   ]
  },
  {
   "cell_type": "code",
   "execution_count": null,
   "metadata": {},
   "outputs": [],
   "source": [
    "n = int(input())\n",
    "klass = {}\n",
    "def check(child, parent):\n",
    "    if child == parent:\n",
    "        return True\n",
    "    elif parent in klass[child]:\n",
    "        return True\n",
    "    for i in klass[child]:\n",
    "        if check(i, parent):\n",
    "            return True\n",
    "    return False\n",
    "for j in range(n):\n",
    "    vvod = input().split()\n",
    "    if len(vvod) > 1:\n",
    "        vvod.remove(vvod[1])\n",
    "    klass[vvod[0]] = vvod[1:]\n",
    "for i in range(int(input())):\n",
    "    x = input().split() \n",
    "    if check(x[1], x[0]):\n",
    "        print(\"Yes\")\n",
    "    else:\n",
    "        print(\"False\")"
   ]
  },
  {
   "cell_type": "code",
   "execution_count": null,
   "metadata": {
    "collapsed": true
   },
   "outputs": [],
   "source": [
    "class ExtendedStack(list):\n",
    "    def sum(self):\n",
    "        self.x = self.pop()\n",
    "        self.y = self.pop()\n",
    "        self.append(self.x + self.y)\n",
    "        # операция сложения\n",
    "        \n",
    "    def sub(self):\n",
    "        self.x = self.pop()\n",
    "        self.y = self.pop()\n",
    "        self.append(self.x - self.y)\n",
    "        # операция сложения\n",
    "\n",
    "    def mul(self):\n",
    "        self.x = self.pop()\n",
    "        self.y = self.pop()\n",
    "        self.append(self.x * self.y)\n",
    "        # операция умножения\n",
    "\n",
    "    def div(self):\n",
    "        self.x = self.pop()\n",
    "        self.y = self.pop()\n",
    "        self.append(self.x // self.y)\n",
    "        # операция целочисленного деления"
   ]
  },
  {
   "cell_type": "code",
   "execution_count": null,
   "metadata": {},
   "outputs": [],
   "source": [
    "import time\n",
    "\n",
    "class Loggable:\n",
    "    def log(self, msg):\n",
    "        print(str(time.ctime()) + \": \" + str(msg))\n",
    "class LoggableList(list, Loggable):\n",
    "    def append(self, apps):\n",
    "        super(LoggableList, self).append(apps)\n",
    "        self.log(apps)\n",
    "x = LoggableList()\n",
    "x.append(\"13223\")"
   ]
  },
  {
   "cell_type": "code",
   "execution_count": null,
   "metadata": {},
   "outputs": [],
   "source": [
    "def check(child, parent):\n",
    "    if not err[child]:\n",
    "        return False\n",
    "    for i in err[child]:\n",
    "        if i in parent:\n",
    "            return True\n",
    "        check(i, parent)\n",
    "err = {}\n",
    "used = []\n",
    "for j in range(int(input())):\n",
    "    line = input().split()\n",
    "    if len(line) == 1:\n",
    "        err[line[0]] = []\n",
    "    else:\n",
    "        err[line[0]] = line[2:]\n",
    "for i in range(int(input())):\n",
    "    line = input()\n",
    "    if line in used:\n",
    "        continue\n",
    "    used.append(line)\n",
    "    if check(line, used):\n",
    "        print(line)"
   ]
  },
  {
   "cell_type": "code",
   "execution_count": null,
   "metadata": {
    "collapsed": true
   },
   "outputs": [],
   "source": [
    "class NonPositiveError(Exception):\n",
    "    pass\n",
    "\n",
    "class PositiveList(list):\n",
    "    def append():\n",
    "        if x <= 0:\n",
    "            raise NonPositiveError()\n",
    "        else:\n",
    "            super(PositiveList, self).append(x)"
   ]
  },
  {
   "cell_type": "code",
   "execution_count": null,
   "metadata": {},
   "outputs": [],
   "source": [
    "import datetime\n",
    "import string\n",
    "x, y, z = map(int, input().split())\n",
    "date1 = datetime.date(x, y, z)\n",
    "date2 = datetime.timedelta(days = int(input()))\n",
    "date1 += date2\n",
    "date1 = str(date1).replace(\"-\", \" \")\n",
    "print(date1)"
   ]
  },
  {
   "cell_type": "code",
   "execution_count": null,
   "metadata": {
    "collapsed": true
   },
   "outputs": [],
   "source": [
    "class multifilter:\n",
    "    def judge_half(pos, neg):\n",
    "        if pos >= neg:\n",
    "            yield\n",
    "\n",
    "    def judge_any(pos, neg):\n",
    "        if pos >= 1:\n",
    "            yield\n",
    "\n",
    "    def judge_all(pos, neg):\n",
    "        if neg == 0:\n",
    "            yield\n",
    "\n",
    "    def __init__(self, iterable, *funcs, judge=judge_any):\n",
    "        self.iterable = iterable\n",
    "        self.funcs = funcs\n",
    "        self.judge = judge\n",
    "        \n",
    "    def __iter__(self):\n",
    "        pos, neg = 0, 0\n",
    "        for j in self.funcs:\n",
    "            if j(self):\n",
    "                pos += 1\n",
    "            else:\n",
    "                neg += 1\n",
    "        self.judge(pos, neg)\n",
    "\n"
   ]
  },
  {
   "cell_type": "code",
   "execution_count": null,
   "metadata": {},
   "outputs": [],
   "source": [
    "def primes():\n",
    "    def isPrime(z): #функция, проверка на простоту (Простое ли число?) перебором\n",
    "        if (z == 1):\n",
    "            return False\n",
    "        d = 2\n",
    "        while (d * d <= z):\n",
    "            if (z % d == 0):\n",
    "                return False\n",
    "            d += 1\n",
    "        return True\n",
    "    x = 1\n",
    "    while True:\n",
    "        if isPrime(x):\n",
    "            yield x\n",
    "        x += 1\n"
   ]
  },
  {
   "cell_type": "code",
   "execution_count": null,
   "metadata": {
    "collapsed": true
   },
   "outputs": [],
   "source": [
    "def mod_checker(x, mod = 0):\n",
    "    return lambda y: x % y = mod "
   ]
  },
  {
   "cell_type": "code",
   "execution_count": null,
   "metadata": {},
   "outputs": [],
   "source": [
    "s, a, b = (input() for x in range(3))\n",
    "count = 0\n",
    "if a in s and a in b:\n",
    "        print(\"Impossible\")\n",
    "else:\n",
    "    while True:\n",
    "        if a in s:\n",
    "            s = s.replace(a, b)\n",
    "            count += 1\n",
    "        else:\n",
    "            break\n",
    "    print(count)"
   ]
  },
  {
   "cell_type": "code",
   "execution_count": null,
   "metadata": {},
   "outputs": [],
   "source": [
    "s, t = input(), input()\n",
    "count = 0\n",
    "for i in range(len(s)):\n",
    "    if s.startswith(t, i):\n",
    "        count += 1\n",
    "print(count)"
   ]
  },
  {
   "cell_type": "code",
   "execution_count": null,
   "metadata": {
    "collapsed": true
   },
   "outputs": [],
   "source": [
    "#найти cat 2 раза\n",
    "import sys\n",
    "import re\n",
    "\n",
    "pattern = r\"cat.*cat\"\n",
    "for line in sys.stdin:\n",
    "    line = line.rstrip()\n",
    "    match = re.search(pattern, line)\n",
    "    if match != None:\n",
    "        print(line)\n",
    "    "
   ]
  },
  {
   "cell_type": "code",
   "execution_count": null,
   "metadata": {
    "collapsed": true
   },
   "outputs": [],
   "source": [
    "#найти 2 z разделенные 3 символами\n",
    "import sys\n",
    "import re\n",
    "\n",
    "pattern = r\"z.{3}z\"\n",
    "for line in sys.stdin:\n",
    "    line = line.rstrip()\n",
    "    if re.search(pattern, line):\n",
    "        print(line)\n",
    "    "
   ]
  },
  {
   "cell_type": "code",
   "execution_count": null,
   "metadata": {
    "collapsed": true
   },
   "outputs": [],
   "source": [
    "#найти слеш\n",
    "import sys\n",
    "import re\n",
    "\n",
    "pattern = r\"\\\\\"\n",
    "for line in sys.stdin:\n",
    "    line = line.rstrip()\n",
    "    if re.search(pattern, line):\n",
    "        print(line)\n",
    "    "
   ]
  },
  {
   "cell_type": "code",
   "execution_count": null,
   "metadata": {
    "collapsed": true
   },
   "outputs": [],
   "source": [
    "#найти слово-повторюху\n",
    "import sys\n",
    "import re\n",
    "\n",
    "pattern = r\"\\b(\\w+)\\1\\b\"\n",
    "for line in sys.stdin:\n",
    "    line = line.rstrip()\n",
    "    if re.search(pattern, line):\n",
    "        print(line)\n",
    "    "
   ]
  },
  {
   "cell_type": "code",
   "execution_count": null,
   "metadata": {
    "collapsed": true
   },
   "outputs": [],
   "source": [
    "#замена человека на компуктер\n",
    "import sys\n",
    "import re\n",
    "\n",
    "pattern = r\"\\bhuman\\b\"\n",
    "for line in sys.stdin:\n",
    "    line = line.rstrip()\n",
    "    resub = re(pattern, \" computer \", line)\n",
    "    print(resub)\n",
    "    "
   ]
  },
  {
   "cell_type": "code",
   "execution_count": null,
   "metadata": {
    "collapsed": true
   },
   "outputs": [],
   "source": [
    "#много а на аргх\n",
    "import sys\n",
    "import re\n",
    "\n",
    "pattern = r\"\\b(A|a)+\\b\"\n",
    "for line in sys.stdin:\n",
    "    line = line.rstrip()\n",
    "    resub = re.sub(pattern, \"argh\", line, 1)\n",
    "    print(resub)\n",
    "    "
   ]
  },
  {
   "cell_type": "code",
   "execution_count": null,
   "metadata": {
    "collapsed": true
   },
   "outputs": [],
   "source": [
    "import sys\n",
    "import re\n",
    "\n",
    "pattern = r\"((\\w)\\1+)\"\n",
    "for line in sys.stdin:\n",
    "    line = line.rstrip()\n",
    "    resub = re.sub(pattern, r\"\\2\", line)\n",
    "    print(resub)\n",
    "    "
   ]
  },
  {
   "cell_type": "code",
   "execution_count": null,
   "metadata": {
    "collapsed": true
   },
   "outputs": [],
   "source": [
    "import sys\n",
    "import re\n",
    "\n",
    "pattern = r\"\\b(\\w)(\\w)(\\w*)\\b\"\n",
    "for line in sys.stdin:\n",
    "    line = line.rstrip()\n",
    "    resub = re.sub(pattern, r\"\\2\\1\\3\", line)\n",
    "    print(resub)"
   ]
  },
  {
   "cell_type": "code",
   "execution_count": null,
   "metadata": {},
   "outputs": [],
   "source": [
    "import requests\n",
    "import re\n",
    "\n",
    "def pars(k):\n",
    "    global pattern, listurls\n",
    "    f = requests.get(k)\n",
    "    if f.status_code != 200:\n",
    "        return []\n",
    "    listurls = re.findall(pattern, f.text)\n",
    "    for i in listurls:\n",
    "        i = re.sub(pattern, r\"\\1\", i)\n",
    "    return listurls\n",
    "\n",
    "a = input()\n",
    "b = input()\n",
    "x = \"No\"\n",
    "listurls = []\n",
    "count = 0\n",
    "pattern = r\"<a.*href=\\\"(.*)\\\".*</a>\"\n",
    "c = pars(a)\n",
    "for i in c and c:\n",
    "    if b in pars(i):\n",
    "        x = \"Yes\"\n",
    "        break\n",
    "print(x)"
   ]
  },
  {
   "cell_type": "code",
   "execution_count": 29,
   "metadata": {},
   "outputs": [
    {
     "name": "stdout",
     "output_type": "stream",
     "text": [
      "http://pastebin.com/raw/7543p0ns\n",
      "adworker.ru\n",
      "banner.rbc.ru\n",
      "biztorg.ru\n",
      "blogi.rbc.ru\n",
      "cnews.ru\n",
      "consensus.rbc.ru\n",
      "conv.rbc.ru\n",
      "credit.rbc.ru\n",
      "data.rbc.ru\n",
      "dict.rbc.ru\n",
      "drinktime.ru\n",
      "events.cnews.ru\n",
      "export.rbc.ru\n",
      "finolymp.ru\n",
      "gift.cnews.ru\n",
      "graph.rbc.ru\n",
      "magazine.rbc.ru\n",
      "map.rbc.ru\n",
      "marketing.rbc.ru\n",
      "memori.ru\n",
      "otc-pif.rbc.ru\n",
      "otc-stock.rbc.ru\n",
      "pda.rbc.ru\n",
      "pogoda.rbc.ru\n",
      "portfolio.rbc.ru\n",
      "quote-otc.rbc.ru\n",
      "quote.ru\n",
      "raiting.rbc.ru\n",
      "rating.rbc.ru\n",
      "realty.rbc.ru\n",
      "redir.rbc.ru\n",
      "rss.rbc.ru\n",
      "seminar.rbc.ru\n",
      "spb.rbc.ru\n",
      "sport.rbc.ru\n",
      "static.feed.rbc.ru\n",
      "stock.rbc.ru\n",
      "style.rbc.ru\n",
      "ta.rbc.ru\n",
      "tata.ru\n",
      "top.rbc.ru\n",
      "top100.rambler.ru\n",
      "turbo.ru\n",
      "tv.rbc.ru\n",
      "ug.rbc.ru\n",
      "ulov-umov.ru\n",
      "videoarchive.rbc.ru\n",
      "www.5ballov.ru\n",
      "www.armd.ru\n",
      "www.autonews.ru\n",
      "www.biztorg.ru\n",
      "www.cnews.ru\n",
      "www.conf.rbc.ru\n",
      "www.event.rbc.ru\n",
      "www.iglobe.ru\n",
      "www.informer.ru\n",
      "www.ivd.ru\n",
      "www.liveinternet.ru\n",
      "www.m-2.ru\n",
      "www.nashidengi.ru\n",
      "www.pochta.ru\n",
      "www.quote.ru\n",
      "www.quoterate.ru\n",
      "www.quotetotal.ru\n",
      "www.rbc.ru\n",
      "www.rbc.ua\n",
      "www.rbcdaily.ru\n",
      "www.rbcinfosystems.com\n",
      "www.rbcnews.com\n",
      "www.rbctv.ru\n",
      "www.refunder.ru\n",
      "www.salon.ru\n",
      "www.seminar.rbc.ru\n",
      "www.top.rbc.ru\n",
      "www.turbo.ru\n",
      "www.turist.ru\n",
      "www.utro.ru\n",
      "www.worldclass.ru\n",
      "zoom.cnews.ru\n"
     ]
    }
   ],
   "source": [
    "import requests\n",
    "import re\n",
    "\n",
    "\n",
    "f = requests.get(input())\n",
    "pattern = r\"<a.*?href=(?:\\\"|\\')?(?:.*?:\\/\\/)?(\\w(?:\\w|\\d|\\.|\\-)*)\"\n",
    "listurls = re.findall(pattern, f.text)\n",
    "ans = set()\n",
    "for i in listurls:\n",
    "    ans.add(i)\n",
    "ans = list(ans)\n",
    "ans.sort()\n",
    "for i in ans:\n",
    "    print(i)"
   ]
  },
  {
   "cell_type": "code",
   "execution_count": null,
   "metadata": {
    "collapsed": true
   },
   "outputs": [],
   "source": []
  }
 ],
 "metadata": {
  "kernelspec": {
   "display_name": "Python 3",
   "language": "python",
   "name": "python3"
  },
  "language_info": {
   "codemirror_mode": {
    "name": "ipython",
    "version": 3
   },
   "file_extension": ".py",
   "mimetype": "text/x-python",
   "name": "python",
   "nbconvert_exporter": "python",
   "pygments_lexer": "ipython3",
   "version": "3.6.4"
  }
 },
 "nbformat": 4,
 "nbformat_minor": 2
}
