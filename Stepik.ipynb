{
 "cells": [
  {
   "cell_type": "code",
   "execution_count": null,
   "metadata": {
    "collapsed": false
   },
   "outputs": [],
   "source": [
    "a = int(input())\n",
    "b = int(input())\n",
    "c = int(input())\n",
    "p = (a + b + c) / 2\n",
    "print((p * (p - a) * (p - b) * (p - c)) ** 0.5)\n"
   ]
  },
  {
   "cell_type": "code",
   "execution_count": null,
   "metadata": {
    "collapsed": true
   },
   "outputs": [],
   "source": [
    "a = int(input())\n",
    "print(-15 < a <= 12 or 14 < a < 17 or 19 <= a)\n"
   ]
  },
  {
   "cell_type": "code",
   "execution_count": null,
   "metadata": {
    "collapsed": true
   },
   "outputs": [],
   "source": [
    "a = float(input())\n",
    "b = float(input())\n",
    "c = input()\n",
    "if c == \"+\":\n",
    "    print(a + b)\n",
    "elif c == \"-\":\n",
    "    print(a - b)\n",
    "elif c == \"*\":\n",
    "    print(a * b)\n",
    "elif c == \"/\":\n",
    "    if b != 0:\n",
    "        print(a / b)\n",
    "    else:\n",
    "        print(\"Деление на 0!\")\n",
    "elif c == \"mod\" or \"%\":\n",
    "    if b != 0:\n",
    "        print(int(a) % int(b))\n",
    "    else:\n",
    "        print(\"Деление на 0!\")\n",
    "elif c == \"div\" or \"//\":\n",
    "    print(int(a) // int(b))\n",
    "elif c == \"**\" or \"pow\":\n",
    "    print(a ** b)"
   ]
  },
  {
   "cell_type": "code",
   "execution_count": null,
   "metadata": {
    "collapsed": true
   },
   "outputs": [],
   "source": [
    "a = input()\n",
    "if a == \"треугольник\":\n",
    "    b = int(input())\n",
    "    c = int(input())\n",
    "    d = int(input())\n",
    "    p = (b + c + d) / 2\n",
    "    print((p * (p - b) * (p - c) * (p - d)) ** 0.5)\n",
    "elif a == \"прямоугольник\":\n",
    "    b = int(input())\n",
    "    c = int(input())\n",
    "    print(b * c)\n",
    "elif a == \"круг\":\n",
    "    b = int(input())\n",
    "    print((b ** 2) * 3.14)\n"
   ]
  },
  {
   "cell_type": "code",
   "execution_count": null,
   "metadata": {
    "collapsed": false
   },
   "outputs": [],
   "source": [
    "a = int(input())\n",
    "b = int(input())\n",
    "c = int(input())\n",
    "max = a\n",
    "if b >= a and b >= c:\n",
    "    max = b\n",
    "elif c >= b and c >=a:\n",
    "    max = c\n",
    "min = a\n",
    "if b <= a and b <= c:\n",
    "    min = b\n",
    "elif c <= a and c <= b:\n",
    "    min = c\n",
    "s = a + b + c - min - max\n",
    "print(max, min, s, sep = \"\\n\")\n",
    "\n",
    "\n",
    "\n"
   ]
  },
  {
   "cell_type": "code",
   "execution_count": null,
   "metadata": {
    "collapsed": false
   },
   "outputs": [],
   "source": [
    "a = int(input())\n",
    "b = ['программист', 'программиста', 'программистов']\n",
    "c = [10, 11, 12, 13, 14, 15, 16, 17, 18, 19]\n",
    "d = [2, 3, 4]\n",
    "if 0 <= a <= 1000:\n",
    "    if a % 100 in c:\n",
    "        print(a, b[2])\n",
    "    elif a % 10 in d:\n",
    "        print(a, b[1])\n",
    "    elif a % 10 == 1:\n",
    "        print(a, b[0])\n",
    "    else:\n",
    "        print(a, b[2])"
   ]
  },
  {
   "cell_type": "code",
   "execution_count": null,
   "metadata": {
    "collapsed": false
   },
   "outputs": [],
   "source": [
    "a = input()\n",
    "print(\"Счастливый\" if (int(a[0]) + int(a[1]) + int(a[2])) == (int(a[3]) + int(a[4]) + int(a[5])) else \"Обычный\" )"
   ]
  },
  {
   "cell_type": "code",
   "execution_count": null,
   "metadata": {
    "collapsed": false
   },
   "outputs": [],
   "source": [
    "i = 0\n",
    "while i <= 10:\n",
    "    i = i + 1\n",
    "    if i > 7:\n",
    "        i = i + 2\n",
    "        print(i)"
   ]
  },
  {
   "cell_type": "code",
   "execution_count": null,
   "metadata": {
    "collapsed": false
   },
   "outputs": [],
   "source": [
    "i = int(input())\n",
    "s = 0\n",
    "while i != 0:\n",
    "    s += i\n",
    "    i = int(input())\n",
    "print(s)\n"
   ]
  },
  {
   "cell_type": "code",
   "execution_count": null,
   "metadata": {
    "collapsed": false
   },
   "outputs": [],
   "source": [
    "a = int(input())\n",
    "b = int(input())\n",
    "d = 1\n",
    "while not (d % a == 0 and d % b == 0):\n",
    "    d += 1\n",
    "print(d)"
   ]
  },
  {
   "cell_type": "code",
   "execution_count": null,
   "metadata": {
    "collapsed": false
   },
   "outputs": [],
   "source": [
    "i = 0\n",
    "while i < 100:\n",
    "    i = int(input())\n",
    "    if i < 10:\n",
    "        continue\n",
    "    if i > 100:\n",
    "        break\n",
    "    print(i)"
   ]
  },
  {
   "cell_type": "code",
   "execution_count": null,
   "metadata": {
    "collapsed": false
   },
   "outputs": [],
   "source": [
    "a, b, c, d = (int(input()) for x in range(4))\n",
    "print(\"    \", end = '\\t')\n",
    "for j in range(c, d + 1):\n",
    "    print(j, end = \"\\t\")\n",
    "print()\n",
    "for i in range(a, b + 1):\n",
    "    print(i, end = \"\\t\")\n",
    "    for j in range(c, d + 1):\n",
    "        print(i * j, end = \"\\t\")\n",
    "    print()\n"
   ]
  },
  {
   "cell_type": "code",
   "execution_count": null,
   "metadata": {
    "collapsed": false
   },
   "outputs": [],
   "source": [
    "a, b = (int(input()) for x in range(2))\n",
    "s = 0\n",
    "k = 0\n",
    "while a % 3:\n",
    "    a += 1\n",
    "for i in range(a, b + 1, 3):\n",
    "    s += i\n",
    "    k += 1\n",
    "print(s / (k))\n",
    "    "
   ]
  },
  {
   "cell_type": "code",
   "execution_count": null,
   "metadata": {
    "collapsed": false
   },
   "outputs": [],
   "source": [
    "gc = input().lower()\n",
    "g = 0\n",
    "c = 0\n",
    "g = gc.count(\"g\")\n",
    "c = gc.count(\"c\")\n",
    "print((g + c) / len(gc) * 100)"
   ]
  },
  {
   "cell_type": "code",
   "execution_count": null,
   "metadata": {
    "collapsed": false
   },
   "outputs": [],
   "source": [
    "s = 'abcdefghijk'\n",
    "s[3:6]\n",
    "s[:6]\n",
    "s[3:]\n",
    "s[::-1]\n",
    "s[-3:]\n",
    "s[:-6]\n",
    "s[-1:-10:-2]\n"
   ]
  },
  {
   "cell_type": "code",
   "execution_count": null,
   "metadata": {
    "collapsed": false
   },
   "outputs": [],
   "source": [
    "s = input()+ \" \"\n",
    "b = s[0]\n",
    "c = ''\n",
    "i = 0\n",
    "for j in range(0, (len(s))):\n",
    "    if b == s[j]:\n",
    "        i += 1\n",
    "    else:\n",
    "        c += b + str(i)\n",
    "        b = s[j]\n",
    "        i = 1\n",
    "        continue\n",
    "    j += 1\n",
    "print(c)"
   ]
  },
  {
   "cell_type": "code",
   "execution_count": null,
   "metadata": {
    "collapsed": false
   },
   "outputs": [],
   "source": [
    "a = (int(i) for i in input().split())\n",
    "print(sum(a))"
   ]
  },
  {
   "cell_type": "code",
   "execution_count": null,
   "metadata": {
    "collapsed": false
   },
   "outputs": [],
   "source": [
    "a = [int(i) for i in input().split()]\n",
    "b = a + [\" \"]\n",
    "for i in range(len(a)):\n",
    "    if len(a) == 1:\n",
    "        print(a[0])\n",
    "        break\n",
    "    if i + 1 == len(a):\n",
    "        b[i] = a[i - 1] + a[0]\n",
    "        print(b[i], end = ' ')\n",
    "        break\n",
    "    b[i] = a[i - 1] + a[i + 1]\n",
    "    print(b[i], end = ' ')"
   ]
  },
  {
   "cell_type": "code",
   "execution_count": null,
   "metadata": {
    "collapsed": false
   },
   "outputs": [],
   "source": [
    "a = [int(i) for i in input().split()]\n",
    "l = list(set(a))\n",
    "for i in range(len(l)):\n",
    "    if a.count(l[i]) > 1:\n",
    "        print(l[i], end = \" \")"
   ]
  },
  {
   "cell_type": "code",
   "execution_count": null,
   "metadata": {
    "collapsed": false
   },
   "outputs": [],
   "source": [
    "n, m, k = (int(i) for i in input().split())  # чтение размеров поля и числа мин\n",
    "a = [[0 for j in range(m)] for i in range(n)]  # заполнение поля нулями\n",
    "for i in range(k):\n",
    "    row, col = (int(i) - 1 for i in input().split())\n",
    "    a[row][col] = -1  # расставляем мины\n",
    "for i in range(n):\n",
    "    for j in range(m):\n",
    "        if a[i][j] == 0:  # в этой клетке мины нет, поэтому считаем число мин вокруг\n",
    "            for di in range(-1, 2):\n",
    "                for dj in range(-1, 2):\n",
    "                    ai = i + di\n",
    "                    aj = j + dj\n",
    "                    # (ai, aj)\n",
    "                    if 0 <= ai < n and 0 <= aj < m and a[ai][aj] == -1:\n",
    "                        a[i][j] += 1\n",
    "# вывод результата\n",
    "for i in range(n):\n",
    "    for j in range(m):\n",
    "        if a[i][j] == -1:\n",
    "            print('*', end=' ')\n",
    "        elif a[i][j] == 0:\n",
    "            print('.', end=' ')\n",
    "        else:\n",
    "            print(a[i][j], end=' ')\n",
    "    print()"
   ]
  },
  {
   "cell_type": "code",
   "execution_count": null,
   "metadata": {
    "collapsed": false
   },
   "outputs": [],
   "source": [
    "sq = 0\n",
    "s = 0\n",
    "while True: \n",
    "    a = int(input())\n",
    "    sq += a ** 2\n",
    "    s += a\n",
    "    if s == 0:\n",
    "        break\n",
    "print(sq)"
   ]
  },
  {
   "cell_type": "code",
   "execution_count": null,
   "metadata": {
    "collapsed": false
   },
   "outputs": [],
   "source": [
    "a, s, k, i = int(input()), [], 0, 1\n",
    "while True:\n",
    "    for j in range(i):\n",
    "        s.append(str(i))\n",
    "    i += 1\n",
    "    k += 1\n",
    "    if k == a:\n",
    "        break\n",
    "print(*s[:a])"
   ]
  },
  {
   "cell_type": "code",
   "execution_count": null,
   "metadata": {
    "collapsed": false
   },
   "outputs": [],
   "source": [
    "a = [int(i) for i in input().split()]\n",
    "x = int(input())\n",
    "if not x in a:\n",
    "    print(\"Отсутствует\")\n",
    "for i in range(len(a)):\n",
    "    if x == a[i]:\n",
    "        print(i, end = \" \")"
   ]
  },
  {
   "cell_type": "code",
   "execution_count": null,
   "metadata": {
    "collapsed": false
   },
   "outputs": [],
   "source": [
    "a = []\n",
    "A = []\n",
    "while a != [\"end\"]:\n",
    "    a = input().split()\n",
    "    if a == [\"end\"]:\n",
    "        break\n",
    "    A += [a]\n",
    "m, n = len(A), len(A[0])\n",
    "B = [[0] * n for i in range(m)]\n",
    "for i in range(m):\n",
    "    for j in range(n):\n",
    "        for d in [-1, 1]:\n",
    "            B[i][j] += int(A[int((i + d) % m) ][j]) + int(A[i][int((j + d) % n)])\n",
    "for i in range(m):\n",
    "    for j in range(n):\n",
    "        print(B[i][j], end = \" \")\n",
    "    print()"
   ]
  },
  {
   "cell_type": "code",
   "execution_count": 2,
   "metadata": {
    "collapsed": false
   },
   "outputs": [
    {
     "name": "stdout",
     "output_type": "stream",
     "text": [
      "5\n"
     ]
    },
    {
     "ename": "IndexError",
     "evalue": "list index out of range",
     "output_type": "error",
     "traceback": [
      "\u001b[0;31m---------------------------------------------------------------------------\u001b[0m",
      "\u001b[0;31mIndexError\u001b[0m                                Traceback (most recent call last)",
      "\u001b[0;32m<ipython-input-2-63112f934aee>\u001b[0m in \u001b[0;36m<module>\u001b[0;34m()\u001b[0m\n\u001b[1;32m     36\u001b[0m             \u001b[0mdirect\u001b[0m \u001b[1;33m=\u001b[0m \u001b[1;36m3\u001b[0m\u001b[1;33m\u001b[0m\u001b[0m\n\u001b[1;32m     37\u001b[0m             \u001b[1;32mcontinue\u001b[0m\u001b[1;33m\u001b[0m\u001b[0m\n\u001b[0;32m---> 38\u001b[0;31m         \u001b[1;32mif\u001b[0m \u001b[0mA\u001b[0m\u001b[1;33m[\u001b[0m\u001b[0mx\u001b[0m\u001b[1;33m]\u001b[0m\u001b[1;33m[\u001b[0m\u001b[0my\u001b[0m\u001b[1;33m]\u001b[0m \u001b[1;33m!=\u001b[0m \u001b[1;36m0\u001b[0m\u001b[1;33m:\u001b[0m\u001b[1;33m\u001b[0m\u001b[0m\n\u001b[0m\u001b[1;32m     39\u001b[0m             \u001b[0my\u001b[0m \u001b[1;33m-=\u001b[0m \u001b[1;36m1\u001b[0m\u001b[1;33m\u001b[0m\u001b[0m\n\u001b[1;32m     40\u001b[0m             \u001b[1;32mcontinue\u001b[0m\u001b[1;33m\u001b[0m\u001b[0m\n",
      "\u001b[0;31mIndexError\u001b[0m: list index out of range"
     ]
    }
   ],
   "source": [
    "n = int(input())\n",
    "A = [[0] * n for i in range(n)]\n",
    "x, y = 0, 0\n",
    "direct = 0\n",
    "gen = 1\n",
    "stay = True\n",
    "while stay:\n",
    "    stay = False\n",
    "    x = 0\n",
    "    y = 0\n",
    "    while direct == 0:\n",
    "        if y + 1 == n:\n",
    "            direct = 1\n",
    "            continue\n",
    "        if A[x][y] != 0:\n",
    "            y += 1\n",
    "            continue\n",
    "        A[x][y] = gen\n",
    "        y += 1\n",
    "        gen += 1\n",
    "        stay = True\n",
    "    while direct == 1:\n",
    "        if x + 1 == n:\n",
    "            direct = 2\n",
    "            continue\n",
    "        if A[x][y] != 0:\n",
    "            x += 1\n",
    "            continue\n",
    "        A[x][y] = gen\n",
    "        x += 1\n",
    "        gen += 1\n",
    "        stay = True\n",
    "    while direct == 2:\n",
    "        if y == 0:\n",
    "            direct = 3\n",
    "            continue\n",
    "        if A[x][y] != 0:\n",
    "            y -= 1\n",
    "            continue\n",
    "        A[x][y] = gen\n",
    "        y -= 1\n",
    "        gen += 1\n",
    "        stay = True\n",
    "    while direct == 3:\n",
    "        if x == 0:\n",
    "            direct = 0\n",
    "            continue\n",
    "        if A[x][y] != 0:\n",
    "            x -= 1\n",
    "            continue\n",
    "        A[x][y] = gen\n",
    "        x -= 1\n",
    "        gen += 1\n",
    "        stay = True          \n",
    "for i in range(n):\n",
    "    for j in range(n):\n",
    "        print(A[i][j], end = \" \")\n",
    "    print()"
   ]
  },
  {
   "cell_type": "code",
   "execution_count": null,
   "metadata": {
    "collapsed": true
   },
   "outputs": [],
   "source": [
    "def f(x):\n",
    "    res = 0\n",
    "    if x <= -2:\n",
    "        res = 1 - (x - 2) ** 2\n",
    "    elif -2 < x <= 2:\n",
    "        res = - x / 2\n",
    "    elif x > 2:\n",
    "        res = (x - 2) ** 2 + 1\n",
    "    return(res)"
   ]
  },
  {
   "cell_type": "code",
   "execution_count": null,
   "metadata": {
    "collapsed": false
   },
   "outputs": [],
   "source": [
    "def modify_list(l):\n",
    "    t = 0\n",
    "    for i in range(len(l) - 1, -1, -1):\n",
    "        if l[i] % 2:\n",
    "            l.remove(l[i])\n",
    "        elif l[i] % 2 == 0: \n",
    "            l[i] = l[i] // 2\n",
    "lst = [1, 2, 3, 4, 5, 6]\n",
    "print(modify_list(lst))  # None\n",
    "print(lst)               # [1, 2, 3]\n",
    "modify_list(lst)\n",
    "print(lst)               # [1]\n",
    "\n",
    "lst = [1, 3, 3, 5, 7]\n",
    "modify_list(lst)\n",
    "print(lst)               # [5, 4]"
   ]
  },
  {
   "cell_type": "code",
   "execution_count": null,
   "metadata": {
    "collapsed": false
   },
   "outputs": [],
   "source": [
    "def update_dictionary(d, key, value):\n",
    "    if key in d:\n",
    "        d[key] += [value]\n",
    "    elif 2 * key in d:\n",
    "        d[2 * key] += [value]\n",
    "    elif key not in d and 2* key not in d:\n",
    "        d[2 * key] = [value]\n",
    "d = {}\n",
    "print(update_dictionary(d, 1, -1))  # None\n",
    "print(d)                            # {2: [-1]}\n",
    "update_dictionary(d, 2, -2)\n",
    "print(d)                            # {2: [-1, -2]}\n",
    "update_dictionary(d, 1, -3)\n",
    "print(d)                            # {2: [-1, -2, -3]}\n",
    "            "
   ]
  },
  {
   "cell_type": "code",
   "execution_count": null,
   "metadata": {
    "collapsed": false
   },
   "outputs": [],
   "source": [
    "a = input().lower().split()\n",
    "d = {}\n",
    "for i in a:\n",
    "    d[i] = a.count(i)\n",
    "for key, value in d.items():\n",
    "    print(key, value)"
   ]
  },
  {
   "cell_type": "code",
   "execution_count": null,
   "metadata": {
    "collapsed": false
   },
   "outputs": [],
   "source": [
    "n = int(input())\n",
    "d = {}\n",
    "for i in range(n):\n",
    "    x = int(input())\n",
    "    if x in d:\n",
    "        print(d[x])\n",
    "    elif x not in d:\n",
    "        d[x] = f(x)\n",
    "        print(f(x))"
   ]
  },
  {
   "cell_type": "code",
   "execution_count": null,
   "metadata": {
    "collapsed": true
   },
   "outputs": [],
   "source": [
    "with open(\"dataset_3363_2.txt\", \"r\") as inf:\n",
    "\ts1 = inf.readline().strip()\n",
    "d = [\"1\", \"2\", \"3\", \"4\", \"5\", \"6\", \"7\", \"8\", \"9\", \"0\"]\n",
    "m = \"\"\n",
    "k = \"\"\n",
    "x = \"\"\n",
    "s1 += \" \"\n",
    "for i in range(len(s1)):\n",
    "\tif s1[i] not in d:\n",
    "\t\tx = s1[i]\n",
    "\telif s1[i] in d and s1[i + 1] in d:\n",
    "\t\tk += s1[i]\n",
    "\t\ti += 1\n",
    "\t\tcontinue\n",
    "\telif s1[i] in d and s1[i + 1] not in d:\n",
    "\t\tk += s1[i]\n",
    "\t\tm += x * int(k)\n",
    "\t\tk = \"\"\n",
    "\t\tx = \"\"\n",
    "with open(\"otv1.txt\", \"w\") as ouf:\n",
    "\touf.write(m)"
   ]
  },
  {
   "cell_type": "code",
   "execution_count": null,
   "metadata": {
    "collapsed": false
   },
   "outputs": [],
   "source": [
    "line = \"XZZ X cZba X UpZUdd bpcTcc TX pdZZ abYpcb X UbY UbY dYZTpa ZpUZpZ pYXX ZUppaaUbd YpZpXUcT pXYU UcZU bcdcbaX XTYd abYpcb XYpZaX bb dTbcpUbT UbY baZTZYaZZ ZaX \"\n",
    "cnt = 0\n",
    "maxcnt = 0\n",
    "word = \"\"\n",
    "word1 = \"\"\n",
    "word2 = \"\"\n",
    "for i in range(len(line)):\n",
    "    while line[i] != \" \":\n",
    "        word1 += line[i]\n",
    "        i += 1\n",
    "    for j in range(len(line)):\n",
    "        while line[j] != \" \":\n",
    "            word2 += line[j]\n",
    "            j += 1\n",
    "        if word1 == word2:\n",
    "            cnt += 1\n",
    "            if cnt > maxcnt:\n",
    "                maxcnt = cnt\n",
    "                word = word2\n",
    "        word2 = \"\"\n",
    "        j += 1\n",
    "    cnt = 0\n",
    "s = str(word) + \" \" + str(maxcnt)\n",
    "print(s)"
   ]
  },
  {
   "cell_type": "code",
   "execution_count": null,
   "metadata": {
    "collapsed": false
   },
   "outputs": [],
   "source": [
    "line = \"ZTcTZTpY UXUX bcbZXdX ZZaZpTcZ bcbZXdX UUa UXUX ZTcTZTpY ZZaZpTcZ UXUX XZaTXXbd UXUX dYT paZUZ ZZaZpTcZ dYT pdTdZd UXU UadUpZUdU YTbZbTb ZdUXXcUb YTbZbTb bTXXd YXZc UUa\"\n",
    "print(len(line))"
   ]
  },
  {
   "cell_type": "code",
   "execution_count": null,
   "metadata": {
    "collapsed": false
   },
   "outputs": [],
   "source": [
    "n = int(input())\n",
    "matches = []\n",
    "for i in range(n):\n",
    "    matches += [input().split(\";\")]\n",
    "for i in matches:\n",
    "    print(i)\n",
    "coms = {}\n",
    "wins = {}\n",
    "loses = {}\n",
    "draws = {}\n",
    "atall = {}\n",
    "for i in matches:\n",
    "    for j in (0, 2):\n",
    "        if i[j] not in coms:\n",
    "            coms[i[j]] = 0\n",
    "        if i[j] not in wins:\n",
    "            wins[i[j]] = 0\n",
    "        if i[j] not in loses:\n",
    "            loses[i[j]] = 0\n",
    "        if i[j] not in draws:\n",
    "            draws[i[j]] = 0\n",
    "        if i[j] not in atall:\n",
    "            atall[i[j]] = 0\n",
    "    if i[1] > i[3]:\n",
    "        coms[i[0]] += 1\n",
    "        coms[i[2]] += 1\n",
    "        wins[i[0]] += 1\n",
    "        atall[i[0]] += 3\n",
    "        loses[i[2]] += 1\n",
    "    elif i[1] == i[3]:\n",
    "        coms[i[0]] += 1\n",
    "        coms[i[2]] += 1\n",
    "        draws[i[0]] += 1\n",
    "        draws[i[2]] += 1\n",
    "        atall[i[0]] += 1\n",
    "        atall[i[2]] += 1\n",
    "    elif i[1] < i[3]:\n",
    "        coms[i[0]] += 1\n",
    "        coms[i[2]] += 1\n",
    "        wins[i[2]] += 1\n",
    "        atall[i[2]] += 3\n",
    "        loses[i[0]] += 1\n",
    "for i in coms:\n",
    "    print(str(i) + \":\" +str(coms[i]), wins[i], draws[i], loses[i], atall[i])"
   ]
  },
  {
   "cell_type": "code",
   "execution_count": null,
   "metadata": {
    "collapsed": false
   },
   "outputs": [],
   "source": [
    "s1, s2, b1, b2 = (input() for x in range(4))\n",
    "slov = dict(zip(s1, s2))\n",
    "slov2 = dict(zip(s2, s1))\n",
    "for i in b1:\n",
    "    print(slov[i], sep = \"\", end = \"\")\n",
    "print()\n",
    "for j in b2:\n",
    "    print(slov2[j], sep = \"\", end = \"\")\n"
   ]
  },
  {
   "cell_type": "code",
   "execution_count": null,
   "metadata": {
    "collapsed": false
   },
   "outputs": [],
   "source": [
    "slov = {input().lower() for i in range(int(input()))}\n",
    "list1 = []\n",
    "slovuse = {}\n",
    "for i in range((int(input()))):\n",
    "    list1 += (input().lower().split())\n",
    "for i in list1:\n",
    "    if i not in slov:\n",
    "        if i not in slovuse:\n",
    "            slovuse[i] = 0\n",
    "        slovuse[i] += 1\n",
    "        if slovuse[i] < 2:\n",
    "            print(i)"
   ]
  },
  {
   "cell_type": "code",
   "execution_count": null,
   "metadata": {
    "collapsed": true
   },
   "outputs": [],
   "source": [
    "n = int(input())\n",
    "x, y = 0, 0\n",
    "while j <= n:\n",
    "    text = input().split()\n",
    "    if text[0] == \"север\":\n",
    "        y += int(text[1])\n",
    "    elif text[0] == \"юг\":\n",
    "        y -= int(text[1])\n",
    "    elif text[0] == \"запад\":\n",
    "        x -= int(text[1])\n",
    "    elif text[0] == \"восток\":\n",
    "        x += int(text[1])\n",
    "print(x, y)"
   ]
  },
  {
   "cell_type": "code",
   "execution_count": 3,
   "metadata": {
    "collapsed": false
   },
   "outputs": [
    {
     "data": {
      "text/plain": [
       "2"
      ]
     },
     "execution_count": 3,
     "metadata": {},
     "output_type": "execute_result"
    }
   ],
   "source": [
    "5 // 2"
   ]
  },
  {
   "cell_type": "code",
   "execution_count": 4,
   "metadata": {
    "collapsed": false
   },
   "outputs": [
    {
     "data": {
      "text/plain": [
       "1346269"
      ]
     },
     "execution_count": 4,
     "metadata": {},
     "output_type": "execute_result"
    }
   ],
   "source": [
    "fib = lambda x : 1 if x <= 2 else fib(x - 1) + fib(x - 2)\n",
    "fib(31)"
   ]
  },
  {
   "cell_type": "code",
   "execution_count": null,
   "metadata": {
    "collapsed": false
   },
   "outputs": [],
   "source": [
    "n = int(input())\n",
    "s = 0\n",
    "for i in range(n):\n",
    "    s += int(input())\n",
    "print(s)"
   ]
  },
  {
   "cell_type": "code",
   "execution_count": 1,
   "metadata": {
    "collapsed": false
   },
   "outputs": [
    {
     "name": "stdout",
     "output_type": "stream",
     "text": [
      "2018767787464\n",
      "2018767762696\n",
      "<class 'int'>\n"
     ]
    }
   ],
   "source": [
    "x = [1, 2, 3]\n",
    "print(id(x))\n",
    "print(id([1, 2, 3]))\n",
    "print(type(id(x)))"
   ]
  },
  {
   "cell_type": "code",
   "execution_count": null,
   "metadata": {
    "collapsed": true
   },
   "outputs": [],
   "source": []
  }
 ],
 "metadata": {
  "kernelspec": {
   "display_name": "Python 3",
   "language": "python",
   "name": "python3"
  },
  "language_info": {
   "codemirror_mode": {
    "name": "ipython",
    "version": 3
   },
   "file_extension": ".py",
   "mimetype": "text/x-python",
   "name": "python",
   "nbconvert_exporter": "python",
   "pygments_lexer": "ipython3",
   "version": "3.5.3"
  }
 },
 "nbformat": 4,
 "nbformat_minor": 2
}
