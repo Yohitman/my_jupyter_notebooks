{
 "cells": [
  {
   "cell_type": "code",
   "execution_count": 9,
   "metadata": {
    "collapsed": false
   },
   "outputs": [
    {
     "name": "stdout",
     "output_type": "stream",
     "text": [
      "5000\n",
      "1249\n"
     ]
    }
   ],
   "source": [
    "x = int(input())\n",
    "count = 0\n",
    "for i in range(x + 1):\n",
    "    if not i % 5 and i:\n",
    "        a = i\n",
    "        while not a % 5:\n",
    "                count += 1\n",
    "                if a <= 1 :\n",
    "                    break\n",
    "                a /= 5\n",
    "print(count)\n",
    "                \n",
    "                \n",
    "            \n",
    "        "
   ]
  },
  {
   "cell_type": "code",
   "execution_count": 15,
   "metadata": {
    "collapsed": false
   },
   "outputs": [
    {
     "name": "stdout",
     "output_type": "stream",
     "text": [
      "map(func, *iterables) --> map object\n",
      "\n",
      "Make an iterator that computes the function using arguments from\n",
      "each of the iterables.  Stops when the shortest iterable is exhausted.\n"
     ]
    }
   ],
   "source": [
    "print(map.__doc__)"
   ]
  },
  {
   "cell_type": "code",
   "execution_count": 26,
   "metadata": {
    "collapsed": false
   },
   "outputs": [
    {
     "name": "stdout",
     "output_type": "stream",
     "text": [
      "8.1.13.41\n",
      "8.1.009.125\n",
      "8.1.9.125\n"
     ]
    }
   ],
   "source": [
    "x = list(map(int, input().split(\".\")))\n",
    "y = list(map(int, input().split(\".\")))\n",
    "for i in range(4):\n",
    "    if x[i] == y[i]:\n",
    "        continue\n",
    "    elif x[i] > y[i]:\n",
    "        print(\".\".join([str(j) for j in y]))\n",
    "        break\n",
    "    elif x[i] < y[i]:\n",
    "        print(\".\".join([str(j) for j in x]))\n",
    "        break\n",
    "\n"
   ]
  },
  {
   "cell_type": "markdown",
   "metadata": {},
   "source": [
    "##### "
   ]
  }
 ],
 "metadata": {
  "kernelspec": {
   "display_name": "Python 3",
   "language": "python",
   "name": "python3"
  },
  "language_info": {
   "codemirror_mode": {
    "name": "ipython",
    "version": 3
   },
   "file_extension": ".py",
   "mimetype": "text/x-python",
   "name": "python",
   "nbconvert_exporter": "python",
   "pygments_lexer": "ipython3",
   "version": "3.5.3"
  }
 },
 "nbformat": 4,
 "nbformat_minor": 2
}
